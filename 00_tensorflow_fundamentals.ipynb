{
  "nbformat": 4,
  "nbformat_minor": 0,
  "metadata": {
    "colab": {
      "provenance": [],
      "toc_visible": true,
      "authorship_tag": "ABX9TyNqNF058fk6berkVPFsfYB3",
      "include_colab_link": true
    },
    "kernelspec": {
      "name": "python3",
      "display_name": "Python 3"
    },
    "language_info": {
      "name": "python"
    }
  },
  "cells": [
    {
      "cell_type": "markdown",
      "metadata": {
        "id": "view-in-github",
        "colab_type": "text"
      },
      "source": [
        "<a href=\"https://colab.research.google.com/github/masrik-dev/Deep-Learning-with-TensorFlow-and-Python/blob/main/00_tensorflow_fundamentals.ipynb\" target=\"_parent\"><img src=\"https://colab.research.google.com/assets/colab-badge.svg\" alt=\"Open In Colab\"/></a>"
      ]
    },
    {
      "cell_type": "markdown",
      "source": [
        "# In this notebook, we're going to cover some of the most fundamental concepts of tensors using TensorFlow\n",
        "\n",
        "More specifically, we're going to cover:\n",
        "* Introduction to tensors\n",
        "* Getting information from tensors\n",
        "* Manipulating tensors\n",
        "* Tensors & NumPy\n",
        "* Using @tf.function (a way to speed up your regular Python functions)\n",
        "* Using GPUs with TensorFlow (or TPUs)\n",
        "* Exercises to try"
      ],
      "metadata": {
        "id": "NLCn3Ds9IwLI"
      }
    },
    {
      "cell_type": "markdown",
      "source": [
        "# Introduction to Tensors"
      ],
      "metadata": {
        "id": "XGaf9M4FMxK0"
      }
    },
    {
      "cell_type": "code",
      "source": [
        "# Import TensorFlow\n",
        "import tensorflow as tf\n",
        "print(tf.__version__)"
      ],
      "metadata": {
        "colab": {
          "base_uri": "https://localhost:8080/"
        },
        "id": "_RHOVVq_NjQF",
        "outputId": "9880e015-e7b6-4d78-8464-01206fdab530"
      },
      "execution_count": 3,
      "outputs": [
        {
          "output_type": "stream",
          "name": "stdout",
          "text": [
            "2.18.0\n"
          ]
        }
      ]
    },
    {
      "cell_type": "code",
      "source": [
        "# Create tensors with tf.constant()\n",
        "scalar = tf.constant(7)\n",
        "scalar"
      ],
      "metadata": {
        "colab": {
          "base_uri": "https://localhost:8080/"
        },
        "id": "r2L44eP6NuXh",
        "outputId": "882c5ace-8fac-4c18-c7e0-e45d261f35a2"
      },
      "execution_count": null,
      "outputs": [
        {
          "output_type": "execute_result",
          "data": {
            "text/plain": [
              "<tf.Tensor: shape=(), dtype=int32, numpy=7>"
            ]
          },
          "metadata": {},
          "execution_count": 3
        }
      ]
    },
    {
      "cell_type": "code",
      "source": [
        "# Check the number or dimensions of a tensor (ndim stands for number of dimensions)\n",
        "scalar.ndim"
      ],
      "metadata": {
        "colab": {
          "base_uri": "https://localhost:8080/"
        },
        "id": "DzD0uIsaT9WE",
        "outputId": "47f981c8-5900-4750-f98c-a15133b9928d"
      },
      "execution_count": null,
      "outputs": [
        {
          "output_type": "execute_result",
          "data": {
            "text/plain": [
              "0"
            ]
          },
          "metadata": {},
          "execution_count": 4
        }
      ]
    },
    {
      "cell_type": "code",
      "source": [
        "# Create a vector\n",
        "vector = tf.constant([10, 10])\n",
        "vector"
      ],
      "metadata": {
        "colab": {
          "base_uri": "https://localhost:8080/"
        },
        "id": "Yev9MHOpUhJS",
        "outputId": "4fa0efdd-d92c-4ca2-9b8a-4b33844a788c"
      },
      "execution_count": null,
      "outputs": [
        {
          "output_type": "execute_result",
          "data": {
            "text/plain": [
              "<tf.Tensor: shape=(2,), dtype=int32, numpy=array([10, 10], dtype=int32)>"
            ]
          },
          "metadata": {},
          "execution_count": 5
        }
      ]
    },
    {
      "cell_type": "code",
      "source": [
        "# Check the dimension of our vector\n",
        "vector.ndim"
      ],
      "metadata": {
        "colab": {
          "base_uri": "https://localhost:8080/"
        },
        "id": "evx77faXUyiM",
        "outputId": "89c470c1-5d04-498c-f407-30140991f8c0"
      },
      "execution_count": null,
      "outputs": [
        {
          "output_type": "execute_result",
          "data": {
            "text/plain": [
              "1"
            ]
          },
          "metadata": {},
          "execution_count": 6
        }
      ]
    },
    {
      "cell_type": "code",
      "source": [
        "# Create a matrix (has more than 1 dimension)\n",
        "matrix = tf.constant([[10, 7],\n",
        "                      [7, 10]])\n",
        "matrix"
      ],
      "metadata": {
        "colab": {
          "base_uri": "https://localhost:8080/"
        },
        "id": "gkdAoyRJU8EE",
        "outputId": "fa484a05-b6bc-46b1-b84f-021ed03d2e48"
      },
      "execution_count": 3,
      "outputs": [
        {
          "output_type": "execute_result",
          "data": {
            "text/plain": [
              "<tf.Tensor: shape=(2, 2), dtype=int32, numpy=\n",
              "array([[10,  7],\n",
              "       [ 7, 10]], dtype=int32)>"
            ]
          },
          "metadata": {},
          "execution_count": 3
        }
      ]
    },
    {
      "cell_type": "code",
      "source": [
        "matrix.ndim"
      ],
      "metadata": {
        "colab": {
          "base_uri": "https://localhost:8080/"
        },
        "id": "NngfWBn55D5N",
        "outputId": "afeedc4d-13e1-487a-9f68-2d8b3f31e74b"
      },
      "execution_count": 4,
      "outputs": [
        {
          "output_type": "execute_result",
          "data": {
            "text/plain": [
              "2"
            ]
          },
          "metadata": {},
          "execution_count": 4
        }
      ]
    },
    {
      "cell_type": "code",
      "source": [
        "# Create another matrix\n",
        "another_matrix = tf.constant([[10., 7.],\n",
        "                              [3., 2.],\n",
        "                              [8., 9.]], dtype=tf.float16) #specify the data type with dtype parameter.\n",
        "another_matrix"
      ],
      "metadata": {
        "colab": {
          "base_uri": "https://localhost:8080/"
        },
        "id": "eDa7lSaU5YQH",
        "outputId": "127a03d3-9702-4f86-b867-2f569b823144"
      },
      "execution_count": 5,
      "outputs": [
        {
          "output_type": "execute_result",
          "data": {
            "text/plain": [
              "<tf.Tensor: shape=(3, 2), dtype=float16, numpy=\n",
              "array([[10.,  7.],\n",
              "       [ 3.,  2.],\n",
              "       [ 8.,  9.]], dtype=float16)>"
            ]
          },
          "metadata": {},
          "execution_count": 5
        }
      ]
    },
    {
      "cell_type": "code",
      "source": [
        "# What's the number dimensions of another)matrix?\n",
        "another_matrix.ndim"
      ],
      "metadata": {
        "colab": {
          "base_uri": "https://localhost:8080/"
        },
        "id": "kYuCu8L06gmB",
        "outputId": "6b258743-0214-43cc-e297-06ff23f72e8b"
      },
      "execution_count": 6,
      "outputs": [
        {
          "output_type": "execute_result",
          "data": {
            "text/plain": [
              "2"
            ]
          },
          "metadata": {},
          "execution_count": 6
        }
      ]
    },
    {
      "cell_type": "code",
      "source": [
        "# Let's create a tensor\n",
        "tensor = tf.constant([[[1, 2, 3,],\n",
        "                      [4, 5, 6]],\n",
        "                     [[7, 8, 9],\n",
        "                      [10, 11, 12]],\n",
        "                     [[13, 14, 15],\n",
        "                      [16, 17, 18]]])\n",
        "tensor"
      ],
      "metadata": {
        "colab": {
          "base_uri": "https://localhost:8080/"
        },
        "id": "xlZNXkYq6xhK",
        "outputId": "0b3e3365-770e-41a0-a7ce-a6db5c262f0b"
      },
      "execution_count": 7,
      "outputs": [
        {
          "output_type": "execute_result",
          "data": {
            "text/plain": [
              "<tf.Tensor: shape=(3, 2, 3), dtype=int32, numpy=\n",
              "array([[[ 1,  2,  3],\n",
              "        [ 4,  5,  6]],\n",
              "\n",
              "       [[ 7,  8,  9],\n",
              "        [10, 11, 12]],\n",
              "\n",
              "       [[13, 14, 15],\n",
              "        [16, 17, 18]]], dtype=int32)>"
            ]
          },
          "metadata": {},
          "execution_count": 7
        }
      ]
    },
    {
      "cell_type": "code",
      "source": [
        "tensor.ndim"
      ],
      "metadata": {
        "colab": {
          "base_uri": "https://localhost:8080/"
        },
        "id": "8gYhCn337xlm",
        "outputId": "cdc39284-5f64-454d-b73b-caa5a3429d43"
      },
      "execution_count": 8,
      "outputs": [
        {
          "output_type": "execute_result",
          "data": {
            "text/plain": [
              "3"
            ]
          },
          "metadata": {},
          "execution_count": 8
        }
      ]
    },
    {
      "cell_type": "markdown",
      "source": [
        "What we've created so far:\n",
        "* Scalar: a single number\n",
        "* Vector: a number with direction (e.g. wind speed and direction)\n",
        "* Matrix: a 2-dimensional array of numbers\n",
        "* Tensor: an n-dimensional array of numbers (where n can be any number, a 0-dimensional tensor is a scalar, a 1-dimensional tensor is a vector)\n"
      ],
      "metadata": {
        "id": "3Fd0Qx4I9Oqo"
      }
    },
    {
      "cell_type": "markdown",
      "source": [
        "# Creating tensors with tf.Variable"
      ],
      "metadata": {
        "id": "xM4EUiRKB5M1"
      }
    },
    {
      "cell_type": "code",
      "source": [
        "# Create the same tensor with tf.Variable() as above\n",
        "changeable_tensor = tf.Variable([10, 7])\n",
        "unchangeable_tensor = tf.constant([10, 7])\n",
        "changeable_tensor, unchangeable_tensor"
      ],
      "metadata": {
        "colab": {
          "base_uri": "https://localhost:8080/"
        },
        "id": "VR9L2ov-8CZW",
        "outputId": "e11a8af7-cc4f-481c-fdd6-3827b34f2af9"
      },
      "execution_count": 4,
      "outputs": [
        {
          "output_type": "execute_result",
          "data": {
            "text/plain": [
              "(<tf.Variable 'Variable:0' shape=(2,) dtype=int32, numpy=array([10,  7], dtype=int32)>,\n",
              " <tf.Tensor: shape=(2,), dtype=int32, numpy=array([10,  7], dtype=int32)>)"
            ]
          },
          "metadata": {},
          "execution_count": 4
        }
      ]
    },
    {
      "cell_type": "code",
      "source": [
        "# Let's try change one of the elements in our chagneable tensor\n",
        "changeable_tensor[0] = 7\n",
        "changeable_tensor"
      ],
      "metadata": {
        "colab": {
          "base_uri": "https://localhost:8080/",
          "height": 176
        },
        "id": "R1cVQpHpBvVo",
        "outputId": "653c5b98-428f-47ec-fefc-0f5f0d38ad45"
      },
      "execution_count": 5,
      "outputs": [
        {
          "output_type": "error",
          "ename": "TypeError",
          "evalue": "'ResourceVariable' object does not support item assignment",
          "traceback": [
            "\u001b[0;31m---------------------------------------------------------------------------\u001b[0m",
            "\u001b[0;31mTypeError\u001b[0m                                 Traceback (most recent call last)",
            "\u001b[0;32m<ipython-input-5-201ed52af549>\u001b[0m in \u001b[0;36m<cell line: 0>\u001b[0;34m()\u001b[0m\n\u001b[1;32m      1\u001b[0m \u001b[0;31m# Let's try change one of the elements in our chagneable tensor\u001b[0m\u001b[0;34m\u001b[0m\u001b[0;34m\u001b[0m\u001b[0m\n\u001b[0;32m----> 2\u001b[0;31m \u001b[0mchangeable_tensor\u001b[0m\u001b[0;34m[\u001b[0m\u001b[0;36m0\u001b[0m\u001b[0;34m]\u001b[0m \u001b[0;34m=\u001b[0m \u001b[0;36m7\u001b[0m\u001b[0;34m\u001b[0m\u001b[0;34m\u001b[0m\u001b[0m\n\u001b[0m\u001b[1;32m      3\u001b[0m \u001b[0mchangeable_tensor\u001b[0m\u001b[0;34m\u001b[0m\u001b[0;34m\u001b[0m\u001b[0m\n",
            "\u001b[0;31mTypeError\u001b[0m: 'ResourceVariable' object does not support item assignment"
          ]
        }
      ]
    },
    {
      "cell_type": "code",
      "source": [
        "# How about we try .assign()\n",
        "changeable_tensor[0].assign(7)\n",
        "changeable_tensor"
      ],
      "metadata": {
        "colab": {
          "base_uri": "https://localhost:8080/"
        },
        "id": "iQOyfehKFSEU",
        "outputId": "e720603f-ed68-437d-eb40-d6afe1a6bf96"
      },
      "execution_count": 6,
      "outputs": [
        {
          "output_type": "execute_result",
          "data": {
            "text/plain": [
              "<tf.Variable 'Variable:0' shape=(2,) dtype=int32, numpy=array([7, 7], dtype=int32)>"
            ]
          },
          "metadata": {},
          "execution_count": 6
        }
      ]
    },
    {
      "cell_type": "code",
      "source": [
        "# Let's try change our unchangeable tensor\n",
        "unchangeable_tensor[0].assign(7)\n",
        "unchangeable_tensor"
      ],
      "metadata": {
        "colab": {
          "base_uri": "https://localhost:8080/",
          "height": 297
        },
        "id": "LtWaP_8FFmle",
        "outputId": "589bbe9e-cba4-4561-ddba-7a129f4a8e90"
      },
      "execution_count": 7,
      "outputs": [
        {
          "output_type": "error",
          "ename": "AttributeError",
          "evalue": "'tensorflow.python.framework.ops.EagerTensor' object has no attribute 'assign'",
          "traceback": [
            "\u001b[0;31m---------------------------------------------------------------------------\u001b[0m",
            "\u001b[0;31mAttributeError\u001b[0m                            Traceback (most recent call last)",
            "\u001b[0;32m<ipython-input-7-e5c33979885b>\u001b[0m in \u001b[0;36m<cell line: 0>\u001b[0;34m()\u001b[0m\n\u001b[1;32m      1\u001b[0m \u001b[0;31m# Let's try change our unchangeable tensor\u001b[0m\u001b[0;34m\u001b[0m\u001b[0;34m\u001b[0m\u001b[0m\n\u001b[0;32m----> 2\u001b[0;31m \u001b[0munchangeable_tensor\u001b[0m\u001b[0;34m[\u001b[0m\u001b[0;36m0\u001b[0m\u001b[0;34m]\u001b[0m\u001b[0;34m.\u001b[0m\u001b[0massign\u001b[0m\u001b[0;34m(\u001b[0m\u001b[0;36m7\u001b[0m\u001b[0;34m)\u001b[0m\u001b[0;34m\u001b[0m\u001b[0;34m\u001b[0m\u001b[0m\n\u001b[0m\u001b[1;32m      3\u001b[0m \u001b[0munchangeable_tensor\u001b[0m\u001b[0;34m\u001b[0m\u001b[0;34m\u001b[0m\u001b[0m\n",
            "\u001b[0;32m/usr/local/lib/python3.11/dist-packages/tensorflow/python/framework/tensor.py\u001b[0m in \u001b[0;36m__getattr__\u001b[0;34m(self, name)\u001b[0m\n\u001b[1;32m    258\u001b[0m         \u001b[0mtf\u001b[0m\u001b[0;34m.\u001b[0m\u001b[0mexperimental\u001b[0m\u001b[0;34m.\u001b[0m\u001b[0mnumpy\u001b[0m\u001b[0;34m.\u001b[0m\u001b[0mexperimental_enable_numpy_behavior\u001b[0m\u001b[0;34m(\u001b[0m\u001b[0;34m)\u001b[0m\u001b[0;34m\u001b[0m\u001b[0;34m\u001b[0m\u001b[0m\n\u001b[1;32m    259\u001b[0m       \"\"\")\n\u001b[0;32m--> 260\u001b[0;31m     \u001b[0mself\u001b[0m\u001b[0;34m.\u001b[0m\u001b[0m__getattribute__\u001b[0m\u001b[0;34m(\u001b[0m\u001b[0mname\u001b[0m\u001b[0;34m)\u001b[0m\u001b[0;34m\u001b[0m\u001b[0;34m\u001b[0m\u001b[0m\n\u001b[0m\u001b[1;32m    261\u001b[0m \u001b[0;34m\u001b[0m\u001b[0m\n\u001b[1;32m    262\u001b[0m   \u001b[0;34m@\u001b[0m\u001b[0mproperty\u001b[0m\u001b[0;34m\u001b[0m\u001b[0;34m\u001b[0m\u001b[0m\n",
            "\u001b[0;31mAttributeError\u001b[0m: 'tensorflow.python.framework.ops.EagerTensor' object has no attribute 'assign'"
          ]
        }
      ]
    },
    {
      "cell_type": "markdown",
      "source": [
        "### Creating random tensors\n",
        "\n",
        "Random tensors are tensors of some abitrary size which contain random numbers."
      ],
      "metadata": {
        "id": "6h7PzS8xGc1t"
      }
    },
    {
      "cell_type": "code",
      "source": [
        "# Create two random (but the same) tensors\n",
        "random_1 = tf.random.Generator.from_seed(42) # set seed for reproducibility\n",
        "random_1 = random_1.normal(shape=(3, 2))\n",
        "random_2 = tf.random.Generator.from_seed(42)\n",
        "random_2 = random_2.normal(shape=(3, 2))\n",
        "\n",
        "#Are they equal?\n",
        "random_1, random_2, random_1 == random_2"
      ],
      "metadata": {
        "colab": {
          "base_uri": "https://localhost:8080/"
        },
        "id": "g-e7YlYYGTNu",
        "outputId": "24b33593-9961-490b-9eab-d66386c2c797"
      },
      "execution_count": 10,
      "outputs": [
        {
          "output_type": "execute_result",
          "data": {
            "text/plain": [
              "(<tf.Tensor: shape=(3, 2), dtype=float32, numpy=\n",
              " array([[-0.7565803 , -0.06854702],\n",
              "        [ 0.07595026, -1.2573844 ],\n",
              "        [-0.23193763, -1.8107855 ]], dtype=float32)>,\n",
              " <tf.Tensor: shape=(3, 2), dtype=float32, numpy=\n",
              " array([[-0.7565803 , -0.06854702],\n",
              "        [ 0.07595026, -1.2573844 ],\n",
              "        [-0.23193763, -1.8107855 ]], dtype=float32)>,\n",
              " <tf.Tensor: shape=(3, 2), dtype=bool, numpy=\n",
              " array([[ True,  True],\n",
              "        [ True,  True],\n",
              "        [ True,  True]])>)"
            ]
          },
          "metadata": {},
          "execution_count": 10
        }
      ]
    },
    {
      "cell_type": "markdown",
      "source": [
        "### Shuffle the order of elements in a tensor"
      ],
      "metadata": {
        "id": "LiPNcfMPfACS"
      }
    },
    {
      "cell_type": "code",
      "source": [
        "# Shuffle a tensor (valuable for when you want to shuffle your data so the inherent order doesn't effect learning)\n",
        "not_shuffled = tf.constant([[10, 7],\n",
        "                            [3, 4],\n",
        "                            [2, 5]])\n",
        "not_shuffled.ndim"
      ],
      "metadata": {
        "colab": {
          "base_uri": "https://localhost:8080/"
        },
        "id": "TaqYArIJI5_K",
        "outputId": "9d056856-3ec8-4fb9-82e4-a3a82e07ed98"
      },
      "execution_count": 4,
      "outputs": [
        {
          "output_type": "execute_result",
          "data": {
            "text/plain": [
              "2"
            ]
          },
          "metadata": {},
          "execution_count": 4
        }
      ]
    },
    {
      "cell_type": "code",
      "source": [
        "not_shuffled"
      ],
      "metadata": {
        "colab": {
          "base_uri": "https://localhost:8080/"
        },
        "id": "IYs4g7b-gy1V",
        "outputId": "eb784c75-fddb-46a0-fff6-13244902811b"
      },
      "execution_count": 5,
      "outputs": [
        {
          "output_type": "execute_result",
          "data": {
            "text/plain": [
              "<tf.Tensor: shape=(3, 2), dtype=int32, numpy=\n",
              "array([[10,  7],\n",
              "       [ 3,  4],\n",
              "       [ 2,  5]], dtype=int32)>"
            ]
          },
          "metadata": {},
          "execution_count": 5
        }
      ]
    },
    {
      "cell_type": "code",
      "source": [
        "# Shuffle our not_shuffled tensor\n",
        "tf.random.shuffle(not_shuffled)"
      ],
      "metadata": {
        "colab": {
          "base_uri": "https://localhost:8080/"
        },
        "id": "YCc9d-AohOq4",
        "outputId": "e77ac482-5c5c-4282-bf59-ac996c89e30f"
      },
      "execution_count": 6,
      "outputs": [
        {
          "output_type": "execute_result",
          "data": {
            "text/plain": [
              "<tf.Tensor: shape=(3, 2), dtype=int32, numpy=\n",
              "array([[ 2,  5],\n",
              "       [10,  7],\n",
              "       [ 3,  4]], dtype=int32)>"
            ]
          },
          "metadata": {},
          "execution_count": 6
        }
      ]
    },
    {
      "cell_type": "markdown",
      "source": [
        "# Exercise: Generate random tensor, and shuffle it. Then test the global and local seed code."
      ],
      "metadata": {
        "id": "QQRUhrcukTLI"
      }
    },
    {
      "cell_type": "code",
      "source": [
        "# Step 1: Create random tensor:\n",
        "random_tensor = tf.random.Generator.from_seed(32)\n",
        "random_tensor = random_tensor.normal(shape=(5, 4))\n",
        "random_tensor"
      ],
      "metadata": {
        "colab": {
          "base_uri": "https://localhost:8080/"
        },
        "id": "w7piEbpBlRJG",
        "outputId": "1e8dbe85-3553-4c0f-88e8-5c5fadbeb01c"
      },
      "execution_count": 12,
      "outputs": [
        {
          "output_type": "execute_result",
          "data": {
            "text/plain": [
              "<tf.Tensor: shape=(5, 4), dtype=float32, numpy=\n",
              "array([[ 0.7901182 ,  1.585549  ,  0.4356279 ,  0.2364518 ],\n",
              "       [-0.1589871 ,  1.302304  ,  0.9592239 ,  0.85874265],\n",
              "       [-1.5181769 ,  1.4020647 ,  1.5570306 , -0.96762174],\n",
              "       [ 0.495291  , -0.648484  , -1.8700892 ,  2.7830641 ],\n",
              "       [-0.645002  ,  0.18022095, -0.14656258,  0.34374258]],\n",
              "      dtype=float32)>"
            ]
          },
          "metadata": {},
          "execution_count": 12
        }
      ]
    },
    {
      "cell_type": "code",
      "source": [
        "random_tensor.ndim"
      ],
      "metadata": {
        "colab": {
          "base_uri": "https://localhost:8080/"
        },
        "id": "RwCKHhdInLW3",
        "outputId": "b976f390-add2-4240-cf99-f49902a33630"
      },
      "execution_count": 14,
      "outputs": [
        {
          "output_type": "execute_result",
          "data": {
            "text/plain": [
              "2"
            ]
          },
          "metadata": {},
          "execution_count": 14
        }
      ]
    },
    {
      "cell_type": "code",
      "source": [
        "# Step 2: Shuffle the random_tensor.\n",
        "shuffle_tensor = tf.random.shuffle(random_tensor)\n",
        "shuffle_tensor"
      ],
      "metadata": {
        "colab": {
          "base_uri": "https://localhost:8080/"
        },
        "id": "keCuQ7Pemqnf",
        "outputId": "e3c0765b-767a-46b2-d170-e7a4415a292a"
      },
      "execution_count": 16,
      "outputs": [
        {
          "output_type": "execute_result",
          "data": {
            "text/plain": [
              "<tf.Tensor: shape=(5, 4), dtype=float32, numpy=\n",
              "array([[-0.645002  ,  0.18022095, -0.14656258,  0.34374258],\n",
              "       [ 0.7901182 ,  1.585549  ,  0.4356279 ,  0.2364518 ],\n",
              "       [ 0.495291  , -0.648484  , -1.8700892 ,  2.7830641 ],\n",
              "       [-1.5181769 ,  1.4020647 ,  1.5570306 , -0.96762174],\n",
              "       [-0.1589871 ,  1.302304  ,  0.9592239 ,  0.85874265]],\n",
              "      dtype=float32)>"
            ]
          },
          "metadata": {},
          "execution_count": 16
        }
      ]
    },
    {
      "cell_type": "code",
      "source": [
        "tensor = tf.constant(shuffle_tensor)\n",
        "tensor"
      ],
      "metadata": {
        "colab": {
          "base_uri": "https://localhost:8080/"
        },
        "id": "FQNUYt21pe-f",
        "outputId": "2b20a141-fde3-41e6-8d0b-eecd48132281"
      },
      "execution_count": 23,
      "outputs": [
        {
          "output_type": "execute_result",
          "data": {
            "text/plain": [
              "<tf.Tensor: shape=(5, 4), dtype=float32, numpy=\n",
              "array([[-0.645002  ,  0.18022095, -0.14656258,  0.34374258],\n",
              "       [ 0.7901182 ,  1.585549  ,  0.4356279 ,  0.2364518 ],\n",
              "       [ 0.495291  , -0.648484  , -1.8700892 ,  2.7830641 ],\n",
              "       [-1.5181769 ,  1.4020647 ,  1.5570306 , -0.96762174],\n",
              "       [-0.1589871 ,  1.302304  ,  0.9592239 ,  0.85874265]],\n",
              "      dtype=float32)>"
            ]
          },
          "metadata": {},
          "execution_count": 23
        }
      ]
    },
    {
      "cell_type": "markdown",
      "source": [
        "### If neither the global seed nor the operation seed is set:"
      ],
      "metadata": {
        "id": "XXpDs5lZtoEG"
      }
    },
    {
      "cell_type": "code",
      "source": [
        "# we get different results for every call to the random op and every re-run of the program:\n",
        "\n",
        "print(tf.random.uniform([1]))  # generates 'A1'\n",
        "print(tf.random.uniform(tensor.shape))  # generates 'A2'"
      ],
      "metadata": {
        "colab": {
          "base_uri": "https://localhost:8080/"
        },
        "id": "Er60FIe5nz78",
        "outputId": "2622cf65-f983-49ff-9f99-c8a045c4eb84"
      },
      "execution_count": 52,
      "outputs": [
        {
          "output_type": "stream",
          "name": "stdout",
          "text": [
            "tf.Tensor([0.5339905], shape=(1,), dtype=float32)\n",
            "tf.Tensor(\n",
            "[[0.35666203 0.690668   0.98597586 0.7194302 ]\n",
            " [0.8194226  0.7133349  0.75022256 0.76358354]\n",
            " [0.10624349 0.6544957  0.69613254 0.37320614]\n",
            " [0.41926122 0.2867533  0.7927009  0.921764  ]\n",
            " [0.41017497 0.19521034 0.3297652  0.16180694]], shape=(5, 4), dtype=float32)\n"
          ]
        }
      ]
    },
    {
      "cell_type": "markdown",
      "source": [
        "### If the global seed is set but the operation seed is not set:\n"
      ],
      "metadata": {
        "id": "ksXT8lJhtyuH"
      }
    },
    {
      "cell_type": "code",
      "source": [
        "# we get different results for every call to the random op, but the same sequence for every re-run of the program:\n",
        "\n",
        "tf.random.set_seed(64)\n",
        "print(tf.random.uniform([3]))             # generates 'A1'\n",
        "print(tf.random.uniform(tensor.shape))    # generates 'A2'\n"
      ],
      "metadata": {
        "colab": {
          "base_uri": "https://localhost:8080/"
        },
        "id": "q3MiQorprh7j",
        "outputId": "8d055f9c-0a39-409e-8a43-eabb4b720c87"
      },
      "execution_count": 57,
      "outputs": [
        {
          "output_type": "stream",
          "name": "stdout",
          "text": [
            "tf.Tensor([0.41049755 0.47658968 0.46416903], shape=(3,), dtype=float32)\n",
            "tf.Tensor(\n",
            "[[0.04468966 0.6561477  0.33908975 0.823082  ]\n",
            " [0.3915465  0.05389285 0.9497212  0.7511488 ]\n",
            " [0.29618108 0.11224461 0.5920911  0.6658716 ]\n",
            " [0.72812736 0.5153334  0.7647536  0.57969654]\n",
            " [0.740461   0.86157835 0.13069737 0.25095642]], shape=(5, 4), dtype=float32)\n"
          ]
        }
      ]
    },
    {
      "cell_type": "code",
      "source": [
        "tf.random.set_seed(1234)\n",
        "\n",
        "@tf.function\n",
        "def f():\n",
        "  a = tf.random.uniform([3,3])\n",
        "  b = tf.random.uniform(tensor.shape)\n",
        "  return a, b\n",
        "\n",
        "@tf.function\n",
        "def g():\n",
        "  a = tf.random.uniform([3, 3])\n",
        "  b = tf.random.uniform(tensor.shape)\n",
        "  return a, b\n",
        "\n",
        "print(f())    # prints \"(A1, A2)\"\n",
        "print(g())    # prints \"(A1, A2)\""
      ],
      "metadata": {
        "colab": {
          "base_uri": "https://localhost:8080/"
        },
        "id": "hiOgJxmUs7_8",
        "outputId": "7d5cf46b-13be-4530-963e-55833bee62bd"
      },
      "execution_count": 61,
      "outputs": [
        {
          "output_type": "stream",
          "name": "stdout",
          "text": [
            "(<tf.Tensor: shape=(3, 3), dtype=float32, numpy=\n",
            "array([[0.13047123, 0.9760946 , 0.01222026],\n",
            "       [0.5802934 , 0.8661562 , 0.48496962],\n",
            "       [0.308123  , 0.9911289 , 0.57644176]], dtype=float32)>, <tf.Tensor: shape=(5, 4), dtype=float32, numpy=\n",
            "array([[0.1689806 , 0.9725481 , 0.90036285, 0.16582811],\n",
            "       [0.1454581 , 0.48029935, 0.02495587, 0.99239147],\n",
            "       [0.02835405, 0.10649502, 0.45283175, 0.87260246],\n",
            "       [0.6877538 , 0.24809706, 0.95886254, 0.24039495],\n",
            "       [0.65701306, 0.21762824, 0.8495487 , 0.19223797]], dtype=float32)>)\n",
            "(<tf.Tensor: shape=(3, 3), dtype=float32, numpy=\n",
            "array([[0.13047123, 0.9760946 , 0.01222026],\n",
            "       [0.5802934 , 0.8661562 , 0.48496962],\n",
            "       [0.308123  , 0.9911289 , 0.57644176]], dtype=float32)>, <tf.Tensor: shape=(5, 4), dtype=float32, numpy=\n",
            "array([[0.1689806 , 0.9725481 , 0.90036285, 0.16582811],\n",
            "       [0.1454581 , 0.48029935, 0.02495587, 0.99239147],\n",
            "       [0.02835405, 0.10649502, 0.45283175, 0.87260246],\n",
            "       [0.6877538 , 0.24809706, 0.95886254, 0.24039495],\n",
            "       [0.65701306, 0.21762824, 0.8495487 , 0.19223797]], dtype=float32)>)\n"
          ]
        }
      ]
    },
    {
      "cell_type": "code",
      "source": [
        "# From tensorflow website:\n",
        "\n",
        "tf.random.set_seed(1234)\n",
        "\n",
        "@tf.function\n",
        "def f():\n",
        "  a = tf.random.uniform([1])\n",
        "  b = tf.random.uniform([1])\n",
        "  return a, b\n",
        "\n",
        "@tf.function\n",
        "def g():\n",
        "  a = tf.random.uniform([1])\n",
        "  b = tf.random.uniform([1])\n",
        "  return a, b\n",
        "\n",
        "print(f())  # prints '(A1, A2)'\n",
        "print(g())  # prints '(A1, A2)'"
      ],
      "metadata": {
        "colab": {
          "base_uri": "https://localhost:8080/"
        },
        "id": "_EcxbYmzvV6v",
        "outputId": "bdee0d8c-0820-453f-8bb8-19faedfb66fa"
      },
      "execution_count": 62,
      "outputs": [
        {
          "output_type": "stream",
          "name": "stdout",
          "text": [
            "(<tf.Tensor: shape=(1,), dtype=float32, numpy=array([0.13047123], dtype=float32)>, <tf.Tensor: shape=(1,), dtype=float32, numpy=array([0.1689806], dtype=float32)>)\n",
            "(<tf.Tensor: shape=(1,), dtype=float32, numpy=array([0.13047123], dtype=float32)>, <tf.Tensor: shape=(1,), dtype=float32, numpy=array([0.1689806], dtype=float32)>)\n"
          ]
        }
      ]
    },
    {
      "cell_type": "markdown",
      "source": [
        "### If the operation seed is set but not the global seed:"
      ],
      "metadata": {
        "id": "HCnjxSagvxux"
      }
    },
    {
      "cell_type": "code",
      "source": [
        "# we get different results for every call to the random op, but the same sequence for every re-run of the program:\n",
        "\n",
        "print(tf.random.uniform([3], seed=1))\n",
        "print(tf.random.uniform(tensor.shape, seed=1))"
      ],
      "metadata": {
        "colab": {
          "base_uri": "https://localhost:8080/"
        },
        "id": "LgYmubBIv8Gp",
        "outputId": "bf6f6137-d7f4-4e44-a945-484e8ebd753e"
      },
      "execution_count": 69,
      "outputs": [
        {
          "output_type": "stream",
          "name": "stdout",
          "text": [
            "tf.Tensor([0.5799427  0.03228104 0.26844692], shape=(3,), dtype=float32)\n",
            "tf.Tensor(\n",
            "[[0.11941874 0.8257673  0.5023047  0.7038125 ]\n",
            " [0.3750875  0.86526835 0.6774229  0.2892233 ]\n",
            " [0.16704762 0.10692847 0.63773763 0.8428736 ]\n",
            " [0.47312403 0.16226184 0.8745558  0.01242661]\n",
            " [0.7674997  0.24782574 0.58447087 0.52888024]], shape=(5, 4), dtype=float32)\n"
          ]
        }
      ]
    },
    {
      "cell_type": "code",
      "source": [
        "# From tensorflow website\n",
        "\n",
        "print(tf.random.uniform([1], seed=1))  # generates 'A1'\n",
        "print(tf.random.uniform([1], seed=1))  # generates 'A2'"
      ],
      "metadata": {
        "colab": {
          "base_uri": "https://localhost:8080/"
        },
        "id": "gOqE7NO6w56g",
        "outputId": "6c1cb790-39a7-4921-e623-91f37b76e579"
      },
      "execution_count": 84,
      "outputs": [
        {
          "output_type": "stream",
          "name": "stdout",
          "text": [
            "tf.Tensor([0.86162424], shape=(1,), dtype=float32)\n",
            "tf.Tensor([0.6961942], shape=(1,), dtype=float32)\n"
          ]
        }
      ]
    },
    {
      "cell_type": "markdown",
      "source": [
        "### When both the operation seed, and global seed are set:"
      ],
      "metadata": {
        "id": "3RnANx6Nxm6I"
      }
    },
    {
      "cell_type": "code",
      "source": [
        "# the same sequence for every re-run of the program:\n",
        "\n",
        "tf.random.set_seed(64)\n",
        "print(tf.random.uniform([3], seed=2))\n",
        "print(tf.random.uniform(tensor.shape, seed=5))\n",
        "tf.random.set_seed(64)\n",
        "print(tf.random.uniform([3], seed=2))\n",
        "print(tf.random.uniform(tensor.shape, seed=5))"
      ],
      "metadata": {
        "colab": {
          "base_uri": "https://localhost:8080/"
        },
        "id": "_SEmM6IYx61J",
        "outputId": "7eef62a6-0c19-4e21-8f8c-250d1fc4a666"
      },
      "execution_count": 88,
      "outputs": [
        {
          "output_type": "stream",
          "name": "stdout",
          "text": [
            "tf.Tensor([0.40422785 0.36240613 0.09227574], shape=(3,), dtype=float32)\n",
            "tf.Tensor(\n",
            "[[0.63136184 0.68330085 0.50041425 0.9098047 ]\n",
            " [0.27383792 0.3910135  0.00739944 0.78876984]\n",
            " [0.54777634 0.31669033 0.84119165 0.13814104]\n",
            " [0.50102234 0.33068907 0.6196461  0.19769883]\n",
            " [0.87463033 0.7988496  0.0536865  0.7549015 ]], shape=(5, 4), dtype=float32)\n",
            "tf.Tensor([0.40422785 0.36240613 0.09227574], shape=(3,), dtype=float32)\n",
            "tf.Tensor(\n",
            "[[0.63136184 0.68330085 0.50041425 0.9098047 ]\n",
            " [0.27383792 0.3910135  0.00739944 0.78876984]\n",
            " [0.54777634 0.31669033 0.84119165 0.13814104]\n",
            " [0.50102234 0.33068907 0.6196461  0.19769883]\n",
            " [0.87463033 0.7988496  0.0536865  0.7549015 ]], shape=(5, 4), dtype=float32)\n"
          ]
        }
      ]
    },
    {
      "cell_type": "code",
      "source": [
        "# From tensorflow website:\n",
        "tf.random.set_seed(1234)\n",
        "print(tf.random.uniform([1], seed=1))  # generates 'A1'\n",
        "print(tf.random.uniform([1], seed=1))  # generates 'A2'\n",
        "tf.random.set_seed(1234)\n",
        "print(tf.random.uniform([1], seed=1))  # generates 'A1'\n",
        "print(tf.random.uniform([1], seed=1))  # generates 'A2'"
      ],
      "metadata": {
        "colab": {
          "base_uri": "https://localhost:8080/"
        },
        "id": "zV_t1wray68r",
        "outputId": "28731764-45f7-4efd-a251-7c5d0dbbdebd"
      },
      "execution_count": 92,
      "outputs": [
        {
          "output_type": "stream",
          "name": "stdout",
          "text": [
            "tf.Tensor([0.1689806], shape=(1,), dtype=float32)\n",
            "tf.Tensor([0.7539084], shape=(1,), dtype=float32)\n",
            "tf.Tensor([0.1689806], shape=(1,), dtype=float32)\n",
            "tf.Tensor([0.7539084], shape=(1,), dtype=float32)\n"
          ]
        }
      ]
    },
    {
      "cell_type": "code",
      "source": [
        "@tf.function\n",
        "def foo():\n",
        "  a = tf.random.uniform([3, 2], seed=3)\n",
        "  b = tf.random.uniform(tensor.shape, seed=5)\n",
        "  return a, b\n",
        "print(foo())\n",
        "print(foo())\n",
        "\n",
        "@tf.function\n",
        "def bar():\n",
        "  a = tf.random.uniform([2, 3])\n",
        "  b = tf.random.uniform(tensor.shape)\n",
        "  return a, b\n",
        "print(bar())\n",
        "print(bar())"
      ],
      "metadata": {
        "colab": {
          "base_uri": "https://localhost:8080/"
        },
        "id": "k24hlpy9zI1S",
        "outputId": "135c5070-0764-4def-99ac-d9730810e8ef"
      },
      "execution_count": 100,
      "outputs": [
        {
          "output_type": "stream",
          "name": "stdout",
          "text": [
            "(<tf.Tensor: shape=(3, 2), dtype=float32, numpy=\n",
            "array([[0.96046877, 0.5811516 ],\n",
            "       [0.64159   , 0.96217656],\n",
            "       [0.05434954, 0.41893446]], dtype=float32)>, <tf.Tensor: shape=(5, 4), dtype=float32, numpy=\n",
            "array([[0.5191684 , 0.25865102, 0.30959463, 0.16933537],\n",
            "       [0.7262864 , 0.5062971 , 0.93143713, 0.5186522 ],\n",
            "       [0.32608354, 0.11557162, 0.11819661, 0.81512475],\n",
            "       [0.2236216 , 0.37421417, 0.320786  , 0.05357528],\n",
            "       [0.24286973, 0.16004622, 0.5363531 , 0.81584346]], dtype=float32)>)\n",
            "(<tf.Tensor: shape=(3, 2), dtype=float32, numpy=\n",
            "array([[0.05653167, 0.46063077],\n",
            "       [0.5289451 , 0.72455823],\n",
            "       [0.7737336 , 0.57899153]], dtype=float32)>, <tf.Tensor: shape=(5, 4), dtype=float32, numpy=\n",
            "array([[0.86767614, 0.35417783, 0.42725182, 0.37610912],\n",
            "       [0.14602256, 0.11361539, 0.71319044, 0.8048644 ],\n",
            "       [0.50970125, 0.14274323, 0.8574256 , 0.07337177],\n",
            "       [0.6025082 , 0.29182398, 0.3373251 , 0.00705373],\n",
            "       [0.9833559 , 0.9090518 , 0.1808362 , 0.7571615 ]], dtype=float32)>)\n",
            "(<tf.Tensor: shape=(2, 3), dtype=float32, numpy=\n",
            "array([[0.13047123, 0.9760946 , 0.01222026],\n",
            "       [0.5802934 , 0.8661562 , 0.48496962]], dtype=float32)>, <tf.Tensor: shape=(5, 4), dtype=float32, numpy=\n",
            "array([[0.1689806 , 0.9725481 , 0.90036285, 0.16582811],\n",
            "       [0.1454581 , 0.48029935, 0.02495587, 0.99239147],\n",
            "       [0.02835405, 0.10649502, 0.45283175, 0.87260246],\n",
            "       [0.6877538 , 0.24809706, 0.95886254, 0.24039495],\n",
            "       [0.65701306, 0.21762824, 0.8495487 , 0.19223797]], dtype=float32)>)\n",
            "(<tf.Tensor: shape=(2, 3), dtype=float32, numpy=\n",
            "array([[0.7022817 , 0.6277946 , 0.2672361 ],\n",
            "       [0.5588683 , 0.59662426, 0.7762109 ]], dtype=float32)>, <tf.Tensor: shape=(5, 4), dtype=float32, numpy=\n",
            "array([[0.58271205, 0.17156804, 0.16336417, 0.48548818],\n",
            "       [0.2556814 , 0.5517689 , 0.74912596, 0.421103  ],\n",
            "       [0.25651717, 0.452878  , 0.22367883, 0.32655025],\n",
            "       [0.07104409, 0.9589343 , 0.9180218 , 0.37847114],\n",
            "       [0.40531576, 0.6892209 , 0.7944106 , 0.00773633]], dtype=float32)>)\n"
          ]
        }
      ]
    },
    {
      "cell_type": "code",
      "source": [
        "# From tensorflow website:\n",
        "\n",
        "@tf.function\n",
        "def foo():\n",
        "  a = tf.random.uniform([1], seed=1)\n",
        "  b = tf.random.uniform([1], seed=1)\n",
        "  return a, b\n",
        "print(foo())  # prints '(A1, A1)'\n",
        "print(foo())  # prints '(A2, A2)'\n",
        "\n",
        "@tf.function\n",
        "def bar():\n",
        "  a = tf.random.uniform([1])\n",
        "  b = tf.random.uniform([1])\n",
        "  return a, b\n",
        "print(bar())  # prints '(A1, A2)'\n",
        "print(bar())  # prints '(A3, A4)'"
      ],
      "metadata": {
        "colab": {
          "base_uri": "https://localhost:8080/"
        },
        "id": "HDvCweok0q8K",
        "outputId": "9a05cde1-12c0-403e-e1cf-23da19a50d5a"
      },
      "execution_count": 103,
      "outputs": [
        {
          "output_type": "stream",
          "name": "stdout",
          "text": [
            "(<tf.Tensor: shape=(1,), dtype=float32, numpy=array([0.1689806], dtype=float32)>, <tf.Tensor: shape=(1,), dtype=float32, numpy=array([0.1689806], dtype=float32)>)\n",
            "(<tf.Tensor: shape=(1,), dtype=float32, numpy=array([0.7539084], dtype=float32)>, <tf.Tensor: shape=(1,), dtype=float32, numpy=array([0.7539084], dtype=float32)>)\n",
            "(<tf.Tensor: shape=(1,), dtype=float32, numpy=array([0.13047123], dtype=float32)>, <tf.Tensor: shape=(1,), dtype=float32, numpy=array([0.1689806], dtype=float32)>)\n",
            "(<tf.Tensor: shape=(1,), dtype=float32, numpy=array([0.6087816], dtype=float32)>, <tf.Tensor: shape=(1,), dtype=float32, numpy=array([0.7539084], dtype=float32)>)\n"
          ]
        }
      ]
    },
    {
      "cell_type": "markdown",
      "source": [
        "# Exercise completed. Starting a new session:\n",
        "* It looks like if we want our shuffled tensors to be in the same order, we've got to use the global level random seed as well as the operation level random seed:\n",
        ">Rule 4: If both the global and the operation seed are set: Both seeds are used in conjunction to determine the random sequence.\n"
      ],
      "metadata": {
        "id": "LCRMByZA21xU"
      }
    },
    {
      "cell_type": "code",
      "source": [
        "tf.random.set_seed(42) # global level random seed\n",
        "tf.random.shuffle(not_shuffled, seed=42) # operation level random seed"
      ],
      "metadata": {
        "colab": {
          "base_uri": "https://localhost:8080/"
        },
        "id": "4qB3dH9F2Zxq",
        "outputId": "bbb6360c-ad1a-43f5-989d-6fd568abbd21"
      },
      "execution_count": 107,
      "outputs": [
        {
          "output_type": "execute_result",
          "data": {
            "text/plain": [
              "<tf.Tensor: shape=(3, 2), dtype=int32, numpy=\n",
              "array([[10,  7],\n",
              "       [ 3,  4],\n",
              "       [ 2,  5]], dtype=int32)>"
            ]
          },
          "metadata": {},
          "execution_count": 107
        }
      ]
    },
    {
      "cell_type": "markdown",
      "source": [
        "## Other ways to make tensors"
      ],
      "metadata": {
        "id": "ZwOEDWKe4T1i"
      }
    },
    {
      "cell_type": "code",
      "source": [
        "# Create a tensor of all ones\n",
        "tf.ones([5, 5])"
      ],
      "metadata": {
        "colab": {
          "base_uri": "https://localhost:8080/"
        },
        "id": "RHcaKkJM4P-J",
        "outputId": "6a6e190b-4819-4aa8-9e78-5dae905f0557"
      },
      "execution_count": 108,
      "outputs": [
        {
          "output_type": "execute_result",
          "data": {
            "text/plain": [
              "<tf.Tensor: shape=(5, 5), dtype=float32, numpy=\n",
              "array([[1., 1., 1., 1., 1.],\n",
              "       [1., 1., 1., 1., 1.],\n",
              "       [1., 1., 1., 1., 1.],\n",
              "       [1., 1., 1., 1., 1.],\n",
              "       [1., 1., 1., 1., 1.]], dtype=float32)>"
            ]
          },
          "metadata": {},
          "execution_count": 108
        }
      ]
    },
    {
      "cell_type": "code",
      "source": [
        "# Create a tensor of all zeros\n",
        "print(tf.zeros([5, 5]))\n",
        "print(tf.zeros(shape=(3, 4)))"
      ],
      "metadata": {
        "colab": {
          "base_uri": "https://localhost:8080/"
        },
        "id": "tpa_u5u74zRY",
        "outputId": "6a346ac7-8759-47c7-db90-8d2efa611d6a"
      },
      "execution_count": 111,
      "outputs": [
        {
          "output_type": "stream",
          "name": "stdout",
          "text": [
            "tf.Tensor(\n",
            "[[0. 0. 0. 0. 0.]\n",
            " [0. 0. 0. 0. 0.]\n",
            " [0. 0. 0. 0. 0.]\n",
            " [0. 0. 0. 0. 0.]\n",
            " [0. 0. 0. 0. 0.]], shape=(5, 5), dtype=float32)\n",
            "tf.Tensor(\n",
            "[[0. 0. 0. 0.]\n",
            " [0. 0. 0. 0.]\n",
            " [0. 0. 0. 0.]], shape=(3, 4), dtype=float32)\n"
          ]
        }
      ]
    },
    {
      "cell_type": "markdown",
      "source": [
        "### Turn NumPy arrays into tensors\n",
        "The main difference between NumPy arrays and TensorFlow tensors is that tensors can be run on a GPU (much faster for numerical computing)."
      ],
      "metadata": {
        "id": "I_8G6APr5bb-"
      }
    },
    {
      "cell_type": "code",
      "source": [
        "# We can also turn NumPy arrays into tensors\n",
        "import numpy as np\n",
        "numpy_A = np.arange(1, 25, dtype=np.int32) # create a NumPy array between 1 and 25\n",
        "numpy_A\n",
        "\n",
        "# X = tf.constant(some_matrix) # capital for matrix or tensor\n",
        "# y = tf.constant(vector)      # non-capital for vector"
      ],
      "metadata": {
        "colab": {
          "base_uri": "https://localhost:8080/"
        },
        "id": "QqW0_FOT5wwI",
        "outputId": "3130f9b2-fc88-45b4-c71b-624d345213da"
      },
      "execution_count": 112,
      "outputs": [
        {
          "output_type": "execute_result",
          "data": {
            "text/plain": [
              "array([ 1,  2,  3,  4,  5,  6,  7,  8,  9, 10, 11, 12, 13, 14, 15, 16, 17,\n",
              "       18, 19, 20, 21, 22, 23, 24], dtype=int32)"
            ]
          },
          "metadata": {},
          "execution_count": 112
        }
      ]
    },
    {
      "cell_type": "code",
      "source": [
        "A = tf.constant(numpy_A, shape=(2, 3, 4))\n",
        "B = tf.constant(numpy_A) #original shape\n",
        "A, B"
      ],
      "metadata": {
        "colab": {
          "base_uri": "https://localhost:8080/"
        },
        "id": "vLY3h3-Y6v0b",
        "outputId": "9908880f-7e8d-4d06-b9cb-f1a7ae05f21d"
      },
      "execution_count": 115,
      "outputs": [
        {
          "output_type": "execute_result",
          "data": {
            "text/plain": [
              "(<tf.Tensor: shape=(2, 3, 4), dtype=int32, numpy=\n",
              " array([[[ 1,  2,  3,  4],\n",
              "         [ 5,  6,  7,  8],\n",
              "         [ 9, 10, 11, 12]],\n",
              " \n",
              "        [[13, 14, 15, 16],\n",
              "         [17, 18, 19, 20],\n",
              "         [21, 22, 23, 24]]], dtype=int32)>,\n",
              " <tf.Tensor: shape=(24,), dtype=int32, numpy=\n",
              " array([ 1,  2,  3,  4,  5,  6,  7,  8,  9, 10, 11, 12, 13, 14, 15, 16, 17,\n",
              "        18, 19, 20, 21, 22, 23, 24], dtype=int32)>)"
            ]
          },
          "metadata": {},
          "execution_count": 115
        }
      ]
    },
    {
      "cell_type": "code",
      "source": [
        "A.ndim"
      ],
      "metadata": {
        "colab": {
          "base_uri": "https://localhost:8080/"
        },
        "id": "-bv9h29t65Jq",
        "outputId": "8e4e532a-3dc7-494d-a991-4559dec30a02"
      },
      "execution_count": 116,
      "outputs": [
        {
          "output_type": "execute_result",
          "data": {
            "text/plain": [
              "3"
            ]
          },
          "metadata": {},
          "execution_count": 116
        }
      ]
    },
    {
      "cell_type": "markdown",
      "source": [
        "## Getting information from tensors"
      ],
      "metadata": {
        "id": "d1H6bqZf71D3"
      }
    },
    {
      "cell_type": "code",
      "source": [],
      "metadata": {
        "id": "XdQOuPXC70YO"
      },
      "execution_count": null,
      "outputs": []
    }
  ]
}