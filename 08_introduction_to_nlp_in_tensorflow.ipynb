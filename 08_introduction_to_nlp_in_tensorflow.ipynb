{
  "nbformat": 4,
  "nbformat_minor": 0,
  "metadata": {
    "colab": {
      "provenance": [],
      "authorship_tag": "ABX9TyPDYBS7w7VNxS87fPjmXiI7",
      "include_colab_link": true
    },
    "kernelspec": {
      "name": "python3",
      "display_name": "Python 3"
    },
    "language_info": {
      "name": "python"
    }
  },
  "cells": [
    {
      "cell_type": "markdown",
      "metadata": {
        "id": "view-in-github",
        "colab_type": "text"
      },
      "source": [
        "<a href=\"https://colab.research.google.com/github/masrik-dev/Deep-Learning-with-TensorFlow-and-Python/blob/main/08_introduction_to_nlp_in_tensorflow.ipynb\" target=\"_parent\"><img src=\"https://colab.research.google.com/assets/colab-badge.svg\" alt=\"Open In Colab\"/></a>"
      ]
    },
    {
      "cell_type": "markdown",
      "source": [
        "# Introduction to NLP Fundamentals in TensorFlow\n",
        "\n",
        "NLP has the goal of deriving information out of natural language (could be sequences text or speech).\n",
        "\n",
        "Another common term for NLP problems is sequence problems (seq2seq)."
      ],
      "metadata": {
        "id": "-yGhbGfasf0n"
      }
    },
    {
      "cell_type": "markdown",
      "source": [
        "## What we're going to learn\n",
        "* Downloading and preparing a text dataset\n",
        "* How to prepare text data for modelling (**tokenization and embedding**)\n",
        "* Setting up multiple modelling experiments with **recurrent neural networks (RNNs)**\n",
        "* Building a text **feature extraction model using TensorFlow Hub**\n",
        "* Finding the most wrong prediction examples\n",
        "* Using a model we've built to make predictions on text from the wild"
      ],
      "metadata": {
        "id": "G8L_qZh1ZVGU"
      }
    },
    {
      "cell_type": "markdown",
      "source": [
        "## Check for GPU"
      ],
      "metadata": {
        "id": "FAJh9aHbjjjh"
      }
    },
    {
      "cell_type": "code",
      "source": [
        "!nvidia-smi -L"
      ],
      "metadata": {
        "colab": {
          "base_uri": "https://localhost:8080/"
        },
        "id": "2GHuNxi4tRPK",
        "outputId": "093328b8-a188-457e-faef-13bc548a7aa0"
      },
      "execution_count": 119,
      "outputs": [
        {
          "output_type": "stream",
          "name": "stdout",
          "text": [
            "/bin/bash: line 1: nvidia-smi: command not found\n"
          ]
        }
      ]
    },
    {
      "cell_type": "markdown",
      "source": [
        "## Get helper functions"
      ],
      "metadata": {
        "id": "Z3IlGG5ztV2u"
      }
    },
    {
      "cell_type": "code",
      "source": [
        "!wget https://raw.githubusercontent.com/masrik-dev/Deep-Learning-with-TensorFlow-and-Python/refs/heads/main/helper_functions.py\n",
        "\n",
        "# Import series of helper functions for the notebook\n",
        "from helper_functions import unzip_data, create_tensorboard_callback, plot_loss_curves, compare_historys"
      ],
      "metadata": {
        "colab": {
          "base_uri": "https://localhost:8080/"
        },
        "id": "p9o3Z0EItkcT",
        "outputId": "f09f64bc-f62c-41b4-f9a0-d0352f7e3b04"
      },
      "execution_count": 120,
      "outputs": [
        {
          "output_type": "stream",
          "name": "stdout",
          "text": [
            "--2025-08-22 17:57:23--  https://raw.githubusercontent.com/masrik-dev/Deep-Learning-with-TensorFlow-and-Python/refs/heads/main/helper_functions.py\n",
            "Resolving raw.githubusercontent.com (raw.githubusercontent.com)... 185.199.108.133, 185.199.109.133, 185.199.110.133, ...\n",
            "Connecting to raw.githubusercontent.com (raw.githubusercontent.com)|185.199.108.133|:443... connected.\n",
            "HTTP request sent, awaiting response... 200 OK\n",
            "Length: 10246 (10K) [text/plain]\n",
            "Saving to: ‘helper_functions.py.1’\n",
            "\n",
            "helper_functions.py 100%[===================>]  10.01K  --.-KB/s    in 0.001s  \n",
            "\n",
            "2025-08-22 17:57:23 (15.1 MB/s) - ‘helper_functions.py.1’ saved [10246/10246]\n",
            "\n"
          ]
        }
      ]
    },
    {
      "cell_type": "markdown",
      "source": [
        "## Get a text dataset\n",
        "\n",
        "The dataset we're going to be using is Kaggle's introduction to NLP dataset (test samples of Tweets labelled as diaster or not diaster).\n",
        "\n",
        "Original source: https://www.kaggle.com/competitions/nlp-getting-started"
      ],
      "metadata": {
        "id": "e2gmVtBbt7xI"
      }
    },
    {
      "cell_type": "code",
      "source": [
        "!wget https://storage.googleapis.com/ztm_tf_course/nlp_getting_started.zip\n",
        "\n",
        "# Unzip data\n",
        "unzip_data(\"nlp_getting_started.zip\")"
      ],
      "metadata": {
        "colab": {
          "base_uri": "https://localhost:8080/"
        },
        "id": "A3FqxL2YulCw",
        "outputId": "a7cb0ede-e079-4e58-d33c-88041ca94a03"
      },
      "execution_count": 121,
      "outputs": [
        {
          "output_type": "stream",
          "name": "stdout",
          "text": [
            "--2025-08-22 17:57:24--  https://storage.googleapis.com/ztm_tf_course/nlp_getting_started.zip\n",
            "Resolving storage.googleapis.com (storage.googleapis.com)... 173.194.217.207, 108.177.11.207, 74.125.139.207, ...\n",
            "Connecting to storage.googleapis.com (storage.googleapis.com)|173.194.217.207|:443... connected.\n",
            "HTTP request sent, awaiting response... 200 OK\n",
            "Length: 607343 (593K) [application/zip]\n",
            "Saving to: ‘nlp_getting_started.zip.1’\n",
            "\n",
            "\r          nlp_getti   0%[                    ]       0  --.-KB/s               \rnlp_getting_started 100%[===================>] 593.11K  --.-KB/s    in 0.006s  \n",
            "\n",
            "2025-08-22 17:57:24 (101 MB/s) - ‘nlp_getting_started.zip.1’ saved [607343/607343]\n",
            "\n"
          ]
        }
      ]
    },
    {
      "cell_type": "markdown",
      "source": [
        "## Visualizing a text dataset\n",
        "\n",
        "To visualize our text samples, we first have to read them in, one way to do so would be to use Python.\n",
        "But another way to do this is to use pandas."
      ],
      "metadata": {
        "id": "f7OhBjmLi1ni"
      }
    },
    {
      "cell_type": "code",
      "source": [
        "import pandas as pd\n",
        "train_df = pd.read_csv(\"train.csv\")\n",
        "test_df = pd.read_csv(\"test.csv\")\n",
        "train_df.head()"
      ],
      "metadata": {
        "colab": {
          "base_uri": "https://localhost:8080/",
          "height": 206
        },
        "id": "4AgWfpjljZAb",
        "outputId": "efe96b61-1204-4180-8ba8-b48d94df6ba8"
      },
      "execution_count": 122,
      "outputs": [
        {
          "output_type": "execute_result",
          "data": {
            "text/plain": [
              "   id keyword location                                               text  \\\n",
              "0   1     NaN      NaN  Our Deeds are the Reason of this #earthquake M...   \n",
              "1   4     NaN      NaN             Forest fire near La Ronge Sask. Canada   \n",
              "2   5     NaN      NaN  All residents asked to 'shelter in place' are ...   \n",
              "3   6     NaN      NaN  13,000 people receive #wildfires evacuation or...   \n",
              "4   7     NaN      NaN  Just got sent this photo from Ruby #Alaska as ...   \n",
              "\n",
              "   target  \n",
              "0       1  \n",
              "1       1  \n",
              "2       1  \n",
              "3       1  \n",
              "4       1  "
            ],
            "text/html": [
              "\n",
              "  <div id=\"df-4d7e598c-09ec-4386-93bd-c509c9f02daa\" class=\"colab-df-container\">\n",
              "    <div>\n",
              "<style scoped>\n",
              "    .dataframe tbody tr th:only-of-type {\n",
              "        vertical-align: middle;\n",
              "    }\n",
              "\n",
              "    .dataframe tbody tr th {\n",
              "        vertical-align: top;\n",
              "    }\n",
              "\n",
              "    .dataframe thead th {\n",
              "        text-align: right;\n",
              "    }\n",
              "</style>\n",
              "<table border=\"1\" class=\"dataframe\">\n",
              "  <thead>\n",
              "    <tr style=\"text-align: right;\">\n",
              "      <th></th>\n",
              "      <th>id</th>\n",
              "      <th>keyword</th>\n",
              "      <th>location</th>\n",
              "      <th>text</th>\n",
              "      <th>target</th>\n",
              "    </tr>\n",
              "  </thead>\n",
              "  <tbody>\n",
              "    <tr>\n",
              "      <th>0</th>\n",
              "      <td>1</td>\n",
              "      <td>NaN</td>\n",
              "      <td>NaN</td>\n",
              "      <td>Our Deeds are the Reason of this #earthquake M...</td>\n",
              "      <td>1</td>\n",
              "    </tr>\n",
              "    <tr>\n",
              "      <th>1</th>\n",
              "      <td>4</td>\n",
              "      <td>NaN</td>\n",
              "      <td>NaN</td>\n",
              "      <td>Forest fire near La Ronge Sask. Canada</td>\n",
              "      <td>1</td>\n",
              "    </tr>\n",
              "    <tr>\n",
              "      <th>2</th>\n",
              "      <td>5</td>\n",
              "      <td>NaN</td>\n",
              "      <td>NaN</td>\n",
              "      <td>All residents asked to 'shelter in place' are ...</td>\n",
              "      <td>1</td>\n",
              "    </tr>\n",
              "    <tr>\n",
              "      <th>3</th>\n",
              "      <td>6</td>\n",
              "      <td>NaN</td>\n",
              "      <td>NaN</td>\n",
              "      <td>13,000 people receive #wildfires evacuation or...</td>\n",
              "      <td>1</td>\n",
              "    </tr>\n",
              "    <tr>\n",
              "      <th>4</th>\n",
              "      <td>7</td>\n",
              "      <td>NaN</td>\n",
              "      <td>NaN</td>\n",
              "      <td>Just got sent this photo from Ruby #Alaska as ...</td>\n",
              "      <td>1</td>\n",
              "    </tr>\n",
              "  </tbody>\n",
              "</table>\n",
              "</div>\n",
              "    <div class=\"colab-df-buttons\">\n",
              "\n",
              "  <div class=\"colab-df-container\">\n",
              "    <button class=\"colab-df-convert\" onclick=\"convertToInteractive('df-4d7e598c-09ec-4386-93bd-c509c9f02daa')\"\n",
              "            title=\"Convert this dataframe to an interactive table.\"\n",
              "            style=\"display:none;\">\n",
              "\n",
              "  <svg xmlns=\"http://www.w3.org/2000/svg\" height=\"24px\" viewBox=\"0 -960 960 960\">\n",
              "    <path d=\"M120-120v-720h720v720H120Zm60-500h600v-160H180v160Zm220 220h160v-160H400v160Zm0 220h160v-160H400v160ZM180-400h160v-160H180v160Zm440 0h160v-160H620v160ZM180-180h160v-160H180v160Zm440 0h160v-160H620v160Z\"/>\n",
              "  </svg>\n",
              "    </button>\n",
              "\n",
              "  <style>\n",
              "    .colab-df-container {\n",
              "      display:flex;\n",
              "      gap: 12px;\n",
              "    }\n",
              "\n",
              "    .colab-df-convert {\n",
              "      background-color: #E8F0FE;\n",
              "      border: none;\n",
              "      border-radius: 50%;\n",
              "      cursor: pointer;\n",
              "      display: none;\n",
              "      fill: #1967D2;\n",
              "      height: 32px;\n",
              "      padding: 0 0 0 0;\n",
              "      width: 32px;\n",
              "    }\n",
              "\n",
              "    .colab-df-convert:hover {\n",
              "      background-color: #E2EBFA;\n",
              "      box-shadow: 0px 1px 2px rgba(60, 64, 67, 0.3), 0px 1px 3px 1px rgba(60, 64, 67, 0.15);\n",
              "      fill: #174EA6;\n",
              "    }\n",
              "\n",
              "    .colab-df-buttons div {\n",
              "      margin-bottom: 4px;\n",
              "    }\n",
              "\n",
              "    [theme=dark] .colab-df-convert {\n",
              "      background-color: #3B4455;\n",
              "      fill: #D2E3FC;\n",
              "    }\n",
              "\n",
              "    [theme=dark] .colab-df-convert:hover {\n",
              "      background-color: #434B5C;\n",
              "      box-shadow: 0px 1px 3px 1px rgba(0, 0, 0, 0.15);\n",
              "      filter: drop-shadow(0px 1px 2px rgba(0, 0, 0, 0.3));\n",
              "      fill: #FFFFFF;\n",
              "    }\n",
              "  </style>\n",
              "\n",
              "    <script>\n",
              "      const buttonEl =\n",
              "        document.querySelector('#df-4d7e598c-09ec-4386-93bd-c509c9f02daa button.colab-df-convert');\n",
              "      buttonEl.style.display =\n",
              "        google.colab.kernel.accessAllowed ? 'block' : 'none';\n",
              "\n",
              "      async function convertToInteractive(key) {\n",
              "        const element = document.querySelector('#df-4d7e598c-09ec-4386-93bd-c509c9f02daa');\n",
              "        const dataTable =\n",
              "          await google.colab.kernel.invokeFunction('convertToInteractive',\n",
              "                                                    [key], {});\n",
              "        if (!dataTable) return;\n",
              "\n",
              "        const docLinkHtml = 'Like what you see? Visit the ' +\n",
              "          '<a target=\"_blank\" href=https://colab.research.google.com/notebooks/data_table.ipynb>data table notebook</a>'\n",
              "          + ' to learn more about interactive tables.';\n",
              "        element.innerHTML = '';\n",
              "        dataTable['output_type'] = 'display_data';\n",
              "        await google.colab.output.renderOutput(dataTable, element);\n",
              "        const docLink = document.createElement('div');\n",
              "        docLink.innerHTML = docLinkHtml;\n",
              "        element.appendChild(docLink);\n",
              "      }\n",
              "    </script>\n",
              "  </div>\n",
              "\n",
              "\n",
              "    <div id=\"df-fc21af32-c260-4139-9ded-d752ea1d9431\">\n",
              "      <button class=\"colab-df-quickchart\" onclick=\"quickchart('df-fc21af32-c260-4139-9ded-d752ea1d9431')\"\n",
              "                title=\"Suggest charts\"\n",
              "                style=\"display:none;\">\n",
              "\n",
              "<svg xmlns=\"http://www.w3.org/2000/svg\" height=\"24px\"viewBox=\"0 0 24 24\"\n",
              "     width=\"24px\">\n",
              "    <g>\n",
              "        <path d=\"M19 3H5c-1.1 0-2 .9-2 2v14c0 1.1.9 2 2 2h14c1.1 0 2-.9 2-2V5c0-1.1-.9-2-2-2zM9 17H7v-7h2v7zm4 0h-2V7h2v10zm4 0h-2v-4h2v4z\"/>\n",
              "    </g>\n",
              "</svg>\n",
              "      </button>\n",
              "\n",
              "<style>\n",
              "  .colab-df-quickchart {\n",
              "      --bg-color: #E8F0FE;\n",
              "      --fill-color: #1967D2;\n",
              "      --hover-bg-color: #E2EBFA;\n",
              "      --hover-fill-color: #174EA6;\n",
              "      --disabled-fill-color: #AAA;\n",
              "      --disabled-bg-color: #DDD;\n",
              "  }\n",
              "\n",
              "  [theme=dark] .colab-df-quickchart {\n",
              "      --bg-color: #3B4455;\n",
              "      --fill-color: #D2E3FC;\n",
              "      --hover-bg-color: #434B5C;\n",
              "      --hover-fill-color: #FFFFFF;\n",
              "      --disabled-bg-color: #3B4455;\n",
              "      --disabled-fill-color: #666;\n",
              "  }\n",
              "\n",
              "  .colab-df-quickchart {\n",
              "    background-color: var(--bg-color);\n",
              "    border: none;\n",
              "    border-radius: 50%;\n",
              "    cursor: pointer;\n",
              "    display: none;\n",
              "    fill: var(--fill-color);\n",
              "    height: 32px;\n",
              "    padding: 0;\n",
              "    width: 32px;\n",
              "  }\n",
              "\n",
              "  .colab-df-quickchart:hover {\n",
              "    background-color: var(--hover-bg-color);\n",
              "    box-shadow: 0 1px 2px rgba(60, 64, 67, 0.3), 0 1px 3px 1px rgba(60, 64, 67, 0.15);\n",
              "    fill: var(--button-hover-fill-color);\n",
              "  }\n",
              "\n",
              "  .colab-df-quickchart-complete:disabled,\n",
              "  .colab-df-quickchart-complete:disabled:hover {\n",
              "    background-color: var(--disabled-bg-color);\n",
              "    fill: var(--disabled-fill-color);\n",
              "    box-shadow: none;\n",
              "  }\n",
              "\n",
              "  .colab-df-spinner {\n",
              "    border: 2px solid var(--fill-color);\n",
              "    border-color: transparent;\n",
              "    border-bottom-color: var(--fill-color);\n",
              "    animation:\n",
              "      spin 1s steps(1) infinite;\n",
              "  }\n",
              "\n",
              "  @keyframes spin {\n",
              "    0% {\n",
              "      border-color: transparent;\n",
              "      border-bottom-color: var(--fill-color);\n",
              "      border-left-color: var(--fill-color);\n",
              "    }\n",
              "    20% {\n",
              "      border-color: transparent;\n",
              "      border-left-color: var(--fill-color);\n",
              "      border-top-color: var(--fill-color);\n",
              "    }\n",
              "    30% {\n",
              "      border-color: transparent;\n",
              "      border-left-color: var(--fill-color);\n",
              "      border-top-color: var(--fill-color);\n",
              "      border-right-color: var(--fill-color);\n",
              "    }\n",
              "    40% {\n",
              "      border-color: transparent;\n",
              "      border-right-color: var(--fill-color);\n",
              "      border-top-color: var(--fill-color);\n",
              "    }\n",
              "    60% {\n",
              "      border-color: transparent;\n",
              "      border-right-color: var(--fill-color);\n",
              "    }\n",
              "    80% {\n",
              "      border-color: transparent;\n",
              "      border-right-color: var(--fill-color);\n",
              "      border-bottom-color: var(--fill-color);\n",
              "    }\n",
              "    90% {\n",
              "      border-color: transparent;\n",
              "      border-bottom-color: var(--fill-color);\n",
              "    }\n",
              "  }\n",
              "</style>\n",
              "\n",
              "      <script>\n",
              "        async function quickchart(key) {\n",
              "          const quickchartButtonEl =\n",
              "            document.querySelector('#' + key + ' button');\n",
              "          quickchartButtonEl.disabled = true;  // To prevent multiple clicks.\n",
              "          quickchartButtonEl.classList.add('colab-df-spinner');\n",
              "          try {\n",
              "            const charts = await google.colab.kernel.invokeFunction(\n",
              "                'suggestCharts', [key], {});\n",
              "          } catch (error) {\n",
              "            console.error('Error during call to suggestCharts:', error);\n",
              "          }\n",
              "          quickchartButtonEl.classList.remove('colab-df-spinner');\n",
              "          quickchartButtonEl.classList.add('colab-df-quickchart-complete');\n",
              "        }\n",
              "        (() => {\n",
              "          let quickchartButtonEl =\n",
              "            document.querySelector('#df-fc21af32-c260-4139-9ded-d752ea1d9431 button');\n",
              "          quickchartButtonEl.style.display =\n",
              "            google.colab.kernel.accessAllowed ? 'block' : 'none';\n",
              "        })();\n",
              "      </script>\n",
              "    </div>\n",
              "\n",
              "    </div>\n",
              "  </div>\n"
            ],
            "application/vnd.google.colaboratory.intrinsic+json": {
              "type": "dataframe",
              "variable_name": "train_df",
              "summary": "{\n  \"name\": \"train_df\",\n  \"rows\": 7613,\n  \"fields\": [\n    {\n      \"column\": \"id\",\n      \"properties\": {\n        \"dtype\": \"number\",\n        \"std\": 3137,\n        \"min\": 1,\n        \"max\": 10873,\n        \"num_unique_values\": 7613,\n        \"samples\": [\n          3796,\n          3185,\n          7769\n        ],\n        \"semantic_type\": \"\",\n        \"description\": \"\"\n      }\n    },\n    {\n      \"column\": \"keyword\",\n      \"properties\": {\n        \"dtype\": \"category\",\n        \"num_unique_values\": 221,\n        \"samples\": [\n          \"injury\",\n          \"nuclear%20reactor\",\n          \"engulfed\"\n        ],\n        \"semantic_type\": \"\",\n        \"description\": \"\"\n      }\n    },\n    {\n      \"column\": \"location\",\n      \"properties\": {\n        \"dtype\": \"category\",\n        \"num_unique_values\": 3341,\n        \"samples\": [\n          \"Oklahoma\",\n          \"Starling City\",\n          \"Trinidad and Tobago\"\n        ],\n        \"semantic_type\": \"\",\n        \"description\": \"\"\n      }\n    },\n    {\n      \"column\": \"text\",\n      \"properties\": {\n        \"dtype\": \"string\",\n        \"num_unique_values\": 7503,\n        \"samples\": [\n          \"Three Homes Demolished in Unrecognized Arab Village - International Middle East Media Center http://t.co/ik8m4Yi9T4\",\n          \"Reid Lake fire prompts campground evacuation order http://t.co/jBODKM6rBU\",\n          \"FAAN orders evacuation of abandoned aircraft at MMA http://t.co/dEvYbnVXGQ via @todayng\"\n        ],\n        \"semantic_type\": \"\",\n        \"description\": \"\"\n      }\n    },\n    {\n      \"column\": \"target\",\n      \"properties\": {\n        \"dtype\": \"number\",\n        \"std\": 0,\n        \"min\": 0,\n        \"max\": 1,\n        \"num_unique_values\": 2,\n        \"samples\": [\n          0,\n          1\n        ],\n        \"semantic_type\": \"\",\n        \"description\": \"\"\n      }\n    }\n  ]\n}"
            }
          },
          "metadata": {},
          "execution_count": 122
        }
      ]
    },
    {
      "cell_type": "code",
      "source": [
        "train_df[\"text\"][0]"
      ],
      "metadata": {
        "colab": {
          "base_uri": "https://localhost:8080/",
          "height": 36
        },
        "id": "FD4GxPG7kGE0",
        "outputId": "384a87f7-dd53-4709-a50b-7f8187890b1a"
      },
      "execution_count": 123,
      "outputs": [
        {
          "output_type": "execute_result",
          "data": {
            "text/plain": [
              "'Our Deeds are the Reason of this #earthquake May ALLAH Forgive us all'"
            ],
            "application/vnd.google.colaboratory.intrinsic+json": {
              "type": "string"
            }
          },
          "metadata": {},
          "execution_count": 123
        }
      ]
    },
    {
      "cell_type": "code",
      "source": [
        "# Shuffle training dataframe\n",
        "train_df_shuffled = train_df.sample(frac=1, random_state=42)\n",
        "train_df_shuffled.head()"
      ],
      "metadata": {
        "colab": {
          "base_uri": "https://localhost:8080/",
          "height": 293
        },
        "id": "pCM4Ewi0kQDb",
        "outputId": "22300857-df1a-4d2c-cf50-d46d7c713e92"
      },
      "execution_count": 124,
      "outputs": [
        {
          "output_type": "execute_result",
          "data": {
            "text/plain": [
              "        id      keyword               location  \\\n",
              "2644  3796  destruction                    NaN   \n",
              "2227  3185       deluge                    NaN   \n",
              "5448  7769       police                     UK   \n",
              "132    191   aftershock                    NaN   \n",
              "6845  9810       trauma  Montgomery County, MD   \n",
              "\n",
              "                                                   text  target  \n",
              "2644  So you have a new weapon that can cause un-ima...       1  \n",
              "2227  The f$&amp;@ing things I do for #GISHWHES Just...       0  \n",
              "5448  DT @georgegalloway: RT @Galloway4Mayor: ÛÏThe...       1  \n",
              "132   Aftershock back to school kick off was great. ...       0  \n",
              "6845  in response to trauma Children of Addicts deve...       0  "
            ],
            "text/html": [
              "\n",
              "  <div id=\"df-3ea779eb-e2a6-46d4-a266-305eb0b18d05\" class=\"colab-df-container\">\n",
              "    <div>\n",
              "<style scoped>\n",
              "    .dataframe tbody tr th:only-of-type {\n",
              "        vertical-align: middle;\n",
              "    }\n",
              "\n",
              "    .dataframe tbody tr th {\n",
              "        vertical-align: top;\n",
              "    }\n",
              "\n",
              "    .dataframe thead th {\n",
              "        text-align: right;\n",
              "    }\n",
              "</style>\n",
              "<table border=\"1\" class=\"dataframe\">\n",
              "  <thead>\n",
              "    <tr style=\"text-align: right;\">\n",
              "      <th></th>\n",
              "      <th>id</th>\n",
              "      <th>keyword</th>\n",
              "      <th>location</th>\n",
              "      <th>text</th>\n",
              "      <th>target</th>\n",
              "    </tr>\n",
              "  </thead>\n",
              "  <tbody>\n",
              "    <tr>\n",
              "      <th>2644</th>\n",
              "      <td>3796</td>\n",
              "      <td>destruction</td>\n",
              "      <td>NaN</td>\n",
              "      <td>So you have a new weapon that can cause un-ima...</td>\n",
              "      <td>1</td>\n",
              "    </tr>\n",
              "    <tr>\n",
              "      <th>2227</th>\n",
              "      <td>3185</td>\n",
              "      <td>deluge</td>\n",
              "      <td>NaN</td>\n",
              "      <td>The f$&amp;amp;@ing things I do for #GISHWHES Just...</td>\n",
              "      <td>0</td>\n",
              "    </tr>\n",
              "    <tr>\n",
              "      <th>5448</th>\n",
              "      <td>7769</td>\n",
              "      <td>police</td>\n",
              "      <td>UK</td>\n",
              "      <td>DT @georgegalloway: RT @Galloway4Mayor: ÛÏThe...</td>\n",
              "      <td>1</td>\n",
              "    </tr>\n",
              "    <tr>\n",
              "      <th>132</th>\n",
              "      <td>191</td>\n",
              "      <td>aftershock</td>\n",
              "      <td>NaN</td>\n",
              "      <td>Aftershock back to school kick off was great. ...</td>\n",
              "      <td>0</td>\n",
              "    </tr>\n",
              "    <tr>\n",
              "      <th>6845</th>\n",
              "      <td>9810</td>\n",
              "      <td>trauma</td>\n",
              "      <td>Montgomery County, MD</td>\n",
              "      <td>in response to trauma Children of Addicts deve...</td>\n",
              "      <td>0</td>\n",
              "    </tr>\n",
              "  </tbody>\n",
              "</table>\n",
              "</div>\n",
              "    <div class=\"colab-df-buttons\">\n",
              "\n",
              "  <div class=\"colab-df-container\">\n",
              "    <button class=\"colab-df-convert\" onclick=\"convertToInteractive('df-3ea779eb-e2a6-46d4-a266-305eb0b18d05')\"\n",
              "            title=\"Convert this dataframe to an interactive table.\"\n",
              "            style=\"display:none;\">\n",
              "\n",
              "  <svg xmlns=\"http://www.w3.org/2000/svg\" height=\"24px\" viewBox=\"0 -960 960 960\">\n",
              "    <path d=\"M120-120v-720h720v720H120Zm60-500h600v-160H180v160Zm220 220h160v-160H400v160Zm0 220h160v-160H400v160ZM180-400h160v-160H180v160Zm440 0h160v-160H620v160ZM180-180h160v-160H180v160Zm440 0h160v-160H620v160Z\"/>\n",
              "  </svg>\n",
              "    </button>\n",
              "\n",
              "  <style>\n",
              "    .colab-df-container {\n",
              "      display:flex;\n",
              "      gap: 12px;\n",
              "    }\n",
              "\n",
              "    .colab-df-convert {\n",
              "      background-color: #E8F0FE;\n",
              "      border: none;\n",
              "      border-radius: 50%;\n",
              "      cursor: pointer;\n",
              "      display: none;\n",
              "      fill: #1967D2;\n",
              "      height: 32px;\n",
              "      padding: 0 0 0 0;\n",
              "      width: 32px;\n",
              "    }\n",
              "\n",
              "    .colab-df-convert:hover {\n",
              "      background-color: #E2EBFA;\n",
              "      box-shadow: 0px 1px 2px rgba(60, 64, 67, 0.3), 0px 1px 3px 1px rgba(60, 64, 67, 0.15);\n",
              "      fill: #174EA6;\n",
              "    }\n",
              "\n",
              "    .colab-df-buttons div {\n",
              "      margin-bottom: 4px;\n",
              "    }\n",
              "\n",
              "    [theme=dark] .colab-df-convert {\n",
              "      background-color: #3B4455;\n",
              "      fill: #D2E3FC;\n",
              "    }\n",
              "\n",
              "    [theme=dark] .colab-df-convert:hover {\n",
              "      background-color: #434B5C;\n",
              "      box-shadow: 0px 1px 3px 1px rgba(0, 0, 0, 0.15);\n",
              "      filter: drop-shadow(0px 1px 2px rgba(0, 0, 0, 0.3));\n",
              "      fill: #FFFFFF;\n",
              "    }\n",
              "  </style>\n",
              "\n",
              "    <script>\n",
              "      const buttonEl =\n",
              "        document.querySelector('#df-3ea779eb-e2a6-46d4-a266-305eb0b18d05 button.colab-df-convert');\n",
              "      buttonEl.style.display =\n",
              "        google.colab.kernel.accessAllowed ? 'block' : 'none';\n",
              "\n",
              "      async function convertToInteractive(key) {\n",
              "        const element = document.querySelector('#df-3ea779eb-e2a6-46d4-a266-305eb0b18d05');\n",
              "        const dataTable =\n",
              "          await google.colab.kernel.invokeFunction('convertToInteractive',\n",
              "                                                    [key], {});\n",
              "        if (!dataTable) return;\n",
              "\n",
              "        const docLinkHtml = 'Like what you see? Visit the ' +\n",
              "          '<a target=\"_blank\" href=https://colab.research.google.com/notebooks/data_table.ipynb>data table notebook</a>'\n",
              "          + ' to learn more about interactive tables.';\n",
              "        element.innerHTML = '';\n",
              "        dataTable['output_type'] = 'display_data';\n",
              "        await google.colab.output.renderOutput(dataTable, element);\n",
              "        const docLink = document.createElement('div');\n",
              "        docLink.innerHTML = docLinkHtml;\n",
              "        element.appendChild(docLink);\n",
              "      }\n",
              "    </script>\n",
              "  </div>\n",
              "\n",
              "\n",
              "    <div id=\"df-d2153b7d-b5a9-452a-afbb-155d7f078efa\">\n",
              "      <button class=\"colab-df-quickchart\" onclick=\"quickchart('df-d2153b7d-b5a9-452a-afbb-155d7f078efa')\"\n",
              "                title=\"Suggest charts\"\n",
              "                style=\"display:none;\">\n",
              "\n",
              "<svg xmlns=\"http://www.w3.org/2000/svg\" height=\"24px\"viewBox=\"0 0 24 24\"\n",
              "     width=\"24px\">\n",
              "    <g>\n",
              "        <path d=\"M19 3H5c-1.1 0-2 .9-2 2v14c0 1.1.9 2 2 2h14c1.1 0 2-.9 2-2V5c0-1.1-.9-2-2-2zM9 17H7v-7h2v7zm4 0h-2V7h2v10zm4 0h-2v-4h2v4z\"/>\n",
              "    </g>\n",
              "</svg>\n",
              "      </button>\n",
              "\n",
              "<style>\n",
              "  .colab-df-quickchart {\n",
              "      --bg-color: #E8F0FE;\n",
              "      --fill-color: #1967D2;\n",
              "      --hover-bg-color: #E2EBFA;\n",
              "      --hover-fill-color: #174EA6;\n",
              "      --disabled-fill-color: #AAA;\n",
              "      --disabled-bg-color: #DDD;\n",
              "  }\n",
              "\n",
              "  [theme=dark] .colab-df-quickchart {\n",
              "      --bg-color: #3B4455;\n",
              "      --fill-color: #D2E3FC;\n",
              "      --hover-bg-color: #434B5C;\n",
              "      --hover-fill-color: #FFFFFF;\n",
              "      --disabled-bg-color: #3B4455;\n",
              "      --disabled-fill-color: #666;\n",
              "  }\n",
              "\n",
              "  .colab-df-quickchart {\n",
              "    background-color: var(--bg-color);\n",
              "    border: none;\n",
              "    border-radius: 50%;\n",
              "    cursor: pointer;\n",
              "    display: none;\n",
              "    fill: var(--fill-color);\n",
              "    height: 32px;\n",
              "    padding: 0;\n",
              "    width: 32px;\n",
              "  }\n",
              "\n",
              "  .colab-df-quickchart:hover {\n",
              "    background-color: var(--hover-bg-color);\n",
              "    box-shadow: 0 1px 2px rgba(60, 64, 67, 0.3), 0 1px 3px 1px rgba(60, 64, 67, 0.15);\n",
              "    fill: var(--button-hover-fill-color);\n",
              "  }\n",
              "\n",
              "  .colab-df-quickchart-complete:disabled,\n",
              "  .colab-df-quickchart-complete:disabled:hover {\n",
              "    background-color: var(--disabled-bg-color);\n",
              "    fill: var(--disabled-fill-color);\n",
              "    box-shadow: none;\n",
              "  }\n",
              "\n",
              "  .colab-df-spinner {\n",
              "    border: 2px solid var(--fill-color);\n",
              "    border-color: transparent;\n",
              "    border-bottom-color: var(--fill-color);\n",
              "    animation:\n",
              "      spin 1s steps(1) infinite;\n",
              "  }\n",
              "\n",
              "  @keyframes spin {\n",
              "    0% {\n",
              "      border-color: transparent;\n",
              "      border-bottom-color: var(--fill-color);\n",
              "      border-left-color: var(--fill-color);\n",
              "    }\n",
              "    20% {\n",
              "      border-color: transparent;\n",
              "      border-left-color: var(--fill-color);\n",
              "      border-top-color: var(--fill-color);\n",
              "    }\n",
              "    30% {\n",
              "      border-color: transparent;\n",
              "      border-left-color: var(--fill-color);\n",
              "      border-top-color: var(--fill-color);\n",
              "      border-right-color: var(--fill-color);\n",
              "    }\n",
              "    40% {\n",
              "      border-color: transparent;\n",
              "      border-right-color: var(--fill-color);\n",
              "      border-top-color: var(--fill-color);\n",
              "    }\n",
              "    60% {\n",
              "      border-color: transparent;\n",
              "      border-right-color: var(--fill-color);\n",
              "    }\n",
              "    80% {\n",
              "      border-color: transparent;\n",
              "      border-right-color: var(--fill-color);\n",
              "      border-bottom-color: var(--fill-color);\n",
              "    }\n",
              "    90% {\n",
              "      border-color: transparent;\n",
              "      border-bottom-color: var(--fill-color);\n",
              "    }\n",
              "  }\n",
              "</style>\n",
              "\n",
              "      <script>\n",
              "        async function quickchart(key) {\n",
              "          const quickchartButtonEl =\n",
              "            document.querySelector('#' + key + ' button');\n",
              "          quickchartButtonEl.disabled = true;  // To prevent multiple clicks.\n",
              "          quickchartButtonEl.classList.add('colab-df-spinner');\n",
              "          try {\n",
              "            const charts = await google.colab.kernel.invokeFunction(\n",
              "                'suggestCharts', [key], {});\n",
              "          } catch (error) {\n",
              "            console.error('Error during call to suggestCharts:', error);\n",
              "          }\n",
              "          quickchartButtonEl.classList.remove('colab-df-spinner');\n",
              "          quickchartButtonEl.classList.add('colab-df-quickchart-complete');\n",
              "        }\n",
              "        (() => {\n",
              "          let quickchartButtonEl =\n",
              "            document.querySelector('#df-d2153b7d-b5a9-452a-afbb-155d7f078efa button');\n",
              "          quickchartButtonEl.style.display =\n",
              "            google.colab.kernel.accessAllowed ? 'block' : 'none';\n",
              "        })();\n",
              "      </script>\n",
              "    </div>\n",
              "\n",
              "    </div>\n",
              "  </div>\n"
            ],
            "application/vnd.google.colaboratory.intrinsic+json": {
              "type": "dataframe",
              "variable_name": "train_df_shuffled",
              "summary": "{\n  \"name\": \"train_df_shuffled\",\n  \"rows\": 7613,\n  \"fields\": [\n    {\n      \"column\": \"id\",\n      \"properties\": {\n        \"dtype\": \"number\",\n        \"std\": 3137,\n        \"min\": 1,\n        \"max\": 10873,\n        \"num_unique_values\": 7613,\n        \"samples\": [\n          7061,\n          843,\n          10603\n        ],\n        \"semantic_type\": \"\",\n        \"description\": \"\"\n      }\n    },\n    {\n      \"column\": \"keyword\",\n      \"properties\": {\n        \"dtype\": \"category\",\n        \"num_unique_values\": 221,\n        \"samples\": [\n          \"blazing\",\n          \"emergency\",\n          \"rescue\"\n        ],\n        \"semantic_type\": \"\",\n        \"description\": \"\"\n      }\n    },\n    {\n      \"column\": \"location\",\n      \"properties\": {\n        \"dtype\": \"category\",\n        \"num_unique_values\": 3341,\n        \"samples\": [\n          \"617-BTOWN-BEATDOWN\",\n          \"Newcastle Upon Tyne, England\",\n          \"Federal Capital Territory\"\n        ],\n        \"semantic_type\": \"\",\n        \"description\": \"\"\n      }\n    },\n    {\n      \"column\": \"text\",\n      \"properties\": {\n        \"dtype\": \"string\",\n        \"num_unique_values\": 7503,\n        \"samples\": [\n          \"This week first responders and DART members are participating in a four day intensive Technical Large Animal... http://t.co/tL93AOd3ER\",\n          \"My mom is watching a show about bridges breaking/falling and the people on them drowning in their cars aka one of my biggest fears ????\",\n          \"@NickLee8  i went to school in a bombed out East End of London3 families to one house no bathroom outside loo &amp; poor so whats yr point\"\n        ],\n        \"semantic_type\": \"\",\n        \"description\": \"\"\n      }\n    },\n    {\n      \"column\": \"target\",\n      \"properties\": {\n        \"dtype\": \"number\",\n        \"std\": 0,\n        \"min\": 0,\n        \"max\": 1,\n        \"num_unique_values\": 2,\n        \"samples\": [\n          0,\n          1\n        ],\n        \"semantic_type\": \"\",\n        \"description\": \"\"\n      }\n    }\n  ]\n}"
            }
          },
          "metadata": {},
          "execution_count": 124
        }
      ]
    },
    {
      "cell_type": "code",
      "source": [
        "# What does the test dataframe look like?\n",
        "test_df.head()"
      ],
      "metadata": {
        "colab": {
          "base_uri": "https://localhost:8080/",
          "height": 206
        },
        "id": "iK7Hoaf4E8dZ",
        "outputId": "9c55cba9-dd5d-48c6-ddfc-7b6477ee57c0"
      },
      "execution_count": 125,
      "outputs": [
        {
          "output_type": "execute_result",
          "data": {
            "text/plain": [
              "   id keyword location                                               text\n",
              "0   0     NaN      NaN                 Just happened a terrible car crash\n",
              "1   2     NaN      NaN  Heard about #earthquake is different cities, s...\n",
              "2   3     NaN      NaN  there is a forest fire at spot pond, geese are...\n",
              "3   9     NaN      NaN           Apocalypse lighting. #Spokane #wildfires\n",
              "4  11     NaN      NaN      Typhoon Soudelor kills 28 in China and Taiwan"
            ],
            "text/html": [
              "\n",
              "  <div id=\"df-4d4e74b8-d049-402a-8111-e537321bbf59\" class=\"colab-df-container\">\n",
              "    <div>\n",
              "<style scoped>\n",
              "    .dataframe tbody tr th:only-of-type {\n",
              "        vertical-align: middle;\n",
              "    }\n",
              "\n",
              "    .dataframe tbody tr th {\n",
              "        vertical-align: top;\n",
              "    }\n",
              "\n",
              "    .dataframe thead th {\n",
              "        text-align: right;\n",
              "    }\n",
              "</style>\n",
              "<table border=\"1\" class=\"dataframe\">\n",
              "  <thead>\n",
              "    <tr style=\"text-align: right;\">\n",
              "      <th></th>\n",
              "      <th>id</th>\n",
              "      <th>keyword</th>\n",
              "      <th>location</th>\n",
              "      <th>text</th>\n",
              "    </tr>\n",
              "  </thead>\n",
              "  <tbody>\n",
              "    <tr>\n",
              "      <th>0</th>\n",
              "      <td>0</td>\n",
              "      <td>NaN</td>\n",
              "      <td>NaN</td>\n",
              "      <td>Just happened a terrible car crash</td>\n",
              "    </tr>\n",
              "    <tr>\n",
              "      <th>1</th>\n",
              "      <td>2</td>\n",
              "      <td>NaN</td>\n",
              "      <td>NaN</td>\n",
              "      <td>Heard about #earthquake is different cities, s...</td>\n",
              "    </tr>\n",
              "    <tr>\n",
              "      <th>2</th>\n",
              "      <td>3</td>\n",
              "      <td>NaN</td>\n",
              "      <td>NaN</td>\n",
              "      <td>there is a forest fire at spot pond, geese are...</td>\n",
              "    </tr>\n",
              "    <tr>\n",
              "      <th>3</th>\n",
              "      <td>9</td>\n",
              "      <td>NaN</td>\n",
              "      <td>NaN</td>\n",
              "      <td>Apocalypse lighting. #Spokane #wildfires</td>\n",
              "    </tr>\n",
              "    <tr>\n",
              "      <th>4</th>\n",
              "      <td>11</td>\n",
              "      <td>NaN</td>\n",
              "      <td>NaN</td>\n",
              "      <td>Typhoon Soudelor kills 28 in China and Taiwan</td>\n",
              "    </tr>\n",
              "  </tbody>\n",
              "</table>\n",
              "</div>\n",
              "    <div class=\"colab-df-buttons\">\n",
              "\n",
              "  <div class=\"colab-df-container\">\n",
              "    <button class=\"colab-df-convert\" onclick=\"convertToInteractive('df-4d4e74b8-d049-402a-8111-e537321bbf59')\"\n",
              "            title=\"Convert this dataframe to an interactive table.\"\n",
              "            style=\"display:none;\">\n",
              "\n",
              "  <svg xmlns=\"http://www.w3.org/2000/svg\" height=\"24px\" viewBox=\"0 -960 960 960\">\n",
              "    <path d=\"M120-120v-720h720v720H120Zm60-500h600v-160H180v160Zm220 220h160v-160H400v160Zm0 220h160v-160H400v160ZM180-400h160v-160H180v160Zm440 0h160v-160H620v160ZM180-180h160v-160H180v160Zm440 0h160v-160H620v160Z\"/>\n",
              "  </svg>\n",
              "    </button>\n",
              "\n",
              "  <style>\n",
              "    .colab-df-container {\n",
              "      display:flex;\n",
              "      gap: 12px;\n",
              "    }\n",
              "\n",
              "    .colab-df-convert {\n",
              "      background-color: #E8F0FE;\n",
              "      border: none;\n",
              "      border-radius: 50%;\n",
              "      cursor: pointer;\n",
              "      display: none;\n",
              "      fill: #1967D2;\n",
              "      height: 32px;\n",
              "      padding: 0 0 0 0;\n",
              "      width: 32px;\n",
              "    }\n",
              "\n",
              "    .colab-df-convert:hover {\n",
              "      background-color: #E2EBFA;\n",
              "      box-shadow: 0px 1px 2px rgba(60, 64, 67, 0.3), 0px 1px 3px 1px rgba(60, 64, 67, 0.15);\n",
              "      fill: #174EA6;\n",
              "    }\n",
              "\n",
              "    .colab-df-buttons div {\n",
              "      margin-bottom: 4px;\n",
              "    }\n",
              "\n",
              "    [theme=dark] .colab-df-convert {\n",
              "      background-color: #3B4455;\n",
              "      fill: #D2E3FC;\n",
              "    }\n",
              "\n",
              "    [theme=dark] .colab-df-convert:hover {\n",
              "      background-color: #434B5C;\n",
              "      box-shadow: 0px 1px 3px 1px rgba(0, 0, 0, 0.15);\n",
              "      filter: drop-shadow(0px 1px 2px rgba(0, 0, 0, 0.3));\n",
              "      fill: #FFFFFF;\n",
              "    }\n",
              "  </style>\n",
              "\n",
              "    <script>\n",
              "      const buttonEl =\n",
              "        document.querySelector('#df-4d4e74b8-d049-402a-8111-e537321bbf59 button.colab-df-convert');\n",
              "      buttonEl.style.display =\n",
              "        google.colab.kernel.accessAllowed ? 'block' : 'none';\n",
              "\n",
              "      async function convertToInteractive(key) {\n",
              "        const element = document.querySelector('#df-4d4e74b8-d049-402a-8111-e537321bbf59');\n",
              "        const dataTable =\n",
              "          await google.colab.kernel.invokeFunction('convertToInteractive',\n",
              "                                                    [key], {});\n",
              "        if (!dataTable) return;\n",
              "\n",
              "        const docLinkHtml = 'Like what you see? Visit the ' +\n",
              "          '<a target=\"_blank\" href=https://colab.research.google.com/notebooks/data_table.ipynb>data table notebook</a>'\n",
              "          + ' to learn more about interactive tables.';\n",
              "        element.innerHTML = '';\n",
              "        dataTable['output_type'] = 'display_data';\n",
              "        await google.colab.output.renderOutput(dataTable, element);\n",
              "        const docLink = document.createElement('div');\n",
              "        docLink.innerHTML = docLinkHtml;\n",
              "        element.appendChild(docLink);\n",
              "      }\n",
              "    </script>\n",
              "  </div>\n",
              "\n",
              "\n",
              "    <div id=\"df-3961b65c-9a8b-40e8-8048-3f7e8163f4e4\">\n",
              "      <button class=\"colab-df-quickchart\" onclick=\"quickchart('df-3961b65c-9a8b-40e8-8048-3f7e8163f4e4')\"\n",
              "                title=\"Suggest charts\"\n",
              "                style=\"display:none;\">\n",
              "\n",
              "<svg xmlns=\"http://www.w3.org/2000/svg\" height=\"24px\"viewBox=\"0 0 24 24\"\n",
              "     width=\"24px\">\n",
              "    <g>\n",
              "        <path d=\"M19 3H5c-1.1 0-2 .9-2 2v14c0 1.1.9 2 2 2h14c1.1 0 2-.9 2-2V5c0-1.1-.9-2-2-2zM9 17H7v-7h2v7zm4 0h-2V7h2v10zm4 0h-2v-4h2v4z\"/>\n",
              "    </g>\n",
              "</svg>\n",
              "      </button>\n",
              "\n",
              "<style>\n",
              "  .colab-df-quickchart {\n",
              "      --bg-color: #E8F0FE;\n",
              "      --fill-color: #1967D2;\n",
              "      --hover-bg-color: #E2EBFA;\n",
              "      --hover-fill-color: #174EA6;\n",
              "      --disabled-fill-color: #AAA;\n",
              "      --disabled-bg-color: #DDD;\n",
              "  }\n",
              "\n",
              "  [theme=dark] .colab-df-quickchart {\n",
              "      --bg-color: #3B4455;\n",
              "      --fill-color: #D2E3FC;\n",
              "      --hover-bg-color: #434B5C;\n",
              "      --hover-fill-color: #FFFFFF;\n",
              "      --disabled-bg-color: #3B4455;\n",
              "      --disabled-fill-color: #666;\n",
              "  }\n",
              "\n",
              "  .colab-df-quickchart {\n",
              "    background-color: var(--bg-color);\n",
              "    border: none;\n",
              "    border-radius: 50%;\n",
              "    cursor: pointer;\n",
              "    display: none;\n",
              "    fill: var(--fill-color);\n",
              "    height: 32px;\n",
              "    padding: 0;\n",
              "    width: 32px;\n",
              "  }\n",
              "\n",
              "  .colab-df-quickchart:hover {\n",
              "    background-color: var(--hover-bg-color);\n",
              "    box-shadow: 0 1px 2px rgba(60, 64, 67, 0.3), 0 1px 3px 1px rgba(60, 64, 67, 0.15);\n",
              "    fill: var(--button-hover-fill-color);\n",
              "  }\n",
              "\n",
              "  .colab-df-quickchart-complete:disabled,\n",
              "  .colab-df-quickchart-complete:disabled:hover {\n",
              "    background-color: var(--disabled-bg-color);\n",
              "    fill: var(--disabled-fill-color);\n",
              "    box-shadow: none;\n",
              "  }\n",
              "\n",
              "  .colab-df-spinner {\n",
              "    border: 2px solid var(--fill-color);\n",
              "    border-color: transparent;\n",
              "    border-bottom-color: var(--fill-color);\n",
              "    animation:\n",
              "      spin 1s steps(1) infinite;\n",
              "  }\n",
              "\n",
              "  @keyframes spin {\n",
              "    0% {\n",
              "      border-color: transparent;\n",
              "      border-bottom-color: var(--fill-color);\n",
              "      border-left-color: var(--fill-color);\n",
              "    }\n",
              "    20% {\n",
              "      border-color: transparent;\n",
              "      border-left-color: var(--fill-color);\n",
              "      border-top-color: var(--fill-color);\n",
              "    }\n",
              "    30% {\n",
              "      border-color: transparent;\n",
              "      border-left-color: var(--fill-color);\n",
              "      border-top-color: var(--fill-color);\n",
              "      border-right-color: var(--fill-color);\n",
              "    }\n",
              "    40% {\n",
              "      border-color: transparent;\n",
              "      border-right-color: var(--fill-color);\n",
              "      border-top-color: var(--fill-color);\n",
              "    }\n",
              "    60% {\n",
              "      border-color: transparent;\n",
              "      border-right-color: var(--fill-color);\n",
              "    }\n",
              "    80% {\n",
              "      border-color: transparent;\n",
              "      border-right-color: var(--fill-color);\n",
              "      border-bottom-color: var(--fill-color);\n",
              "    }\n",
              "    90% {\n",
              "      border-color: transparent;\n",
              "      border-bottom-color: var(--fill-color);\n",
              "    }\n",
              "  }\n",
              "</style>\n",
              "\n",
              "      <script>\n",
              "        async function quickchart(key) {\n",
              "          const quickchartButtonEl =\n",
              "            document.querySelector('#' + key + ' button');\n",
              "          quickchartButtonEl.disabled = true;  // To prevent multiple clicks.\n",
              "          quickchartButtonEl.classList.add('colab-df-spinner');\n",
              "          try {\n",
              "            const charts = await google.colab.kernel.invokeFunction(\n",
              "                'suggestCharts', [key], {});\n",
              "          } catch (error) {\n",
              "            console.error('Error during call to suggestCharts:', error);\n",
              "          }\n",
              "          quickchartButtonEl.classList.remove('colab-df-spinner');\n",
              "          quickchartButtonEl.classList.add('colab-df-quickchart-complete');\n",
              "        }\n",
              "        (() => {\n",
              "          let quickchartButtonEl =\n",
              "            document.querySelector('#df-3961b65c-9a8b-40e8-8048-3f7e8163f4e4 button');\n",
              "          quickchartButtonEl.style.display =\n",
              "            google.colab.kernel.accessAllowed ? 'block' : 'none';\n",
              "        })();\n",
              "      </script>\n",
              "    </div>\n",
              "\n",
              "    </div>\n",
              "  </div>\n"
            ],
            "application/vnd.google.colaboratory.intrinsic+json": {
              "type": "dataframe",
              "variable_name": "test_df",
              "summary": "{\n  \"name\": \"test_df\",\n  \"rows\": 3263,\n  \"fields\": [\n    {\n      \"column\": \"id\",\n      \"properties\": {\n        \"dtype\": \"number\",\n        \"std\": 3146,\n        \"min\": 0,\n        \"max\": 10875,\n        \"num_unique_values\": 3263,\n        \"samples\": [\n          8051,\n          425,\n          1330\n        ],\n        \"semantic_type\": \"\",\n        \"description\": \"\"\n      }\n    },\n    {\n      \"column\": \"keyword\",\n      \"properties\": {\n        \"dtype\": \"category\",\n        \"num_unique_values\": 221,\n        \"samples\": [\n          \"injury\",\n          \"nuclear%20reactor\",\n          \"engulfed\"\n        ],\n        \"semantic_type\": \"\",\n        \"description\": \"\"\n      }\n    },\n    {\n      \"column\": \"location\",\n      \"properties\": {\n        \"dtype\": \"category\",\n        \"num_unique_values\": 1602,\n        \"samples\": [\n          \"UAE\",\n          \"Tokio / Tokyo\",\n          \"Texas\"\n        ],\n        \"semantic_type\": \"\",\n        \"description\": \"\"\n      }\n    },\n    {\n      \"column\": \"text\",\n      \"properties\": {\n        \"dtype\": \"string\",\n        \"num_unique_values\": 3243,\n        \"samples\": [\n          \"Latest: USA: Huge sinkhole swallows up Brooklyn intersection http://t.co/vspKHg3nZy\",\n          \"I liked a @YouTube video http://t.co/a5YTAw9Vih S.O.S. Rona Guide - The Red Whirlwind\",\n          \"HitchBot travels Europe and greeted with open arms. Gets destroyed after two weeks in america. There's a lesson to be learned here.\"\n        ],\n        \"semantic_type\": \"\",\n        \"description\": \"\"\n      }\n    }\n  ]\n}"
            }
          },
          "metadata": {},
          "execution_count": 125
        }
      ]
    },
    {
      "cell_type": "code",
      "source": [
        "# How many examples of each class have?\n",
        "train_df.target.value_counts()"
      ],
      "metadata": {
        "colab": {
          "base_uri": "https://localhost:8080/",
          "height": 178
        },
        "id": "eUZLhe_qJOoL",
        "outputId": "49c5cedc-6156-4ce4-a105-f45d6e5cd147"
      },
      "execution_count": 126,
      "outputs": [
        {
          "output_type": "execute_result",
          "data": {
            "text/plain": [
              "target\n",
              "0    4342\n",
              "1    3271\n",
              "Name: count, dtype: int64"
            ],
            "text/html": [
              "<div>\n",
              "<style scoped>\n",
              "    .dataframe tbody tr th:only-of-type {\n",
              "        vertical-align: middle;\n",
              "    }\n",
              "\n",
              "    .dataframe tbody tr th {\n",
              "        vertical-align: top;\n",
              "    }\n",
              "\n",
              "    .dataframe thead th {\n",
              "        text-align: right;\n",
              "    }\n",
              "</style>\n",
              "<table border=\"1\" class=\"dataframe\">\n",
              "  <thead>\n",
              "    <tr style=\"text-align: right;\">\n",
              "      <th></th>\n",
              "      <th>count</th>\n",
              "    </tr>\n",
              "    <tr>\n",
              "      <th>target</th>\n",
              "      <th></th>\n",
              "    </tr>\n",
              "  </thead>\n",
              "  <tbody>\n",
              "    <tr>\n",
              "      <th>0</th>\n",
              "      <td>4342</td>\n",
              "    </tr>\n",
              "    <tr>\n",
              "      <th>1</th>\n",
              "      <td>3271</td>\n",
              "    </tr>\n",
              "  </tbody>\n",
              "</table>\n",
              "</div><br><label><b>dtype:</b> int64</label>"
            ]
          },
          "metadata": {},
          "execution_count": 126
        }
      ]
    },
    {
      "cell_type": "code",
      "source": [
        "# How many total samples?\n",
        "len(train_df), len(test_df)"
      ],
      "metadata": {
        "id": "Ff_8Q9hHXJfk",
        "colab": {
          "base_uri": "https://localhost:8080/"
        },
        "outputId": "eeae613a-710f-43c1-abb3-f33a94c77246"
      },
      "execution_count": 127,
      "outputs": [
        {
          "output_type": "execute_result",
          "data": {
            "text/plain": [
              "(7613, 3263)"
            ]
          },
          "metadata": {},
          "execution_count": 127
        }
      ]
    },
    {
      "cell_type": "code",
      "source": [
        "# Let's visualize some random training examples\n",
        "import random\n",
        "random_index = random.randint(0, len(train_df)-5) # create random indexes not higher than the total number of samples\n",
        "for row in train_df_shuffled[[\"text\", \"target\"]][random_index:random_index+5].itertuples():\n",
        "  _, text, target = row\n",
        "  print(f\"Target: {target}\", \"(real diaster)\" if target > 0 else \"(not real diaster)\")\n",
        "  print(f\"Text:\\n {text}\\n\")\n",
        "  print(\"---\\n\")"
      ],
      "metadata": {
        "colab": {
          "base_uri": "https://localhost:8080/"
        },
        "id": "AABfQWgKC5pc",
        "outputId": "d2dd99ed-63bd-4383-8f33-3c243deb8953"
      },
      "execution_count": 128,
      "outputs": [
        {
          "output_type": "stream",
          "name": "stdout",
          "text": [
            "Target: 1 (real diaster)\n",
            "Text:\n",
            " 2 pple have been confirmed dead and over 20 rescued while many went missing after a ferry carrying 200 collided with a fishing boat.#News\n",
            "\n",
            "---\n",
            "\n",
            "Target: 1 (real diaster)\n",
            "Text:\n",
            " NTSB: Virgin Galactic's SpaceshipTwo crash due to structural failure when braking system unlocked early http://t.co/EYSbLYX6L6 via @KPCC @AP\n",
            "\n",
            "---\n",
            "\n",
            "Target: 1 (real diaster)\n",
            "Text:\n",
            " Refugio oil spill may have been costlier bigger than projected http://t.co/FPaouLWU3N\n",
            "\n",
            "---\n",
            "\n",
            "Target: 1 (real diaster)\n",
            "Text:\n",
            " Unlicensed teen driver among 2 killed in NC crash http://t.co/Woc6AkEHYX\n",
            "\n",
            "---\n",
            "\n",
            "Target: 1 (real diaster)\n",
            "Text:\n",
            " Windstorm lastingness perquisite - acquiesce in a twister retreat: ZiUW http://t.co/iRt4kkgsJx\n",
            "\n",
            "---\n",
            "\n"
          ]
        }
      ]
    },
    {
      "cell_type": "markdown",
      "source": [
        "### Split data into training and validation sets\n",
        "\n",
        "For more data: https://scikit-learn.org/stable/modules/generated/sklearn.model_selection.train_test_split.html"
      ],
      "metadata": {
        "id": "aUO5RbfLDr6x"
      }
    },
    {
      "cell_type": "code",
      "source": [
        "from sklearn.model_selection import train_test_split"
      ],
      "metadata": {
        "id": "PX_qzUCtDyuB"
      },
      "execution_count": 129,
      "outputs": []
    },
    {
      "cell_type": "code",
      "source": [
        "# Use train_test_split to split training data into training and validation sets\n",
        "train_sentences, val_sentences, train_labels, val_labels = train_test_split(train_df_shuffled[\"text\"].to_numpy(),\n",
        "                                                                            train_df_shuffled[\"target\"].to_numpy(),\n",
        "                                                                            test_size=0.1, # use 10% of training data for validation\n",
        "                                                                            random_state=42)"
      ],
      "metadata": {
        "id": "d56mQ3dIETLr"
      },
      "execution_count": 130,
      "outputs": []
    },
    {
      "cell_type": "code",
      "source": [
        "# Check the lengths\n",
        "len(train_sentences), len(train_labels), len(val_sentences), len(val_labels)"
      ],
      "metadata": {
        "colab": {
          "base_uri": "https://localhost:8080/"
        },
        "id": "NDUqVAPKFSxb",
        "outputId": "00de6bdf-edf5-4b8b-ecd1-9758286dff9c"
      },
      "execution_count": 131,
      "outputs": [
        {
          "output_type": "execute_result",
          "data": {
            "text/plain": [
              "(6851, 6851, 762, 762)"
            ]
          },
          "metadata": {},
          "execution_count": 131
        }
      ]
    },
    {
      "cell_type": "code",
      "source": [
        "len(train_df_shuffled)"
      ],
      "metadata": {
        "colab": {
          "base_uri": "https://localhost:8080/"
        },
        "id": "bg5dMiRqFfgY",
        "outputId": "a96e39e6-fd73-45c4-fc86-bd3d90792d9f"
      },
      "execution_count": 132,
      "outputs": [
        {
          "output_type": "execute_result",
          "data": {
            "text/plain": [
              "7613"
            ]
          },
          "metadata": {},
          "execution_count": 132
        }
      ]
    },
    {
      "cell_type": "code",
      "source": [
        "# Check the first 10 samples\n",
        "train_sentences[:10], train_labels[:10]"
      ],
      "metadata": {
        "colab": {
          "base_uri": "https://localhost:8080/"
        },
        "id": "oFabGNZWFkvp",
        "outputId": "814149ba-0470-4132-d354-e5fa29cdb194"
      },
      "execution_count": 133,
      "outputs": [
        {
          "output_type": "execute_result",
          "data": {
            "text/plain": [
              "(array(['@mogacola @zamtriossu i screamed after hitting tweet',\n",
              "        'Imagine getting flattened by Kurt Zouma',\n",
              "        '@Gurmeetramrahim #MSGDoing111WelfareWorks Green S welfare force ke appx 65000 members har time disaster victim ki help ke liye tyar hai....',\n",
              "        \"@shakjn @C7 @Magnums im shaking in fear he's gonna hack the planet\",\n",
              "        'Somehow find you and I collide http://t.co/Ee8RpOahPk',\n",
              "        '@EvaHanderek @MarleyKnysh great times until the bus driver held us hostage in the mall parking lot lmfao',\n",
              "        'destroy the free fandom honestly',\n",
              "        'Weapons stolen from National Guard Armory in New Albany still missing #Gunsense http://t.co/lKNU8902JE',\n",
              "        '@wfaaweather Pete when will the heat wave pass? Is it really going to be mid month? Frisco Boy Scouts have a canoe trip in Okla.',\n",
              "        'Patient-reported outcomes in long-term survivors of metastatic colorectal cancer - British Journal of Surgery http://t.co/5Yl4DC1Tqt'],\n",
              "       dtype=object),\n",
              " array([0, 0, 1, 0, 0, 1, 1, 0, 1, 1]))"
            ]
          },
          "metadata": {},
          "execution_count": 133
        }
      ]
    },
    {
      "cell_type": "markdown",
      "source": [
        "## Converting text into numbers\n",
        "\n",
        "When dealing with a text problem, one of the first things we'll have to do before we can build a model is to convert our text to numbers.\n",
        "\n",
        "There are a few ways to do this, namely:\n",
        "* Tokenization - direct mapping of token (a token could be a word or a character) to number.\n",
        "* Embedding - create a matrix of feature vector for each token (the size of the feature vector can be defined and this embedding can be learned)."
      ],
      "metadata": {
        "id": "KOJ__fopGDCM"
      }
    },
    {
      "cell_type": "markdown",
      "source": [
        "### Text vectorization (tokenization)"
      ],
      "metadata": {
        "id": "VpQU1kCCHXHQ"
      }
    },
    {
      "cell_type": "code",
      "source": [
        "train_sentences[:5]"
      ],
      "metadata": {
        "colab": {
          "base_uri": "https://localhost:8080/"
        },
        "id": "WnjA3XBqHc-c",
        "outputId": "0027a70b-91b2-484b-b01d-746b6083fd9f"
      },
      "execution_count": 134,
      "outputs": [
        {
          "output_type": "execute_result",
          "data": {
            "text/plain": [
              "array(['@mogacola @zamtriossu i screamed after hitting tweet',\n",
              "       'Imagine getting flattened by Kurt Zouma',\n",
              "       '@Gurmeetramrahim #MSGDoing111WelfareWorks Green S welfare force ke appx 65000 members har time disaster victim ki help ke liye tyar hai....',\n",
              "       \"@shakjn @C7 @Magnums im shaking in fear he's gonna hack the planet\",\n",
              "       'Somehow find you and I collide http://t.co/Ee8RpOahPk'],\n",
              "      dtype=object)"
            ]
          },
          "metadata": {},
          "execution_count": 134
        }
      ]
    },
    {
      "cell_type": "markdown",
      "source": [
        "Info about `TextVectorization`: [Link](https://www.tensorflow.org/api_docs/python/tf/keras/layers/TextVectorization)"
      ],
      "metadata": {
        "id": "RuHzxeywLCrC"
      }
    },
    {
      "cell_type": "code",
      "source": [
        "import tensorflow as tf\n",
        "from keras.layers import TextVectorization"
      ],
      "metadata": {
        "id": "DkNHsnetHjyk"
      },
      "execution_count": 135,
      "outputs": []
    },
    {
      "cell_type": "code",
      "source": [
        "# Use the default TextVectorization parameters\n",
        "text_vextorizer = TextVectorization(max_tokens=None, # how many words in the vocabulary\n",
        "                                    standardize=\"lower_and_strip_punctuation\",\n",
        "                                    split=\"whitespace\",\n",
        "                                    ngrams=None, # create groups of n-words?\n",
        "                                    output_mode=\"int\", # how to map tokens to numbers\n",
        "                                    output_sequence_length=None, # how long do we want our sequences to be?\n",
        "                                    pad_to_max_tokens=False) # if `max_tokens` has value then it can have `True` or a `number` value"
      ],
      "metadata": {
        "id": "HJ46FeoeL1ww"
      },
      "execution_count": 136,
      "outputs": []
    },
    {
      "cell_type": "code",
      "source": [
        "x = train_sentences[0].split()\n",
        "print(x, \"\\n\", len(x))"
      ],
      "metadata": {
        "colab": {
          "base_uri": "https://localhost:8080/"
        },
        "id": "d0_hLVGr4Oac",
        "outputId": "9c436fc7-372a-4f1d-99ba-711be75bab5c"
      },
      "execution_count": 137,
      "outputs": [
        {
          "output_type": "stream",
          "name": "stdout",
          "text": [
            "['@mogacola', '@zamtriossu', 'i', 'screamed', 'after', 'hitting', 'tweet'] \n",
            " 7\n"
          ]
        }
      ]
    },
    {
      "cell_type": "code",
      "source": [
        "# Find the average number of tokens (words) in the training tweets\n",
        "round(sum([len(i.split()) for i in train_sentences])/len(train_sentences))"
      ],
      "metadata": {
        "id": "HXLKQtrBPjzQ",
        "colab": {
          "base_uri": "https://localhost:8080/"
        },
        "outputId": "d589f713-1024-4fdb-ac59-b7c54143b7fd"
      },
      "execution_count": 138,
      "outputs": [
        {
          "output_type": "execute_result",
          "data": {
            "text/plain": [
              "15"
            ]
          },
          "metadata": {},
          "execution_count": 138
        }
      ]
    },
    {
      "cell_type": "code",
      "source": [
        "# Setup text vectorization variables\n",
        "max_vocab_length = 10000 # max number of words to have in our vocabulary\n",
        "max_length = 15 # max length our sequences will be (e.g. how many words from a Tweet does a model see?)\n",
        "\n",
        "text_vectorizer = TextVectorization(max_tokens=max_vocab_length,\n",
        "                                    output_mode=\"int\",\n",
        "                                    output_sequence_length=max_length)"
      ],
      "metadata": {
        "id": "Wu0TJ0Ln5hdL"
      },
      "execution_count": 139,
      "outputs": []
    },
    {
      "cell_type": "code",
      "source": [
        "# Fit the text vectorizer to the training text\n",
        "text_vectorizer.adapt(train_sentences)"
      ],
      "metadata": {
        "id": "v7NxJEe36WeB"
      },
      "execution_count": 140,
      "outputs": []
    },
    {
      "cell_type": "code",
      "source": [
        "# Create a sample sentence and tokenize it\n",
        "sample_sentence = \"There's a flood in my street!\"\n",
        "text_vectorizer([sample_sentence])"
      ],
      "metadata": {
        "colab": {
          "base_uri": "https://localhost:8080/"
        },
        "id": "IStpoe3-7ReS",
        "outputId": "669dd660-7e39-4262-a7dd-9f548978a0de"
      },
      "execution_count": 141,
      "outputs": [
        {
          "output_type": "execute_result",
          "data": {
            "text/plain": [
              "<tf.Tensor: shape=(1, 15), dtype=int64, numpy=\n",
              "array([[264,   3, 232,   4,  13, 698,   0,   0,   0,   0,   0,   0,   0,\n",
              "          0,   0]])>"
            ]
          },
          "metadata": {},
          "execution_count": 141
        }
      ]
    },
    {
      "cell_type": "code",
      "source": [
        "# Choose a random sentence from the training dataset and tokenize it\n",
        "random_sentence = random.choice(train_sentences)\n",
        "print(f\"Original text:\\n {random_sentence}\\\n",
        "        \\n\\n Vectorized version:\")\n",
        "text_vectorizer([random_sentence])"
      ],
      "metadata": {
        "colab": {
          "base_uri": "https://localhost:8080/"
        },
        "id": "TUUk7X7a7_j4",
        "outputId": "8d99528c-8555-463c-e4ff-57a87230ebe4"
      },
      "execution_count": 142,
      "outputs": [
        {
          "output_type": "stream",
          "name": "stdout",
          "text": [
            "Original text:\n",
            " Slums are a manifestation state failure to provide housing to citizens. Illegality discourse confounds structural problems. #stopevictions        \n",
            "\n",
            " Vectorized version:\n"
          ]
        },
        {
          "output_type": "execute_result",
          "data": {
            "text/plain": [
              "<tf.Tensor: shape=(1, 15), dtype=int64, numpy=\n",
              "array([[8394,   22,    3,    1,  265,  320,    5, 3509, 2433,    5, 4004,\n",
              "           1,    1,    1,  384]])>"
            ]
          },
          "metadata": {},
          "execution_count": 142
        }
      ]
    },
    {
      "cell_type": "code",
      "source": [
        "# Get the unique words in the vocabulary\n",
        "words_in_vocab = text_vectorizer.get_vocabulary() # get all of the unique words in our training data\n",
        "top_5_words = words_in_vocab[:5] # get the most common words\n",
        "bottom_5_words = words_in_vocab[-5:] # get the least common words\n",
        "print(f\"Number of words in vocab: {len(words_in_vocab)}\")\n",
        "print(f\"Top 5 most common words: {top_5_words}\")\n",
        "print(f\"Bottom 5 least common words: {bottom_5_words}\")"
      ],
      "metadata": {
        "colab": {
          "base_uri": "https://localhost:8080/"
        },
        "id": "CyttAMiC9M2E",
        "outputId": "ec84e4b1-2fdd-4bb2-a05f-a126bf75b534"
      },
      "execution_count": 143,
      "outputs": [
        {
          "output_type": "stream",
          "name": "stdout",
          "text": [
            "Number of words in vocab: 10000\n",
            "Top 5 most common words: ['', '[UNK]', np.str_('the'), np.str_('a'), np.str_('in')]\n",
            "Bottom 5 least common words: [np.str_('pages'), np.str_('paeds'), np.str_('pads'), np.str_('padres'), np.str_('paddytomlinson1')]\n"
          ]
        }
      ]
    },
    {
      "cell_type": "markdown",
      "source": [
        "### Creating an Embedding using an Embedding Layer\n",
        "\n",
        "To make our embedding, we're going to use TensorFlow's embedding layer: https://www.tensorflow.org/api_docs/python/tf/keras/layers/Embedding\n",
        "\n",
        "The parameters we care most about for our embedding layer:\n",
        "* `input_dim` = the size of our vocabulary.\n",
        "* `output_dim` = the size of the output embedding vector, for example: a value of 100 would mean each token gets represented by a vector 100 long.\n",
        "* `input_length` = length of the sequences being passed to the embedding layer."
      ],
      "metadata": {
        "id": "2XvAF_xWYb0h"
      }
    },
    {
      "cell_type": "code",
      "source": [
        "from tensorflow.keras import layers\n",
        "\n",
        "embedding = layers.Embedding(input_dim=max_vocab_length, # set input shape\n",
        "                             output_dim=128, # output shape\n",
        "                             embeddings_initializer=\"uniform\",\n",
        "                             input_length=max_length # how long is each input\n",
        "                             )\n",
        "embedding"
      ],
      "metadata": {
        "colab": {
          "base_uri": "https://localhost:8080/"
        },
        "id": "syPPo4nkY13v",
        "outputId": "a8970d21-7503-400c-a645-e9b71abbae62"
      },
      "execution_count": 144,
      "outputs": [
        {
          "output_type": "stream",
          "name": "stderr",
          "text": [
            "/usr/local/lib/python3.12/dist-packages/keras/src/layers/core/embedding.py:97: UserWarning: Argument `input_length` is deprecated. Just remove it.\n",
            "  warnings.warn(\n"
          ]
        },
        {
          "output_type": "execute_result",
          "data": {
            "text/plain": [
              "<Embedding name=embedding_1, built=False>"
            ]
          },
          "metadata": {},
          "execution_count": 144
        }
      ]
    },
    {
      "cell_type": "code",
      "source": [
        "# Get a random sentence from the training set\n",
        "random_sentence = random.choice(train_sentences)\n",
        "print(f\"Original text:\\n {random_sentence}\\\n",
        "        \\n\\nEmbedded version:\")\n",
        "\n",
        "# Embed the random sentence (turn it into dense vectors of fixed size)\n",
        "sample_embed = embedding(text_vectorizer([random_sentence]))\n",
        "sample_embed"
      ],
      "metadata": {
        "colab": {
          "base_uri": "https://localhost:8080/"
        },
        "id": "NGROGJBQdPCu",
        "outputId": "0c8f7c94-cf4b-48d5-9342-529f911d54c2"
      },
      "execution_count": 145,
      "outputs": [
        {
          "output_type": "stream",
          "name": "stdout",
          "text": [
            "Original text:\n",
            " pic of me and blaze in a fort when we were kids i look like a jackass stuffin my face like that ?????? http://t.co/aE9cPIexAK        \n",
            "\n",
            "Embedded version:\n"
          ]
        },
        {
          "output_type": "execute_result",
          "data": {
            "text/plain": [
              "<tf.Tensor: shape=(1, 15, 128), dtype=float32, numpy=\n",
              "array([[[ 0.01232814,  0.03288176,  0.02328658, ...,  0.00411187,\n",
              "         -0.02609721, -0.04970151],\n",
              "        [ 0.015046  ,  0.01003649, -0.00883821, ...,  0.04835853,\n",
              "          0.04700381,  0.03937124],\n",
              "        [-0.04681312, -0.02001929, -0.02541186, ..., -0.03855335,\n",
              "         -0.03279799,  0.00732254],\n",
              "        ...,\n",
              "        [-0.02701229,  0.01697654,  0.03582549, ...,  0.02845112,\n",
              "          0.04347939, -0.0361435 ],\n",
              "        [-0.00106127, -0.00178682,  0.02285887, ..., -0.04001888,\n",
              "         -0.03304359,  0.0216367 ],\n",
              "        [ 0.04544336, -0.00236762, -0.02902919, ...,  0.04210417,\n",
              "         -0.03773789, -0.04973918]]], dtype=float32)>"
            ]
          },
          "metadata": {},
          "execution_count": 145
        }
      ]
    },
    {
      "cell_type": "code",
      "source": [
        "# Check out a single token's embedding\n",
        "sample_embed[0][0], sample_embed[0][0].shape, random_sentence"
      ],
      "metadata": {
        "colab": {
          "base_uri": "https://localhost:8080/"
        },
        "id": "MPPKn9JTdSOJ",
        "outputId": "c2476f1a-830f-4bfb-c8a2-4f2842206b36"
      },
      "execution_count": 146,
      "outputs": [
        {
          "output_type": "execute_result",
          "data": {
            "text/plain": [
              "(<tf.Tensor: shape=(128,), dtype=float32, numpy=\n",
              " array([ 0.01232814,  0.03288176,  0.02328658,  0.00792853,  0.02276259,\n",
              "         0.01668999,  0.03469509,  0.03874339, -0.04968206,  0.03238453,\n",
              "         0.0239062 ,  0.02719501,  0.02373015,  0.01242042, -0.01435392,\n",
              "        -0.01120446, -0.04829542,  0.01176327,  0.03406293, -0.01678145,\n",
              "        -0.00905837,  0.03929304,  0.03636935,  0.03933312, -0.02470478,\n",
              "        -0.03860189, -0.04684535,  0.00394831,  0.02191465,  0.03571402,\n",
              "        -0.04919025, -0.03219283,  0.00162524, -0.04480721, -0.00646173,\n",
              "        -0.04444472, -0.03784012,  0.0036255 , -0.00902417, -0.02501711,\n",
              "         0.0349491 , -0.04579141,  0.04778368, -0.02657109,  0.02701985,\n",
              "         0.01263437,  0.03607881,  0.00919688,  0.01612897, -0.03354652,\n",
              "         0.02672423, -0.01959856, -0.02280126, -0.04218921,  0.03023538,\n",
              "         0.01177274,  0.02601527,  0.0227248 , -0.00279659, -0.04983097,\n",
              "        -0.00240581,  0.03090196,  0.02811554, -0.00559367, -0.04545606,\n",
              "        -0.01290569,  0.02144089,  0.01444279,  0.00793643, -0.01456825,\n",
              "        -0.00708395, -0.0301876 ,  0.0196965 , -0.00260584,  0.00950787,\n",
              "        -0.00152067, -0.0384598 , -0.04802197, -0.04844869,  0.00295063,\n",
              "         0.03885836,  0.04894468, -0.0088277 ,  0.041482  , -0.04966705,\n",
              "        -0.01454772, -0.04899734, -0.0171039 ,  0.04392452, -0.04870848,\n",
              "        -0.03329407, -0.03593671,  0.02226985, -0.03490164,  0.03074588,\n",
              "         0.00558212, -0.04669684,  0.04371336, -0.00479897,  0.02576296,\n",
              "         0.03994236,  0.00923855, -0.01627995, -0.01189846, -0.03445265,\n",
              "         0.01807674,  0.03177125,  0.01840803,  0.00177177,  0.03770918,\n",
              "        -0.0466645 ,  0.00927136,  0.03107062,  0.00807021,  0.04231665,\n",
              "        -0.03469496,  0.04747612, -0.00882705, -0.03853148, -0.0462559 ,\n",
              "         0.03600876,  0.00599259,  0.01439538, -0.01046235,  0.00986649,\n",
              "         0.00411187, -0.02609721, -0.04970151], dtype=float32)>,\n",
              " TensorShape([128]),\n",
              " 'pic of me and blaze in a fort when we were kids i look like a jackass stuffin my face like that ?????? http://t.co/aE9cPIexAK')"
            ]
          },
          "metadata": {},
          "execution_count": 146
        }
      ]
    },
    {
      "cell_type": "markdown",
      "source": [
        "## Modelling a text dataset (running a series of experiments)\n",
        "\n",
        "Now we've got a way to turn our text sequences into numbers, it's time to start building a series of modelling experiments.\n",
        "\n",
        "We'll start with a baseline and move on from there.\n",
        "\n",
        "* Model 0: Naive Bayes (baseline), this is from Sklearn ML map: https://scikit-learn.org/1.3/tutorial/machine_learning_map/\n",
        "* Model 1: Feed-forward neural network (dense model)\n",
        "* Model 2: LSTM model (RNN)\n",
        "* Model 3: GRU model (RNN)\n",
        "* Model 4: Bidirectional-LSTM model (RNN)\n",
        "* Model 5: 1D Convolutional Neural Network (CNN)\n",
        "* Model 6: TensorFlow Hub Pretrained Feature Extractor (using transfer learning for NLP)\n",
        "* Model 7: Same as model 6 with 10% of training data\n",
        "\n",
        "\n",
        "We are going to approach all of these by using the standard steps in modelling with tensorflow:\n",
        "\n",
        "* Create a model\n",
        "* Build a model\n",
        "* Fit a model\n",
        "* Evaluate our model"
      ],
      "metadata": {
        "id": "T25S-n3S-S6C"
      }
    },
    {
      "cell_type": "markdown",
      "source": [
        "![steps in modeling with tensorflow.PNG](data:image/png;base64,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)"
      ],
      "metadata": {
        "id": "2KIq6s1ENsct"
      }
    },
    {
      "cell_type": "markdown",
      "source": [
        "### Model 0: Getting a baseline\n",
        "\n",
        "As with all machine learning modelling experiments, it's important to create a baseline model so we've got a benchmark for future experiments to build upon.\n",
        "\n",
        "To create our baseline, we'll use Sklearn's Multinomial Naive Bayes using the TF-IDF formula to convert our words to numbers.\n",
        "> 🔑**Note:** It's common practice to use non-DL algorithms as a baseline because of their speed and then later using DL to see if we can improve upon them."
      ],
      "metadata": {
        "id": "uQMy1UsEOSUI"
      }
    },
    {
      "cell_type": "code",
      "source": [
        "from sklearn.feature_extraction.text import TfidfVectorizer\n",
        "from sklearn.naive_bayes import MultinomialNB\n",
        "from sklearn.pipeline import Pipeline\n",
        "\n",
        "# Create tokenization and modelling pipeline\n",
        "model_0 = Pipeline([\n",
        "    (\"tfidf\", TfidfVectorizer()), # convert words to numbers using tfidf\n",
        "    (\"clf\", MultinomialNB()) # model the text\n",
        "])\n",
        "\n",
        "# Fit the pipeline to the training data\n",
        "model_0.fit(train_sentences, train_labels)"
      ],
      "metadata": {
        "colab": {
          "base_uri": "https://localhost:8080/",
          "height": 155
        },
        "id": "lxzUrjjkNBxR",
        "outputId": "7abe05f2-6f7d-4258-889d-abf052e61a7b"
      },
      "execution_count": 147,
      "outputs": [
        {
          "output_type": "execute_result",
          "data": {
            "text/plain": [
              "Pipeline(steps=[('tfidf', TfidfVectorizer()), ('clf', MultinomialNB())])"
            ],
            "text/html": [
              "<style>#sk-container-id-2 {\n",
              "  /* Definition of color scheme common for light and dark mode */\n",
              "  --sklearn-color-text: #000;\n",
              "  --sklearn-color-text-muted: #666;\n",
              "  --sklearn-color-line: gray;\n",
              "  /* Definition of color scheme for unfitted estimators */\n",
              "  --sklearn-color-unfitted-level-0: #fff5e6;\n",
              "  --sklearn-color-unfitted-level-1: #f6e4d2;\n",
              "  --sklearn-color-unfitted-level-2: #ffe0b3;\n",
              "  --sklearn-color-unfitted-level-3: chocolate;\n",
              "  /* Definition of color scheme for fitted estimators */\n",
              "  --sklearn-color-fitted-level-0: #f0f8ff;\n",
              "  --sklearn-color-fitted-level-1: #d4ebff;\n",
              "  --sklearn-color-fitted-level-2: #b3dbfd;\n",
              "  --sklearn-color-fitted-level-3: cornflowerblue;\n",
              "\n",
              "  /* Specific color for light theme */\n",
              "  --sklearn-color-text-on-default-background: var(--sg-text-color, var(--theme-code-foreground, var(--jp-content-font-color1, black)));\n",
              "  --sklearn-color-background: var(--sg-background-color, var(--theme-background, var(--jp-layout-color0, white)));\n",
              "  --sklearn-color-border-box: var(--sg-text-color, var(--theme-code-foreground, var(--jp-content-font-color1, black)));\n",
              "  --sklearn-color-icon: #696969;\n",
              "\n",
              "  @media (prefers-color-scheme: dark) {\n",
              "    /* Redefinition of color scheme for dark theme */\n",
              "    --sklearn-color-text-on-default-background: var(--sg-text-color, var(--theme-code-foreground, var(--jp-content-font-color1, white)));\n",
              "    --sklearn-color-background: var(--sg-background-color, var(--theme-background, var(--jp-layout-color0, #111)));\n",
              "    --sklearn-color-border-box: var(--sg-text-color, var(--theme-code-foreground, var(--jp-content-font-color1, white)));\n",
              "    --sklearn-color-icon: #878787;\n",
              "  }\n",
              "}\n",
              "\n",
              "#sk-container-id-2 {\n",
              "  color: var(--sklearn-color-text);\n",
              "}\n",
              "\n",
              "#sk-container-id-2 pre {\n",
              "  padding: 0;\n",
              "}\n",
              "\n",
              "#sk-container-id-2 input.sk-hidden--visually {\n",
              "  border: 0;\n",
              "  clip: rect(1px 1px 1px 1px);\n",
              "  clip: rect(1px, 1px, 1px, 1px);\n",
              "  height: 1px;\n",
              "  margin: -1px;\n",
              "  overflow: hidden;\n",
              "  padding: 0;\n",
              "  position: absolute;\n",
              "  width: 1px;\n",
              "}\n",
              "\n",
              "#sk-container-id-2 div.sk-dashed-wrapped {\n",
              "  border: 1px dashed var(--sklearn-color-line);\n",
              "  margin: 0 0.4em 0.5em 0.4em;\n",
              "  box-sizing: border-box;\n",
              "  padding-bottom: 0.4em;\n",
              "  background-color: var(--sklearn-color-background);\n",
              "}\n",
              "\n",
              "#sk-container-id-2 div.sk-container {\n",
              "  /* jupyter's `normalize.less` sets `[hidden] { display: none; }`\n",
              "     but bootstrap.min.css set `[hidden] { display: none !important; }`\n",
              "     so we also need the `!important` here to be able to override the\n",
              "     default hidden behavior on the sphinx rendered scikit-learn.org.\n",
              "     See: https://github.com/scikit-learn/scikit-learn/issues/21755 */\n",
              "  display: inline-block !important;\n",
              "  position: relative;\n",
              "}\n",
              "\n",
              "#sk-container-id-2 div.sk-text-repr-fallback {\n",
              "  display: none;\n",
              "}\n",
              "\n",
              "div.sk-parallel-item,\n",
              "div.sk-serial,\n",
              "div.sk-item {\n",
              "  /* draw centered vertical line to link estimators */\n",
              "  background-image: linear-gradient(var(--sklearn-color-text-on-default-background), var(--sklearn-color-text-on-default-background));\n",
              "  background-size: 2px 100%;\n",
              "  background-repeat: no-repeat;\n",
              "  background-position: center center;\n",
              "}\n",
              "\n",
              "/* Parallel-specific style estimator block */\n",
              "\n",
              "#sk-container-id-2 div.sk-parallel-item::after {\n",
              "  content: \"\";\n",
              "  width: 100%;\n",
              "  border-bottom: 2px solid var(--sklearn-color-text-on-default-background);\n",
              "  flex-grow: 1;\n",
              "}\n",
              "\n",
              "#sk-container-id-2 div.sk-parallel {\n",
              "  display: flex;\n",
              "  align-items: stretch;\n",
              "  justify-content: center;\n",
              "  background-color: var(--sklearn-color-background);\n",
              "  position: relative;\n",
              "}\n",
              "\n",
              "#sk-container-id-2 div.sk-parallel-item {\n",
              "  display: flex;\n",
              "  flex-direction: column;\n",
              "}\n",
              "\n",
              "#sk-container-id-2 div.sk-parallel-item:first-child::after {\n",
              "  align-self: flex-end;\n",
              "  width: 50%;\n",
              "}\n",
              "\n",
              "#sk-container-id-2 div.sk-parallel-item:last-child::after {\n",
              "  align-self: flex-start;\n",
              "  width: 50%;\n",
              "}\n",
              "\n",
              "#sk-container-id-2 div.sk-parallel-item:only-child::after {\n",
              "  width: 0;\n",
              "}\n",
              "\n",
              "/* Serial-specific style estimator block */\n",
              "\n",
              "#sk-container-id-2 div.sk-serial {\n",
              "  display: flex;\n",
              "  flex-direction: column;\n",
              "  align-items: center;\n",
              "  background-color: var(--sklearn-color-background);\n",
              "  padding-right: 1em;\n",
              "  padding-left: 1em;\n",
              "}\n",
              "\n",
              "\n",
              "/* Toggleable style: style used for estimator/Pipeline/ColumnTransformer box that is\n",
              "clickable and can be expanded/collapsed.\n",
              "- Pipeline and ColumnTransformer use this feature and define the default style\n",
              "- Estimators will overwrite some part of the style using the `sk-estimator` class\n",
              "*/\n",
              "\n",
              "/* Pipeline and ColumnTransformer style (default) */\n",
              "\n",
              "#sk-container-id-2 div.sk-toggleable {\n",
              "  /* Default theme specific background. It is overwritten whether we have a\n",
              "  specific estimator or a Pipeline/ColumnTransformer */\n",
              "  background-color: var(--sklearn-color-background);\n",
              "}\n",
              "\n",
              "/* Toggleable label */\n",
              "#sk-container-id-2 label.sk-toggleable__label {\n",
              "  cursor: pointer;\n",
              "  display: flex;\n",
              "  width: 100%;\n",
              "  margin-bottom: 0;\n",
              "  padding: 0.5em;\n",
              "  box-sizing: border-box;\n",
              "  text-align: center;\n",
              "  align-items: start;\n",
              "  justify-content: space-between;\n",
              "  gap: 0.5em;\n",
              "}\n",
              "\n",
              "#sk-container-id-2 label.sk-toggleable__label .caption {\n",
              "  font-size: 0.6rem;\n",
              "  font-weight: lighter;\n",
              "  color: var(--sklearn-color-text-muted);\n",
              "}\n",
              "\n",
              "#sk-container-id-2 label.sk-toggleable__label-arrow:before {\n",
              "  /* Arrow on the left of the label */\n",
              "  content: \"▸\";\n",
              "  float: left;\n",
              "  margin-right: 0.25em;\n",
              "  color: var(--sklearn-color-icon);\n",
              "}\n",
              "\n",
              "#sk-container-id-2 label.sk-toggleable__label-arrow:hover:before {\n",
              "  color: var(--sklearn-color-text);\n",
              "}\n",
              "\n",
              "/* Toggleable content - dropdown */\n",
              "\n",
              "#sk-container-id-2 div.sk-toggleable__content {\n",
              "  max-height: 0;\n",
              "  max-width: 0;\n",
              "  overflow: hidden;\n",
              "  text-align: left;\n",
              "  /* unfitted */\n",
              "  background-color: var(--sklearn-color-unfitted-level-0);\n",
              "}\n",
              "\n",
              "#sk-container-id-2 div.sk-toggleable__content.fitted {\n",
              "  /* fitted */\n",
              "  background-color: var(--sklearn-color-fitted-level-0);\n",
              "}\n",
              "\n",
              "#sk-container-id-2 div.sk-toggleable__content pre {\n",
              "  margin: 0.2em;\n",
              "  border-radius: 0.25em;\n",
              "  color: var(--sklearn-color-text);\n",
              "  /* unfitted */\n",
              "  background-color: var(--sklearn-color-unfitted-level-0);\n",
              "}\n",
              "\n",
              "#sk-container-id-2 div.sk-toggleable__content.fitted pre {\n",
              "  /* unfitted */\n",
              "  background-color: var(--sklearn-color-fitted-level-0);\n",
              "}\n",
              "\n",
              "#sk-container-id-2 input.sk-toggleable__control:checked~div.sk-toggleable__content {\n",
              "  /* Expand drop-down */\n",
              "  max-height: 200px;\n",
              "  max-width: 100%;\n",
              "  overflow: auto;\n",
              "}\n",
              "\n",
              "#sk-container-id-2 input.sk-toggleable__control:checked~label.sk-toggleable__label-arrow:before {\n",
              "  content: \"▾\";\n",
              "}\n",
              "\n",
              "/* Pipeline/ColumnTransformer-specific style */\n",
              "\n",
              "#sk-container-id-2 div.sk-label input.sk-toggleable__control:checked~label.sk-toggleable__label {\n",
              "  color: var(--sklearn-color-text);\n",
              "  background-color: var(--sklearn-color-unfitted-level-2);\n",
              "}\n",
              "\n",
              "#sk-container-id-2 div.sk-label.fitted input.sk-toggleable__control:checked~label.sk-toggleable__label {\n",
              "  background-color: var(--sklearn-color-fitted-level-2);\n",
              "}\n",
              "\n",
              "/* Estimator-specific style */\n",
              "\n",
              "/* Colorize estimator box */\n",
              "#sk-container-id-2 div.sk-estimator input.sk-toggleable__control:checked~label.sk-toggleable__label {\n",
              "  /* unfitted */\n",
              "  background-color: var(--sklearn-color-unfitted-level-2);\n",
              "}\n",
              "\n",
              "#sk-container-id-2 div.sk-estimator.fitted input.sk-toggleable__control:checked~label.sk-toggleable__label {\n",
              "  /* fitted */\n",
              "  background-color: var(--sklearn-color-fitted-level-2);\n",
              "}\n",
              "\n",
              "#sk-container-id-2 div.sk-label label.sk-toggleable__label,\n",
              "#sk-container-id-2 div.sk-label label {\n",
              "  /* The background is the default theme color */\n",
              "  color: var(--sklearn-color-text-on-default-background);\n",
              "}\n",
              "\n",
              "/* On hover, darken the color of the background */\n",
              "#sk-container-id-2 div.sk-label:hover label.sk-toggleable__label {\n",
              "  color: var(--sklearn-color-text);\n",
              "  background-color: var(--sklearn-color-unfitted-level-2);\n",
              "}\n",
              "\n",
              "/* Label box, darken color on hover, fitted */\n",
              "#sk-container-id-2 div.sk-label.fitted:hover label.sk-toggleable__label.fitted {\n",
              "  color: var(--sklearn-color-text);\n",
              "  background-color: var(--sklearn-color-fitted-level-2);\n",
              "}\n",
              "\n",
              "/* Estimator label */\n",
              "\n",
              "#sk-container-id-2 div.sk-label label {\n",
              "  font-family: monospace;\n",
              "  font-weight: bold;\n",
              "  display: inline-block;\n",
              "  line-height: 1.2em;\n",
              "}\n",
              "\n",
              "#sk-container-id-2 div.sk-label-container {\n",
              "  text-align: center;\n",
              "}\n",
              "\n",
              "/* Estimator-specific */\n",
              "#sk-container-id-2 div.sk-estimator {\n",
              "  font-family: monospace;\n",
              "  border: 1px dotted var(--sklearn-color-border-box);\n",
              "  border-radius: 0.25em;\n",
              "  box-sizing: border-box;\n",
              "  margin-bottom: 0.5em;\n",
              "  /* unfitted */\n",
              "  background-color: var(--sklearn-color-unfitted-level-0);\n",
              "}\n",
              "\n",
              "#sk-container-id-2 div.sk-estimator.fitted {\n",
              "  /* fitted */\n",
              "  background-color: var(--sklearn-color-fitted-level-0);\n",
              "}\n",
              "\n",
              "/* on hover */\n",
              "#sk-container-id-2 div.sk-estimator:hover {\n",
              "  /* unfitted */\n",
              "  background-color: var(--sklearn-color-unfitted-level-2);\n",
              "}\n",
              "\n",
              "#sk-container-id-2 div.sk-estimator.fitted:hover {\n",
              "  /* fitted */\n",
              "  background-color: var(--sklearn-color-fitted-level-2);\n",
              "}\n",
              "\n",
              "/* Specification for estimator info (e.g. \"i\" and \"?\") */\n",
              "\n",
              "/* Common style for \"i\" and \"?\" */\n",
              "\n",
              ".sk-estimator-doc-link,\n",
              "a:link.sk-estimator-doc-link,\n",
              "a:visited.sk-estimator-doc-link {\n",
              "  float: right;\n",
              "  font-size: smaller;\n",
              "  line-height: 1em;\n",
              "  font-family: monospace;\n",
              "  background-color: var(--sklearn-color-background);\n",
              "  border-radius: 1em;\n",
              "  height: 1em;\n",
              "  width: 1em;\n",
              "  text-decoration: none !important;\n",
              "  margin-left: 0.5em;\n",
              "  text-align: center;\n",
              "  /* unfitted */\n",
              "  border: var(--sklearn-color-unfitted-level-1) 1pt solid;\n",
              "  color: var(--sklearn-color-unfitted-level-1);\n",
              "}\n",
              "\n",
              ".sk-estimator-doc-link.fitted,\n",
              "a:link.sk-estimator-doc-link.fitted,\n",
              "a:visited.sk-estimator-doc-link.fitted {\n",
              "  /* fitted */\n",
              "  border: var(--sklearn-color-fitted-level-1) 1pt solid;\n",
              "  color: var(--sklearn-color-fitted-level-1);\n",
              "}\n",
              "\n",
              "/* On hover */\n",
              "div.sk-estimator:hover .sk-estimator-doc-link:hover,\n",
              ".sk-estimator-doc-link:hover,\n",
              "div.sk-label-container:hover .sk-estimator-doc-link:hover,\n",
              ".sk-estimator-doc-link:hover {\n",
              "  /* unfitted */\n",
              "  background-color: var(--sklearn-color-unfitted-level-3);\n",
              "  color: var(--sklearn-color-background);\n",
              "  text-decoration: none;\n",
              "}\n",
              "\n",
              "div.sk-estimator.fitted:hover .sk-estimator-doc-link.fitted:hover,\n",
              ".sk-estimator-doc-link.fitted:hover,\n",
              "div.sk-label-container:hover .sk-estimator-doc-link.fitted:hover,\n",
              ".sk-estimator-doc-link.fitted:hover {\n",
              "  /* fitted */\n",
              "  background-color: var(--sklearn-color-fitted-level-3);\n",
              "  color: var(--sklearn-color-background);\n",
              "  text-decoration: none;\n",
              "}\n",
              "\n",
              "/* Span, style for the box shown on hovering the info icon */\n",
              ".sk-estimator-doc-link span {\n",
              "  display: none;\n",
              "  z-index: 9999;\n",
              "  position: relative;\n",
              "  font-weight: normal;\n",
              "  right: .2ex;\n",
              "  padding: .5ex;\n",
              "  margin: .5ex;\n",
              "  width: min-content;\n",
              "  min-width: 20ex;\n",
              "  max-width: 50ex;\n",
              "  color: var(--sklearn-color-text);\n",
              "  box-shadow: 2pt 2pt 4pt #999;\n",
              "  /* unfitted */\n",
              "  background: var(--sklearn-color-unfitted-level-0);\n",
              "  border: .5pt solid var(--sklearn-color-unfitted-level-3);\n",
              "}\n",
              "\n",
              ".sk-estimator-doc-link.fitted span {\n",
              "  /* fitted */\n",
              "  background: var(--sklearn-color-fitted-level-0);\n",
              "  border: var(--sklearn-color-fitted-level-3);\n",
              "}\n",
              "\n",
              ".sk-estimator-doc-link:hover span {\n",
              "  display: block;\n",
              "}\n",
              "\n",
              "/* \"?\"-specific style due to the `<a>` HTML tag */\n",
              "\n",
              "#sk-container-id-2 a.estimator_doc_link {\n",
              "  float: right;\n",
              "  font-size: 1rem;\n",
              "  line-height: 1em;\n",
              "  font-family: monospace;\n",
              "  background-color: var(--sklearn-color-background);\n",
              "  border-radius: 1rem;\n",
              "  height: 1rem;\n",
              "  width: 1rem;\n",
              "  text-decoration: none;\n",
              "  /* unfitted */\n",
              "  color: var(--sklearn-color-unfitted-level-1);\n",
              "  border: var(--sklearn-color-unfitted-level-1) 1pt solid;\n",
              "}\n",
              "\n",
              "#sk-container-id-2 a.estimator_doc_link.fitted {\n",
              "  /* fitted */\n",
              "  border: var(--sklearn-color-fitted-level-1) 1pt solid;\n",
              "  color: var(--sklearn-color-fitted-level-1);\n",
              "}\n",
              "\n",
              "/* On hover */\n",
              "#sk-container-id-2 a.estimator_doc_link:hover {\n",
              "  /* unfitted */\n",
              "  background-color: var(--sklearn-color-unfitted-level-3);\n",
              "  color: var(--sklearn-color-background);\n",
              "  text-decoration: none;\n",
              "}\n",
              "\n",
              "#sk-container-id-2 a.estimator_doc_link.fitted:hover {\n",
              "  /* fitted */\n",
              "  background-color: var(--sklearn-color-fitted-level-3);\n",
              "}\n",
              "</style><div id=\"sk-container-id-2\" class=\"sk-top-container\"><div class=\"sk-text-repr-fallback\"><pre>Pipeline(steps=[(&#x27;tfidf&#x27;, TfidfVectorizer()), (&#x27;clf&#x27;, MultinomialNB())])</pre><b>In a Jupyter environment, please rerun this cell to show the HTML representation or trust the notebook. <br />On GitHub, the HTML representation is unable to render, please try loading this page with nbviewer.org.</b></div><div class=\"sk-container\" hidden><div class=\"sk-item sk-dashed-wrapped\"><div class=\"sk-label-container\"><div class=\"sk-label fitted sk-toggleable\"><input class=\"sk-toggleable__control sk-hidden--visually\" id=\"sk-estimator-id-4\" type=\"checkbox\" ><label for=\"sk-estimator-id-4\" class=\"sk-toggleable__label fitted sk-toggleable__label-arrow\"><div><div>Pipeline</div></div><div><a class=\"sk-estimator-doc-link fitted\" rel=\"noreferrer\" target=\"_blank\" href=\"https://scikit-learn.org/1.6/modules/generated/sklearn.pipeline.Pipeline.html\">?<span>Documentation for Pipeline</span></a><span class=\"sk-estimator-doc-link fitted\">i<span>Fitted</span></span></div></label><div class=\"sk-toggleable__content fitted\"><pre>Pipeline(steps=[(&#x27;tfidf&#x27;, TfidfVectorizer()), (&#x27;clf&#x27;, MultinomialNB())])</pre></div> </div></div><div class=\"sk-serial\"><div class=\"sk-item\"><div class=\"sk-estimator fitted sk-toggleable\"><input class=\"sk-toggleable__control sk-hidden--visually\" id=\"sk-estimator-id-5\" type=\"checkbox\" ><label for=\"sk-estimator-id-5\" class=\"sk-toggleable__label fitted sk-toggleable__label-arrow\"><div><div>TfidfVectorizer</div></div><div><a class=\"sk-estimator-doc-link fitted\" rel=\"noreferrer\" target=\"_blank\" href=\"https://scikit-learn.org/1.6/modules/generated/sklearn.feature_extraction.text.TfidfVectorizer.html\">?<span>Documentation for TfidfVectorizer</span></a></div></label><div class=\"sk-toggleable__content fitted\"><pre>TfidfVectorizer()</pre></div> </div></div><div class=\"sk-item\"><div class=\"sk-estimator fitted sk-toggleable\"><input class=\"sk-toggleable__control sk-hidden--visually\" id=\"sk-estimator-id-6\" type=\"checkbox\" ><label for=\"sk-estimator-id-6\" class=\"sk-toggleable__label fitted sk-toggleable__label-arrow\"><div><div>MultinomialNB</div></div><div><a class=\"sk-estimator-doc-link fitted\" rel=\"noreferrer\" target=\"_blank\" href=\"https://scikit-learn.org/1.6/modules/generated/sklearn.naive_bayes.MultinomialNB.html\">?<span>Documentation for MultinomialNB</span></a></div></label><div class=\"sk-toggleable__content fitted\"><pre>MultinomialNB()</pre></div> </div></div></div></div></div></div>"
            ]
          },
          "metadata": {},
          "execution_count": 147
        }
      ]
    },
    {
      "cell_type": "code",
      "source": [
        "# Evaluate our baseline model\n",
        "baseline_score = model_0.score(val_sentences, val_labels)\n",
        "print(f\"Our baseline model achieves an accuracy of: {baseline_score*100:.2f}%\")"
      ],
      "metadata": {
        "colab": {
          "base_uri": "https://localhost:8080/"
        },
        "id": "HPzZ6BoSSfVO",
        "outputId": "001bd3eb-64ad-4164-f52f-959bd123051c"
      },
      "execution_count": 148,
      "outputs": [
        {
          "output_type": "stream",
          "name": "stdout",
          "text": [
            "Our baseline model achieves an accuracy of: 79.27%\n"
          ]
        }
      ]
    },
    {
      "cell_type": "code",
      "source": [
        "train_df.target.value_counts()"
      ],
      "metadata": {
        "colab": {
          "base_uri": "https://localhost:8080/",
          "height": 178
        },
        "id": "NsC7wv7HUHYi",
        "outputId": "8362fd03-2b58-41eb-d547-1a4f51714259"
      },
      "execution_count": 149,
      "outputs": [
        {
          "output_type": "execute_result",
          "data": {
            "text/plain": [
              "target\n",
              "0    4342\n",
              "1    3271\n",
              "Name: count, dtype: int64"
            ],
            "text/html": [
              "<div>\n",
              "<style scoped>\n",
              "    .dataframe tbody tr th:only-of-type {\n",
              "        vertical-align: middle;\n",
              "    }\n",
              "\n",
              "    .dataframe tbody tr th {\n",
              "        vertical-align: top;\n",
              "    }\n",
              "\n",
              "    .dataframe thead th {\n",
              "        text-align: right;\n",
              "    }\n",
              "</style>\n",
              "<table border=\"1\" class=\"dataframe\">\n",
              "  <thead>\n",
              "    <tr style=\"text-align: right;\">\n",
              "      <th></th>\n",
              "      <th>count</th>\n",
              "    </tr>\n",
              "    <tr>\n",
              "      <th>target</th>\n",
              "      <th></th>\n",
              "    </tr>\n",
              "  </thead>\n",
              "  <tbody>\n",
              "    <tr>\n",
              "      <th>0</th>\n",
              "      <td>4342</td>\n",
              "    </tr>\n",
              "    <tr>\n",
              "      <th>1</th>\n",
              "      <td>3271</td>\n",
              "    </tr>\n",
              "  </tbody>\n",
              "</table>\n",
              "</div><br><label><b>dtype:</b> int64</label>"
            ]
          },
          "metadata": {},
          "execution_count": 149
        }
      ]
    },
    {
      "cell_type": "code",
      "source": [
        "# Make predictions\n",
        "baseline_preds = model_0.predict(val_sentences)\n",
        "baseline_preds[:20]"
      ],
      "metadata": {
        "colab": {
          "base_uri": "https://localhost:8080/"
        },
        "id": "AyCG3mPyUPEh",
        "outputId": "7f49f8f3-87f0-4189-e087-a64fd9e2fe18"
      },
      "execution_count": 150,
      "outputs": [
        {
          "output_type": "execute_result",
          "data": {
            "text/plain": [
              "array([1, 1, 1, 0, 0, 1, 1, 1, 1, 0, 0, 1, 0, 0, 0, 0, 0, 0, 0, 1])"
            ]
          },
          "metadata": {},
          "execution_count": 150
        }
      ]
    },
    {
      "cell_type": "code",
      "source": [
        "train_labels"
      ],
      "metadata": {
        "colab": {
          "base_uri": "https://localhost:8080/"
        },
        "id": "ZPF_UJbzUgq8",
        "outputId": "3c73d6a9-92c7-4a7f-e162-7abdb9a4111c"
      },
      "execution_count": 151,
      "outputs": [
        {
          "output_type": "execute_result",
          "data": {
            "text/plain": [
              "array([0, 0, 1, ..., 1, 1, 0])"
            ]
          },
          "metadata": {},
          "execution_count": 151
        }
      ]
    },
    {
      "cell_type": "markdown",
      "source": [
        "### Creating an evaluation function for our model experiments\n",
        "\n",
        "We could evaluate all of our model's predictions with different metrics every time, however, this will be cumbersome and could easily be fixed with a function.\n",
        "\n",
        "Let's create a function to compare our model's predictions with the truth labels using the following metrics:\n",
        "* Accuracy\n",
        "* Precision\n",
        "* Recall\n",
        "* F1-score"
      ],
      "metadata": {
        "id": "IjJ4-wmkX_85"
      }
    },
    {
      "cell_type": "markdown",
      "source": [
        "> For a deep overview of many different evaluation methods, **Scikit-learn Link:** [3.3. Model evaluation: quantifying the quality of predictions](https://scikit-learn.org/0.16/modules/model_evaluation.html)\n",
        "\n",
        "> Another link for **model evaluation methods:** [Model selection and evaluation](https://scikit-learn.org/stable/model_selection.html)"
      ],
      "metadata": {
        "id": "CPQqxXpmap52"
      }
    },
    {
      "cell_type": "code",
      "source": [
        "# Function to evaluate: accuracy, precision, recall, f1-score\n",
        "from sklearn.metrics import accuracy_score, precision_recall_fscore_support\n",
        "\n",
        "def calculate_results(y_true, y_pred):\n",
        "  \"\"\"\n",
        "  Calculates model accuracy, precision, recall and f1 score of a binary classification model.\n",
        "\n",
        "  Args:\n",
        "  ---\n",
        "  y_true: true labels in the form of a 1D array\n",
        "  y_pred: predicted labels in the form of a 1D array\n",
        "\n",
        "  Returns a dictionary of accuracy, precision, recall, f1-score.\n",
        "  \"\"\"\n",
        "  # Calculate model accuracy\n",
        "  model_accuracy = accuracy_score(y_true, y_pred) * 100\n",
        "  # Calculate model precision, recall and f1-score using \"weighted\" average\n",
        "  model_precision, model_recall, model_f1, _ = precision_recall_fscore_support(y_true, y_pred, average=\"weighted\")\n",
        "  model_results = {\"accuracy\": model_accuracy,\n",
        "                   \"precision\": model_precision,\n",
        "                   \"recall\": model_recall,\n",
        "                   \"f1\": model_f1}\n",
        "  return model_results"
      ],
      "metadata": {
        "id": "N3FeI2BTY2Z0"
      },
      "execution_count": 152,
      "outputs": []
    },
    {
      "cell_type": "code",
      "source": [
        "# Get baseline results\n",
        "baseline_results = calculate_results(y_true=val_labels,\n",
        "                                     y_pred=baseline_preds)\n",
        "baseline_results"
      ],
      "metadata": {
        "colab": {
          "base_uri": "https://localhost:8080/"
        },
        "id": "OnXVAH86dEOU",
        "outputId": "5601aae2-b032-4b5b-c752-4591cd61216e"
      },
      "execution_count": 153,
      "outputs": [
        {
          "output_type": "execute_result",
          "data": {
            "text/plain": [
              "{'accuracy': 79.26509186351706,\n",
              " 'precision': 0.8111390004213173,\n",
              " 'recall': 0.7926509186351706,\n",
              " 'f1': 0.7862189758049549}"
            ]
          },
          "metadata": {},
          "execution_count": 153
        }
      ]
    },
    {
      "cell_type": "markdown",
      "source": [
        "### Model 1: A simple dense model"
      ],
      "metadata": {
        "id": "ZTkbUgeNnwDL"
      }
    },
    {
      "cell_type": "code",
      "source": [
        "# Create a tensorboard callback (need to create a new one for each model)\n",
        "from helper_functions import create_tensorboard_callback\n",
        "\n",
        "# Create a directory to save TensorBoard logs\n",
        "SAVE_DIR = \"model_logs\""
      ],
      "metadata": {
        "id": "A7Xf4R7Nn_JB"
      },
      "execution_count": 154,
      "outputs": []
    },
    {
      "cell_type": "code",
      "source": [
        "# Build model with the Functional API\n",
        "from tensorflow.keras import layers\n",
        "import tensorflow as tf\n",
        "\n",
        "inputs = layers.Input(shape=(1,), dtype=tf.string) # inputs are 1-dimensional strings\n",
        "x = text_vectorizer(inputs) # turn the input text into numbers\n",
        "x = embedding(x) # create an embedding of the numberized inputs\n",
        "# Flatten / Global Pool before Dense\n",
        "# If we want one prediction per sentence (binary classification), reduce the sequence to a single vector before the final Dense.\n",
        "# Or it will have error, because model's output shape and our label shape won't match\n",
        "x = layers.GlobalAveragePooling1D()(x) # pool over sequence length - condense the feature vector for each token to one vector\n",
        "outputs = layers.Dense(1, activation=\"sigmoid\")(x)  # create the output layer, want binary outputs so use sigmoid activation function\n",
        "model_1 = tf.keras.Model(inputs, outputs, name=\"model_1_dense\")"
      ],
      "metadata": {
        "id": "fvkYq6CJoi5N"
      },
      "execution_count": 155,
      "outputs": []
    },
    {
      "cell_type": "code",
      "source": [
        "model_1.summary()"
      ],
      "metadata": {
        "colab": {
          "base_uri": "https://localhost:8080/",
          "height": 321
        },
        "id": "88v_CSOcqYj-",
        "outputId": "4975c17c-7c58-489d-dec7-f74db3f8e8fd"
      },
      "execution_count": 156,
      "outputs": [
        {
          "output_type": "display_data",
          "data": {
            "text/plain": [
              "\u001b[1mModel: \"model_1_dense\"\u001b[0m\n"
            ],
            "text/html": [
              "<pre style=\"white-space:pre;overflow-x:auto;line-height:normal;font-family:Menlo,'DejaVu Sans Mono',consolas,'Courier New',monospace\"><span style=\"font-weight: bold\">Model: \"model_1_dense\"</span>\n",
              "</pre>\n"
            ]
          },
          "metadata": {}
        },
        {
          "output_type": "display_data",
          "data": {
            "text/plain": [
              "┏━━━━━━━━━━━━━━━━━━━━━━━━━━━━━━━━━┳━━━━━━━━━━━━━━━━━━━━━━━━┳━━━━━━━━━━━━━━━┓\n",
              "┃\u001b[1m \u001b[0m\u001b[1mLayer (type)                   \u001b[0m\u001b[1m \u001b[0m┃\u001b[1m \u001b[0m\u001b[1mOutput Shape          \u001b[0m\u001b[1m \u001b[0m┃\u001b[1m \u001b[0m\u001b[1m      Param #\u001b[0m\u001b[1m \u001b[0m┃\n",
              "┡━━━━━━━━━━━━━━━━━━━━━━━━━━━━━━━━━╇━━━━━━━━━━━━━━━━━━━━━━━━╇━━━━━━━━━━━━━━━┩\n",
              "│ input_layer_5 (\u001b[38;5;33mInputLayer\u001b[0m)      │ (\u001b[38;5;45mNone\u001b[0m, \u001b[38;5;34m1\u001b[0m)              │             \u001b[38;5;34m0\u001b[0m │\n",
              "├─────────────────────────────────┼────────────────────────┼───────────────┤\n",
              "│ text_vectorization_3            │ (\u001b[38;5;45mNone\u001b[0m, \u001b[38;5;34m15\u001b[0m)             │             \u001b[38;5;34m0\u001b[0m │\n",
              "│ (\u001b[38;5;33mTextVectorization\u001b[0m)             │                        │               │\n",
              "├─────────────────────────────────┼────────────────────────┼───────────────┤\n",
              "│ embedding_1 (\u001b[38;5;33mEmbedding\u001b[0m)         │ (\u001b[38;5;45mNone\u001b[0m, \u001b[38;5;34m15\u001b[0m, \u001b[38;5;34m128\u001b[0m)        │     \u001b[38;5;34m1,280,000\u001b[0m │\n",
              "├─────────────────────────────────┼────────────────────────┼───────────────┤\n",
              "│ global_average_pooling1d_1      │ (\u001b[38;5;45mNone\u001b[0m, \u001b[38;5;34m128\u001b[0m)            │             \u001b[38;5;34m0\u001b[0m │\n",
              "│ (\u001b[38;5;33mGlobalAveragePooling1D\u001b[0m)        │                        │               │\n",
              "├─────────────────────────────────┼────────────────────────┼───────────────┤\n",
              "│ dense_5 (\u001b[38;5;33mDense\u001b[0m)                 │ (\u001b[38;5;45mNone\u001b[0m, \u001b[38;5;34m1\u001b[0m)              │           \u001b[38;5;34m129\u001b[0m │\n",
              "└─────────────────────────────────┴────────────────────────┴───────────────┘\n"
            ],
            "text/html": [
              "<pre style=\"white-space:pre;overflow-x:auto;line-height:normal;font-family:Menlo,'DejaVu Sans Mono',consolas,'Courier New',monospace\">┏━━━━━━━━━━━━━━━━━━━━━━━━━━━━━━━━━┳━━━━━━━━━━━━━━━━━━━━━━━━┳━━━━━━━━━━━━━━━┓\n",
              "┃<span style=\"font-weight: bold\"> Layer (type)                    </span>┃<span style=\"font-weight: bold\"> Output Shape           </span>┃<span style=\"font-weight: bold\">       Param # </span>┃\n",
              "┡━━━━━━━━━━━━━━━━━━━━━━━━━━━━━━━━━╇━━━━━━━━━━━━━━━━━━━━━━━━╇━━━━━━━━━━━━━━━┩\n",
              "│ input_layer_5 (<span style=\"color: #0087ff; text-decoration-color: #0087ff\">InputLayer</span>)      │ (<span style=\"color: #00d7ff; text-decoration-color: #00d7ff\">None</span>, <span style=\"color: #00af00; text-decoration-color: #00af00\">1</span>)              │             <span style=\"color: #00af00; text-decoration-color: #00af00\">0</span> │\n",
              "├─────────────────────────────────┼────────────────────────┼───────────────┤\n",
              "│ text_vectorization_3            │ (<span style=\"color: #00d7ff; text-decoration-color: #00d7ff\">None</span>, <span style=\"color: #00af00; text-decoration-color: #00af00\">15</span>)             │             <span style=\"color: #00af00; text-decoration-color: #00af00\">0</span> │\n",
              "│ (<span style=\"color: #0087ff; text-decoration-color: #0087ff\">TextVectorization</span>)             │                        │               │\n",
              "├─────────────────────────────────┼────────────────────────┼───────────────┤\n",
              "│ embedding_1 (<span style=\"color: #0087ff; text-decoration-color: #0087ff\">Embedding</span>)         │ (<span style=\"color: #00d7ff; text-decoration-color: #00d7ff\">None</span>, <span style=\"color: #00af00; text-decoration-color: #00af00\">15</span>, <span style=\"color: #00af00; text-decoration-color: #00af00\">128</span>)        │     <span style=\"color: #00af00; text-decoration-color: #00af00\">1,280,000</span> │\n",
              "├─────────────────────────────────┼────────────────────────┼───────────────┤\n",
              "│ global_average_pooling1d_1      │ (<span style=\"color: #00d7ff; text-decoration-color: #00d7ff\">None</span>, <span style=\"color: #00af00; text-decoration-color: #00af00\">128</span>)            │             <span style=\"color: #00af00; text-decoration-color: #00af00\">0</span> │\n",
              "│ (<span style=\"color: #0087ff; text-decoration-color: #0087ff\">GlobalAveragePooling1D</span>)        │                        │               │\n",
              "├─────────────────────────────────┼────────────────────────┼───────────────┤\n",
              "│ dense_5 (<span style=\"color: #0087ff; text-decoration-color: #0087ff\">Dense</span>)                 │ (<span style=\"color: #00d7ff; text-decoration-color: #00d7ff\">None</span>, <span style=\"color: #00af00; text-decoration-color: #00af00\">1</span>)              │           <span style=\"color: #00af00; text-decoration-color: #00af00\">129</span> │\n",
              "└─────────────────────────────────┴────────────────────────┴───────────────┘\n",
              "</pre>\n"
            ]
          },
          "metadata": {}
        },
        {
          "output_type": "display_data",
          "data": {
            "text/plain": [
              "\u001b[1m Total params: \u001b[0m\u001b[38;5;34m1,280,129\u001b[0m (4.88 MB)\n"
            ],
            "text/html": [
              "<pre style=\"white-space:pre;overflow-x:auto;line-height:normal;font-family:Menlo,'DejaVu Sans Mono',consolas,'Courier New',monospace\"><span style=\"font-weight: bold\"> Total params: </span><span style=\"color: #00af00; text-decoration-color: #00af00\">1,280,129</span> (4.88 MB)\n",
              "</pre>\n"
            ]
          },
          "metadata": {}
        },
        {
          "output_type": "display_data",
          "data": {
            "text/plain": [
              "\u001b[1m Trainable params: \u001b[0m\u001b[38;5;34m1,280,129\u001b[0m (4.88 MB)\n"
            ],
            "text/html": [
              "<pre style=\"white-space:pre;overflow-x:auto;line-height:normal;font-family:Menlo,'DejaVu Sans Mono',consolas,'Courier New',monospace\"><span style=\"font-weight: bold\"> Trainable params: </span><span style=\"color: #00af00; text-decoration-color: #00af00\">1,280,129</span> (4.88 MB)\n",
              "</pre>\n"
            ]
          },
          "metadata": {}
        },
        {
          "output_type": "display_data",
          "data": {
            "text/plain": [
              "\u001b[1m Non-trainable params: \u001b[0m\u001b[38;5;34m0\u001b[0m (0.00 B)\n"
            ],
            "text/html": [
              "<pre style=\"white-space:pre;overflow-x:auto;line-height:normal;font-family:Menlo,'DejaVu Sans Mono',consolas,'Courier New',monospace\"><span style=\"font-weight: bold\"> Non-trainable params: </span><span style=\"color: #00af00; text-decoration-color: #00af00\">0</span> (0.00 B)\n",
              "</pre>\n"
            ]
          },
          "metadata": {}
        }
      ]
    },
    {
      "cell_type": "code",
      "source": [
        "# Compile model\n",
        "model_1.compile(loss=\"binary_crossentropy\",\n",
        "                optimizer=tf.keras.optimizers.Adam(),\n",
        "                metrics=[\"accuracy\"])"
      ],
      "metadata": {
        "id": "oeYwVAxOqsFE"
      },
      "execution_count": 157,
      "outputs": []
    },
    {
      "cell_type": "code",
      "source": [
        "# Fit the model\n",
        "model_1_history = model_1.fit(x=train_sentences,\n",
        "                              y=train_labels,\n",
        "                              epochs=5,\n",
        "                              validation_data=(val_sentences, val_labels),\n",
        "                              callbacks=[create_tensorboard_callback(dir_name=SAVE_DIR,\n",
        "                                                                     experiment_name=\"model_1_dense\")])"
      ],
      "metadata": {
        "colab": {
          "base_uri": "https://localhost:8080/"
        },
        "id": "nFvpVhgxq5PW",
        "outputId": "54b66b41-6860-4c3b-9750-e838445b6dc6"
      },
      "execution_count": 158,
      "outputs": [
        {
          "output_type": "stream",
          "name": "stdout",
          "text": [
            "Saving TensorBoard log files to: model_logs/model_1_dense/20250822-175726\n",
            "Epoch 1/5\n",
            "\u001b[1m215/215\u001b[0m \u001b[32m━━━━━━━━━━━━━━━━━━━━\u001b[0m\u001b[37m\u001b[0m \u001b[1m7s\u001b[0m 26ms/step - accuracy: 0.6364 - loss: 0.6502 - val_accuracy: 0.7703 - val_loss: 0.5360\n",
            "Epoch 2/5\n",
            "\u001b[1m215/215\u001b[0m \u001b[32m━━━━━━━━━━━━━━━━━━━━\u001b[0m\u001b[37m\u001b[0m \u001b[1m7s\u001b[0m 32ms/step - accuracy: 0.8131 - loss: 0.4633 - val_accuracy: 0.7808 - val_loss: 0.4713\n",
            "Epoch 3/5\n",
            "\u001b[1m215/215\u001b[0m \u001b[32m━━━━━━━━━━━━━━━━━━━━\u001b[0m\u001b[37m\u001b[0m \u001b[1m10s\u001b[0m 33ms/step - accuracy: 0.8636 - loss: 0.3525 - val_accuracy: 0.7887 - val_loss: 0.4686\n",
            "Epoch 4/5\n",
            "\u001b[1m215/215\u001b[0m \u001b[32m━━━━━━━━━━━━━━━━━━━━\u001b[0m\u001b[37m\u001b[0m \u001b[1m10s\u001b[0m 32ms/step - accuracy: 0.8899 - loss: 0.2858 - val_accuracy: 0.7808 - val_loss: 0.4640\n",
            "Epoch 5/5\n",
            "\u001b[1m215/215\u001b[0m \u001b[32m━━━━━━━━━━━━━━━━━━━━\u001b[0m\u001b[37m\u001b[0m \u001b[1m8s\u001b[0m 22ms/step - accuracy: 0.9106 - loss: 0.2410 - val_accuracy: 0.7887 - val_loss: 0.4868\n"
          ]
        }
      ]
    },
    {
      "cell_type": "code",
      "source": [
        "print(train_sentences.ndim)\n",
        "print(train_labels.ndim)"
      ],
      "metadata": {
        "colab": {
          "base_uri": "https://localhost:8080/"
        },
        "id": "WWZhS0d6sMba",
        "outputId": "079f5be8-d14a-4e71-e62e-e9075d762bca"
      },
      "execution_count": 159,
      "outputs": [
        {
          "output_type": "stream",
          "name": "stdout",
          "text": [
            "1\n",
            "1\n"
          ]
        }
      ]
    },
    {
      "cell_type": "code",
      "source": [
        "# Check the results\n",
        "model_1.evaluate(val_sentences, val_labels)"
      ],
      "metadata": {
        "colab": {
          "base_uri": "https://localhost:8080/"
        },
        "id": "Gk5WmItjHKIO",
        "outputId": "ce579661-09fe-49cf-c96e-b87cca6243c0"
      },
      "execution_count": 160,
      "outputs": [
        {
          "output_type": "stream",
          "name": "stdout",
          "text": [
            "\u001b[1m24/24\u001b[0m \u001b[32m━━━━━━━━━━━━━━━━━━━━\u001b[0m\u001b[37m\u001b[0m \u001b[1m0s\u001b[0m 4ms/step - accuracy: 0.7794 - loss: 0.5222\n"
          ]
        },
        {
          "output_type": "execute_result",
          "data": {
            "text/plain": [
              "[0.4868149757385254, 0.7887139320373535]"
            ]
          },
          "metadata": {},
          "execution_count": 160
        }
      ]
    },
    {
      "cell_type": "code",
      "source": [
        "# Make some predictions and evaluate those\n",
        "model_1_pred_probs = model_1.predict(val_sentences)\n",
        "model_1_pred_probs.shape"
      ],
      "metadata": {
        "colab": {
          "base_uri": "https://localhost:8080/"
        },
        "id": "guJy5p1vHciP",
        "outputId": "b0441b80-2eb3-482a-ec40-1ec713bbfc0c"
      },
      "execution_count": 161,
      "outputs": [
        {
          "output_type": "stream",
          "name": "stdout",
          "text": [
            "\u001b[1m24/24\u001b[0m \u001b[32m━━━━━━━━━━━━━━━━━━━━\u001b[0m\u001b[37m\u001b[0m \u001b[1m0s\u001b[0m 8ms/step\n"
          ]
        },
        {
          "output_type": "execute_result",
          "data": {
            "text/plain": [
              "(762, 1)"
            ]
          },
          "metadata": {},
          "execution_count": 161
        }
      ]
    },
    {
      "cell_type": "code",
      "source": [
        "model_1_pred_probs[0]"
      ],
      "metadata": {
        "colab": {
          "base_uri": "https://localhost:8080/"
        },
        "id": "f51Vt5amHyi9",
        "outputId": "dc9a1cbb-57ff-4ff3-df66-a4dd0761f202"
      },
      "execution_count": 162,
      "outputs": [
        {
          "output_type": "execute_result",
          "data": {
            "text/plain": [
              "array([0.27514184], dtype=float32)"
            ]
          },
          "metadata": {},
          "execution_count": 162
        }
      ]
    },
    {
      "cell_type": "code",
      "source": [
        "# Look at the 1st 10 predictions\n",
        "model_1_pred_probs[:10]"
      ],
      "metadata": {
        "colab": {
          "base_uri": "https://localhost:8080/"
        },
        "id": "WDo0eQktJOup",
        "outputId": "ee1039c4-e8bc-484f-9847-38965868b931"
      },
      "execution_count": 163,
      "outputs": [
        {
          "output_type": "execute_result",
          "data": {
            "text/plain": [
              "array([[0.27514184],\n",
              "       [0.7806757 ],\n",
              "       [0.9979608 ],\n",
              "       [0.09605666],\n",
              "       [0.08540815],\n",
              "       [0.9240882 ],\n",
              "       [0.90604794],\n",
              "       [0.99257845],\n",
              "       [0.95041096],\n",
              "       [0.22131711]], dtype=float32)"
            ]
          },
          "metadata": {},
          "execution_count": 163
        }
      ]
    },
    {
      "cell_type": "code",
      "source": [
        "# Convert model predictions probabilities to label format\n",
        "model_1_preds = tf.squeeze(tf.round(model_1_pred_probs))\n",
        "model_1_preds[:50]"
      ],
      "metadata": {
        "colab": {
          "base_uri": "https://localhost:8080/"
        },
        "id": "nhTUksVVJYlz",
        "outputId": "d4a1ac9b-e927-4036-8a59-b95b4ac9995b"
      },
      "execution_count": 164,
      "outputs": [
        {
          "output_type": "execute_result",
          "data": {
            "text/plain": [
              "<tf.Tensor: shape=(50,), dtype=float32, numpy=\n",
              "array([0., 1., 1., 0., 0., 1., 1., 1., 1., 0., 0., 1., 0., 0., 0., 0., 0.,\n",
              "       0., 0., 0., 1., 0., 0., 0., 1., 1., 0., 0., 0., 0., 0., 0., 0., 0.,\n",
              "       0., 0., 1., 0., 0., 1., 0., 0., 0., 0., 1., 1., 0., 1., 0., 1.],\n",
              "      dtype=float32)>"
            ]
          },
          "metadata": {},
          "execution_count": 164
        }
      ]
    },
    {
      "cell_type": "code",
      "source": [
        "# Calculate our model_1 results\n",
        "model_1_results = calculate_results(y_true=val_labels,\n",
        "                                    y_pred=model_1_preds)\n",
        "model_1_results"
      ],
      "metadata": {
        "colab": {
          "base_uri": "https://localhost:8080/"
        },
        "id": "pDajBk81J1sG",
        "outputId": "21c338c1-be86-4cae-cc6e-d79b8bb46e2b"
      },
      "execution_count": 165,
      "outputs": [
        {
          "output_type": "execute_result",
          "data": {
            "text/plain": [
              "{'accuracy': 78.87139107611549,\n",
              " 'precision': 0.7975437468825353,\n",
              " 'recall': 0.7887139107611548,\n",
              " 'f1': 0.7845609441537968}"
            ]
          },
          "metadata": {},
          "execution_count": 165
        }
      ]
    },
    {
      "cell_type": "code",
      "source": [
        "baseline_results"
      ],
      "metadata": {
        "id": "1Y4_OUiMKnt6",
        "outputId": "7ae7eca4-a325-423b-a2b7-f9c76d190465",
        "colab": {
          "base_uri": "https://localhost:8080/"
        }
      },
      "execution_count": 166,
      "outputs": [
        {
          "output_type": "execute_result",
          "data": {
            "text/plain": [
              "{'accuracy': 79.26509186351706,\n",
              " 'precision': 0.8111390004213173,\n",
              " 'recall': 0.7926509186351706,\n",
              " 'f1': 0.7862189758049549}"
            ]
          },
          "metadata": {},
          "execution_count": 166
        }
      ]
    },
    {
      "cell_type": "code",
      "source": [
        "import numpy as np\n",
        "np.array(list(model_1_results.values())) > np.array(list(baseline_results.values()))"
      ],
      "metadata": {
        "colab": {
          "base_uri": "https://localhost:8080/"
        },
        "id": "Ip_d6w0qKMI8",
        "outputId": "21b8f236-68da-417f-db7a-7f24a68b8221"
      },
      "execution_count": 167,
      "outputs": [
        {
          "output_type": "execute_result",
          "data": {
            "text/plain": [
              "array([False, False, False, False])"
            ]
          },
          "metadata": {},
          "execution_count": 167
        }
      ]
    },
    {
      "cell_type": "markdown",
      "source": [
        "## Visualizing learned embeddings"
      ],
      "metadata": {
        "id": "MwQ4AV8Wluje"
      }
    },
    {
      "cell_type": "code",
      "source": [
        "# Get the vocabulary from the text vectorization layer\n",
        "words_in_vocab = text_vectorizer.get_vocabulary()\n",
        "len(words_in_vocab), words_in_vocab[:10]"
      ],
      "metadata": {
        "colab": {
          "base_uri": "https://localhost:8080/"
        },
        "id": "g7P_SdFRl1at",
        "outputId": "7a7eabe7-aa57-4323-93d6-85072398e168"
      },
      "execution_count": 168,
      "outputs": [
        {
          "output_type": "execute_result",
          "data": {
            "text/plain": [
              "(10000,\n",
              " ['',\n",
              "  '[UNK]',\n",
              "  np.str_('the'),\n",
              "  np.str_('a'),\n",
              "  np.str_('in'),\n",
              "  np.str_('to'),\n",
              "  np.str_('of'),\n",
              "  np.str_('and'),\n",
              "  np.str_('i'),\n",
              "  np.str_('is')])"
            ]
          },
          "metadata": {},
          "execution_count": 168
        }
      ]
    },
    {
      "cell_type": "code",
      "source": [
        "# Model 1 summary\n",
        "model_1.summary()"
      ],
      "metadata": {
        "colab": {
          "base_uri": "https://localhost:8080/",
          "height": 337
        },
        "id": "4bf_c1anmU-y",
        "outputId": "be0d2dc5-22ab-45b6-f321-4dbd1a1d5f6d"
      },
      "execution_count": 169,
      "outputs": [
        {
          "output_type": "display_data",
          "data": {
            "text/plain": [
              "\u001b[1mModel: \"model_1_dense\"\u001b[0m\n"
            ],
            "text/html": [
              "<pre style=\"white-space:pre;overflow-x:auto;line-height:normal;font-family:Menlo,'DejaVu Sans Mono',consolas,'Courier New',monospace\"><span style=\"font-weight: bold\">Model: \"model_1_dense\"</span>\n",
              "</pre>\n"
            ]
          },
          "metadata": {}
        },
        {
          "output_type": "display_data",
          "data": {
            "text/plain": [
              "┏━━━━━━━━━━━━━━━━━━━━━━━━━━━━━━━━━┳━━━━━━━━━━━━━━━━━━━━━━━━┳━━━━━━━━━━━━━━━┓\n",
              "┃\u001b[1m \u001b[0m\u001b[1mLayer (type)                   \u001b[0m\u001b[1m \u001b[0m┃\u001b[1m \u001b[0m\u001b[1mOutput Shape          \u001b[0m\u001b[1m \u001b[0m┃\u001b[1m \u001b[0m\u001b[1m      Param #\u001b[0m\u001b[1m \u001b[0m┃\n",
              "┡━━━━━━━━━━━━━━━━━━━━━━━━━━━━━━━━━╇━━━━━━━━━━━━━━━━━━━━━━━━╇━━━━━━━━━━━━━━━┩\n",
              "│ input_layer_5 (\u001b[38;5;33mInputLayer\u001b[0m)      │ (\u001b[38;5;45mNone\u001b[0m, \u001b[38;5;34m1\u001b[0m)              │             \u001b[38;5;34m0\u001b[0m │\n",
              "├─────────────────────────────────┼────────────────────────┼───────────────┤\n",
              "│ text_vectorization_3            │ (\u001b[38;5;45mNone\u001b[0m, \u001b[38;5;34m15\u001b[0m)             │             \u001b[38;5;34m0\u001b[0m │\n",
              "│ (\u001b[38;5;33mTextVectorization\u001b[0m)             │                        │               │\n",
              "├─────────────────────────────────┼────────────────────────┼───────────────┤\n",
              "│ embedding_1 (\u001b[38;5;33mEmbedding\u001b[0m)         │ (\u001b[38;5;45mNone\u001b[0m, \u001b[38;5;34m15\u001b[0m, \u001b[38;5;34m128\u001b[0m)        │     \u001b[38;5;34m1,280,000\u001b[0m │\n",
              "├─────────────────────────────────┼────────────────────────┼───────────────┤\n",
              "│ global_average_pooling1d_1      │ (\u001b[38;5;45mNone\u001b[0m, \u001b[38;5;34m128\u001b[0m)            │             \u001b[38;5;34m0\u001b[0m │\n",
              "│ (\u001b[38;5;33mGlobalAveragePooling1D\u001b[0m)        │                        │               │\n",
              "├─────────────────────────────────┼────────────────────────┼───────────────┤\n",
              "│ dense_5 (\u001b[38;5;33mDense\u001b[0m)                 │ (\u001b[38;5;45mNone\u001b[0m, \u001b[38;5;34m1\u001b[0m)              │           \u001b[38;5;34m129\u001b[0m │\n",
              "└─────────────────────────────────┴────────────────────────┴───────────────┘\n"
            ],
            "text/html": [
              "<pre style=\"white-space:pre;overflow-x:auto;line-height:normal;font-family:Menlo,'DejaVu Sans Mono',consolas,'Courier New',monospace\">┏━━━━━━━━━━━━━━━━━━━━━━━━━━━━━━━━━┳━━━━━━━━━━━━━━━━━━━━━━━━┳━━━━━━━━━━━━━━━┓\n",
              "┃<span style=\"font-weight: bold\"> Layer (type)                    </span>┃<span style=\"font-weight: bold\"> Output Shape           </span>┃<span style=\"font-weight: bold\">       Param # </span>┃\n",
              "┡━━━━━━━━━━━━━━━━━━━━━━━━━━━━━━━━━╇━━━━━━━━━━━━━━━━━━━━━━━━╇━━━━━━━━━━━━━━━┩\n",
              "│ input_layer_5 (<span style=\"color: #0087ff; text-decoration-color: #0087ff\">InputLayer</span>)      │ (<span style=\"color: #00d7ff; text-decoration-color: #00d7ff\">None</span>, <span style=\"color: #00af00; text-decoration-color: #00af00\">1</span>)              │             <span style=\"color: #00af00; text-decoration-color: #00af00\">0</span> │\n",
              "├─────────────────────────────────┼────────────────────────┼───────────────┤\n",
              "│ text_vectorization_3            │ (<span style=\"color: #00d7ff; text-decoration-color: #00d7ff\">None</span>, <span style=\"color: #00af00; text-decoration-color: #00af00\">15</span>)             │             <span style=\"color: #00af00; text-decoration-color: #00af00\">0</span> │\n",
              "│ (<span style=\"color: #0087ff; text-decoration-color: #0087ff\">TextVectorization</span>)             │                        │               │\n",
              "├─────────────────────────────────┼────────────────────────┼───────────────┤\n",
              "│ embedding_1 (<span style=\"color: #0087ff; text-decoration-color: #0087ff\">Embedding</span>)         │ (<span style=\"color: #00d7ff; text-decoration-color: #00d7ff\">None</span>, <span style=\"color: #00af00; text-decoration-color: #00af00\">15</span>, <span style=\"color: #00af00; text-decoration-color: #00af00\">128</span>)        │     <span style=\"color: #00af00; text-decoration-color: #00af00\">1,280,000</span> │\n",
              "├─────────────────────────────────┼────────────────────────┼───────────────┤\n",
              "│ global_average_pooling1d_1      │ (<span style=\"color: #00d7ff; text-decoration-color: #00d7ff\">None</span>, <span style=\"color: #00af00; text-decoration-color: #00af00\">128</span>)            │             <span style=\"color: #00af00; text-decoration-color: #00af00\">0</span> │\n",
              "│ (<span style=\"color: #0087ff; text-decoration-color: #0087ff\">GlobalAveragePooling1D</span>)        │                        │               │\n",
              "├─────────────────────────────────┼────────────────────────┼───────────────┤\n",
              "│ dense_5 (<span style=\"color: #0087ff; text-decoration-color: #0087ff\">Dense</span>)                 │ (<span style=\"color: #00d7ff; text-decoration-color: #00d7ff\">None</span>, <span style=\"color: #00af00; text-decoration-color: #00af00\">1</span>)              │           <span style=\"color: #00af00; text-decoration-color: #00af00\">129</span> │\n",
              "└─────────────────────────────────┴────────────────────────┴───────────────┘\n",
              "</pre>\n"
            ]
          },
          "metadata": {}
        },
        {
          "output_type": "display_data",
          "data": {
            "text/plain": [
              "\u001b[1m Total params: \u001b[0m\u001b[38;5;34m3,840,389\u001b[0m (14.65 MB)\n"
            ],
            "text/html": [
              "<pre style=\"white-space:pre;overflow-x:auto;line-height:normal;font-family:Menlo,'DejaVu Sans Mono',consolas,'Courier New',monospace\"><span style=\"font-weight: bold\"> Total params: </span><span style=\"color: #00af00; text-decoration-color: #00af00\">3,840,389</span> (14.65 MB)\n",
              "</pre>\n"
            ]
          },
          "metadata": {}
        },
        {
          "output_type": "display_data",
          "data": {
            "text/plain": [
              "\u001b[1m Trainable params: \u001b[0m\u001b[38;5;34m1,280,129\u001b[0m (4.88 MB)\n"
            ],
            "text/html": [
              "<pre style=\"white-space:pre;overflow-x:auto;line-height:normal;font-family:Menlo,'DejaVu Sans Mono',consolas,'Courier New',monospace\"><span style=\"font-weight: bold\"> Trainable params: </span><span style=\"color: #00af00; text-decoration-color: #00af00\">1,280,129</span> (4.88 MB)\n",
              "</pre>\n"
            ]
          },
          "metadata": {}
        },
        {
          "output_type": "display_data",
          "data": {
            "text/plain": [
              "\u001b[1m Non-trainable params: \u001b[0m\u001b[38;5;34m0\u001b[0m (0.00 B)\n"
            ],
            "text/html": [
              "<pre style=\"white-space:pre;overflow-x:auto;line-height:normal;font-family:Menlo,'DejaVu Sans Mono',consolas,'Courier New',monospace\"><span style=\"font-weight: bold\"> Non-trainable params: </span><span style=\"color: #00af00; text-decoration-color: #00af00\">0</span> (0.00 B)\n",
              "</pre>\n"
            ]
          },
          "metadata": {}
        },
        {
          "output_type": "display_data",
          "data": {
            "text/plain": [
              "\u001b[1m Optimizer params: \u001b[0m\u001b[38;5;34m2,560,260\u001b[0m (9.77 MB)\n"
            ],
            "text/html": [
              "<pre style=\"white-space:pre;overflow-x:auto;line-height:normal;font-family:Menlo,'DejaVu Sans Mono',consolas,'Courier New',monospace\"><span style=\"font-weight: bold\"> Optimizer params: </span><span style=\"color: #00af00; text-decoration-color: #00af00\">2,560,260</span> (9.77 MB)\n",
              "</pre>\n"
            ]
          },
          "metadata": {}
        }
      ]
    },
    {
      "cell_type": "code",
      "source": [
        "# Get the weight matrix of embedding layer\n",
        "# (these are the numerical representations of each token in our training data, which have been learned for 5 epochs)\n",
        "# embed_weights = model_1.get_layer(\"embedding\").get_weights()[0]\n",
        "# the code gets error when we rerun the program, let's create a try, except function\n",
        "# Try to get embedding weights whether the layer is named \"embedding\" or \"embedding_1\"\n",
        "try:\n",
        "    embed_weights = model_1.get_layer(\"embedding\").get_weights()[0]\n",
        "except ValueError:\n",
        "    embed_weights = model_1.get_layer(\"embedding_1\").get_weights()[0]\n",
        "embed_weights"
      ],
      "metadata": {
        "colab": {
          "base_uri": "https://localhost:8080/"
        },
        "id": "_mcP2xy0mfF6",
        "outputId": "699fd098-768b-4f89-a049-b765a3b38ab1"
      },
      "execution_count": 170,
      "outputs": [
        {
          "output_type": "execute_result",
          "data": {
            "text/plain": [
              "array([[ 0.05497823,  0.05753805, -0.01267279, ...,  0.02743377,\n",
              "        -0.02089258,  0.01226554],\n",
              "       [ 0.00324856,  0.02820004,  0.03659345, ..., -0.03552964,\n",
              "        -0.02123518,  0.05224422],\n",
              "       [ 0.04098302,  0.03937174, -0.00217601, ..., -0.01632541,\n",
              "         0.02017931,  0.02932698],\n",
              "       ...,\n",
              "       [-0.02064375, -0.00989561, -0.041958  , ..., -0.00297601,\n",
              "        -0.02592741, -0.00719255],\n",
              "       [ 0.03520752,  0.04752171,  0.07934637, ..., -0.08164984,\n",
              "        -0.02931722,  0.03374666],\n",
              "       [ 0.04472686,  0.09542832,  0.0972265 , ..., -0.0808193 ,\n",
              "        -0.01908251,  0.01187816]], dtype=float32)"
            ]
          },
          "metadata": {},
          "execution_count": 170
        }
      ]
    },
    {
      "cell_type": "code",
      "source": [
        "print(embed_weights.shape) # same size as vocab size and embedding dim (output dim of our embedding layer)"
      ],
      "metadata": {
        "colab": {
          "base_uri": "https://localhost:8080/"
        },
        "id": "SPVwQ-gunPK_",
        "outputId": "5463019b-c026-4fcb-8a58-4e67bc7c2d56"
      },
      "execution_count": 171,
      "outputs": [
        {
          "output_type": "stream",
          "name": "stdout",
          "text": [
            "(10000, 128)\n"
          ]
        }
      ]
    },
    {
      "cell_type": "markdown",
      "source": [
        "Now we've got the embedding matrix our model has learned to represent our tokens, let's see how we can visualize it.\n",
        "\n",
        "To do so, TensorFlow has a handy tool called projector: https://projector.tensorflow.org/\n",
        "\n",
        "And TensorFlow also has an incredible guide on word embedding themselves: https://www.tensorflow.org/text/guide/word_embeddings"
      ],
      "metadata": {
        "id": "Ib_bREleoBsa"
      }
    },
    {
      "cell_type": "code",
      "source": [
        "# Create embedding files (we got this trom TensorFlow's word embeddings documentation)\n",
        "import io\n",
        "out_v = io.open('vectors.tsv', 'w', encoding='utf-8')\n",
        "out_m = io.open('metadata.tsv', 'w', encoding='utf-8')\n",
        "\n",
        "for index, word in enumerate(words_in_vocab):\n",
        "  if index == 0:\n",
        "    continue  # skip 0, it's padding.\n",
        "  # if we apply the original code then the `IndexError` in our loop will happen because `words_in_vocab` is longer than `embed_weights`.\n",
        "  # we add this next `if` function\n",
        "  # if index >= embed_weights.shape[0]:\n",
        "  #   break  # avoid going past available embeddings\n",
        "  # [this apply when we use get_weights() insted of get_weights()[0] in embed_weights]\n",
        "  vec = embed_weights[index]\n",
        "  out_v.write('\\t'.join([str(x) for x in vec]) + \"\\n\")\n",
        "  out_m.write(word + \"\\n\")\n",
        "out_v.close()\n",
        "out_m.close()"
      ],
      "metadata": {
        "id": "ELzMgBgNnpiG"
      },
      "execution_count": 172,
      "outputs": []
    },
    {
      "cell_type": "markdown",
      "source": [
        "But, If we want the embedding files for TensorBoard projector to work correctly, other option is better — because we want an embedding for every token in the vocabulary.\n",
        "\n",
        "And that is: Match embedding input_dim to vocabulary size\n",
        "When creating the embedding layer:\n",
        "\n",
        "`vocab_size = len(words_in_vocab)\n",
        "embedding = layers.Embedding(\n",
        "    input_dim=vocab_size,\n",
        "    output_dim=embedding_dim\n",
        ")`\n",
        "\n"
      ],
      "metadata": {
        "id": "up4vNAkSr9Ei"
      }
    },
    {
      "cell_type": "code",
      "source": [
        "# Download files from Colab to upload to projector\n",
        "# try:\n",
        "#   from google.colab import files\n",
        "#   files.download('vectors.tsv')\n",
        "#   files.download('metadata.tsv')\n",
        "# except Exception:\n",
        "#   pass"
      ],
      "metadata": {
        "id": "sM2vcZ1LsMYB"
      },
      "execution_count": 173,
      "outputs": []
    },
    {
      "cell_type": "markdown",
      "source": [
        "Downloading the files above we can visualize them using https://projector.tensorflow.org/ and clicking the \"load\" button on the left hand side.\n",
        "> 📖 **Resources:** For better understanding embeddings, check out:\n",
        "* Jay Alammar's visualized word2vec post: https://jalammar.github.io/illustrated-word2vec/\n",
        "* TensorFlow's Word Embeddings guide: https://www.tensorflow.org/text/guide/word_embeddings"
      ],
      "metadata": {
        "id": "aA6J_RmSyQia"
      }
    },
    {
      "cell_type": "markdown",
      "source": [
        "## Recurrent Neural Networks (RNN's)\n",
        "\n",
        "**RNN's are useful for sequence data.**\n",
        "\n",
        "The premise of a recurrent neural network is to use the representation of a previous input to aid the representation of a later input."
      ],
      "metadata": {
        "id": "x-sv3-wQybIT"
      }
    },
    {
      "cell_type": "markdown",
      "source": [
        "![RNN.png](data:image/png;base64,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)"
      ],
      "metadata": {
        "id": "QR-ZuF4YbcaH"
      }
    },
    {
      "cell_type": "markdown",
      "source": [
        "For better understanding: **MIT deep learning course:** https://introtodeeplearning.com/"
      ],
      "metadata": {
        "id": "3gTqZGFAbr_1"
      }
    },
    {
      "cell_type": "code",
      "source": [
        "train_sentences[:20]"
      ],
      "metadata": {
        "id": "FkBhP_jM0uKr",
        "colab": {
          "base_uri": "https://localhost:8080/"
        },
        "outputId": "761a1b6a-a1dd-4afc-a77d-cffe0095b8f1"
      },
      "execution_count": 174,
      "outputs": [
        {
          "output_type": "execute_result",
          "data": {
            "text/plain": [
              "array(['@mogacola @zamtriossu i screamed after hitting tweet',\n",
              "       'Imagine getting flattened by Kurt Zouma',\n",
              "       '@Gurmeetramrahim #MSGDoing111WelfareWorks Green S welfare force ke appx 65000 members har time disaster victim ki help ke liye tyar hai....',\n",
              "       \"@shakjn @C7 @Magnums im shaking in fear he's gonna hack the planet\",\n",
              "       'Somehow find you and I collide http://t.co/Ee8RpOahPk',\n",
              "       '@EvaHanderek @MarleyKnysh great times until the bus driver held us hostage in the mall parking lot lmfao',\n",
              "       'destroy the free fandom honestly',\n",
              "       'Weapons stolen from National Guard Armory in New Albany still missing #Gunsense http://t.co/lKNU8902JE',\n",
              "       '@wfaaweather Pete when will the heat wave pass? Is it really going to be mid month? Frisco Boy Scouts have a canoe trip in Okla.',\n",
              "       'Patient-reported outcomes in long-term survivors of metastatic colorectal cancer - British Journal of Surgery http://t.co/5Yl4DC1Tqt',\n",
              "       'Lava Dragon Breeder! I just bred a Lava Dragon in DragonVale! Visit my park to check it out! http://t.co/QGum9xHEOs',\n",
              "       '@BehindAShield @Wars_Goddess Sweet Lord.  (I collapse as my knees buckle)',\n",
              "       'Several wild fires have burned a lot of land in California. Here is one of the larger fires. http://t.co/2M1gNeaiFl http://t.co/UQh85MiP0v',\n",
              "       \"1st wk of Rainier Diet and my street Seward Park Ave is inundated w/ bypass traffic so @seattledot what's your plan? @seattletimes\",\n",
              "       'Madhya Pradesh Train Derailment: Village Youth Saved Many Lives',\n",
              "       'Fair enough we have two of the best attacking wingers in the Prem in Hazard and Willian who will basically start every game 100%',\n",
              "       \"@AlexeiVolkov1 @McFaul\\nAnd in an equal spirit I leave you to Roskomnadzor and to ridiculously politicized destruction of 'illegal food.'\",\n",
              "       'SOOOO PUMPED FOR ABLAZE ???? @southridgelife',\n",
              "       'Ready for this storm',\n",
              "       'WHEN U BOMBED AND U TRY 2 GET HOME FOR CURFEW http://t.co/oi6CmAGASi'],\n",
              "      dtype=object)"
            ]
          },
          "metadata": {},
          "execution_count": 174
        }
      ]
    },
    {
      "cell_type": "markdown",
      "source": [
        "### Model 2: LSTM\n",
        "\n",
        "LSTM = long short term memory (one of the most popular LSTM cells)\n",
        "\n",
        "For more information: https://www.tensorflow.org/api_docs/python/tf/keras/layers/LSTM\n",
        "\n",
        "Our structure of an RNN typically looks like this:\n",
        "\n",
        "```\n",
        "Inpur (text) -> Tokenize -> Embedding -> Layers (RNNs/dense) -> Outpur (label probability)\n",
        "```"
      ],
      "metadata": {
        "id": "Z0-hFtp2A_c8"
      }
    },
    {
      "cell_type": "code",
      "source": [
        "# Create an LSTM model\n",
        "from tensorflow.keras import layers\n",
        "inputs = layers.Input(shape=(1,), dtype=\"string\")\n",
        "x = text_vectorizer(inputs)\n",
        "x = embedding(x)\n",
        "# print(x.shape)\n",
        "# x = layers.LSTM(64, return_sequences=True)(x)  # when we're stacking RNN cells together, we need to set return_sequences=True\n",
        "# print(x.shape)\n",
        "x = layers.LSTM(64)(x)\n",
        "# print(x.shape)\n",
        "# x = layers.Dense(64, activation=\"relu\")(x)\n",
        "# print(x.shape)\n",
        "outputs = layers.Dense(1, activation=\"sigmoid\")(x)\n",
        "model_2 = tf.keras.Model(inputs, outputs, name=\"model_2_LSTM\")"
      ],
      "metadata": {
        "id": "aXx8TbfKB1Fc"
      },
      "execution_count": 175,
      "outputs": []
    },
    {
      "cell_type": "code",
      "source": [
        "# Get a summary\n",
        "model_2.summary()"
      ],
      "metadata": {
        "colab": {
          "base_uri": "https://localhost:8080/",
          "height": 305
        },
        "id": "PDzmkgfs7zmL",
        "outputId": "39d3a544-77ee-4d96-b5b9-4438e7a00aa7"
      },
      "execution_count": 176,
      "outputs": [
        {
          "output_type": "display_data",
          "data": {
            "text/plain": [
              "\u001b[1mModel: \"model_2_LSTM\"\u001b[0m\n"
            ],
            "text/html": [
              "<pre style=\"white-space:pre;overflow-x:auto;line-height:normal;font-family:Menlo,'DejaVu Sans Mono',consolas,'Courier New',monospace\"><span style=\"font-weight: bold\">Model: \"model_2_LSTM\"</span>\n",
              "</pre>\n"
            ]
          },
          "metadata": {}
        },
        {
          "output_type": "display_data",
          "data": {
            "text/plain": [
              "┏━━━━━━━━━━━━━━━━━━━━━━━━━━━━━━━━━┳━━━━━━━━━━━━━━━━━━━━━━━━┳━━━━━━━━━━━━━━━┓\n",
              "┃\u001b[1m \u001b[0m\u001b[1mLayer (type)                   \u001b[0m\u001b[1m \u001b[0m┃\u001b[1m \u001b[0m\u001b[1mOutput Shape          \u001b[0m\u001b[1m \u001b[0m┃\u001b[1m \u001b[0m\u001b[1m      Param #\u001b[0m\u001b[1m \u001b[0m┃\n",
              "┡━━━━━━━━━━━━━━━━━━━━━━━━━━━━━━━━━╇━━━━━━━━━━━━━━━━━━━━━━━━╇━━━━━━━━━━━━━━━┩\n",
              "│ input_layer_6 (\u001b[38;5;33mInputLayer\u001b[0m)      │ (\u001b[38;5;45mNone\u001b[0m, \u001b[38;5;34m1\u001b[0m)              │             \u001b[38;5;34m0\u001b[0m │\n",
              "├─────────────────────────────────┼────────────────────────┼───────────────┤\n",
              "│ text_vectorization_3            │ (\u001b[38;5;45mNone\u001b[0m, \u001b[38;5;34m15\u001b[0m)             │             \u001b[38;5;34m0\u001b[0m │\n",
              "│ (\u001b[38;5;33mTextVectorization\u001b[0m)             │                        │               │\n",
              "├─────────────────────────────────┼────────────────────────┼───────────────┤\n",
              "│ embedding_1 (\u001b[38;5;33mEmbedding\u001b[0m)         │ (\u001b[38;5;45mNone\u001b[0m, \u001b[38;5;34m15\u001b[0m, \u001b[38;5;34m128\u001b[0m)        │     \u001b[38;5;34m1,280,000\u001b[0m │\n",
              "├─────────────────────────────────┼────────────────────────┼───────────────┤\n",
              "│ lstm_2 (\u001b[38;5;33mLSTM\u001b[0m)                   │ (\u001b[38;5;45mNone\u001b[0m, \u001b[38;5;34m64\u001b[0m)             │        \u001b[38;5;34m49,408\u001b[0m │\n",
              "├─────────────────────────────────┼────────────────────────┼───────────────┤\n",
              "│ dense_6 (\u001b[38;5;33mDense\u001b[0m)                 │ (\u001b[38;5;45mNone\u001b[0m, \u001b[38;5;34m1\u001b[0m)              │            \u001b[38;5;34m65\u001b[0m │\n",
              "└─────────────────────────────────┴────────────────────────┴───────────────┘\n"
            ],
            "text/html": [
              "<pre style=\"white-space:pre;overflow-x:auto;line-height:normal;font-family:Menlo,'DejaVu Sans Mono',consolas,'Courier New',monospace\">┏━━━━━━━━━━━━━━━━━━━━━━━━━━━━━━━━━┳━━━━━━━━━━━━━━━━━━━━━━━━┳━━━━━━━━━━━━━━━┓\n",
              "┃<span style=\"font-weight: bold\"> Layer (type)                    </span>┃<span style=\"font-weight: bold\"> Output Shape           </span>┃<span style=\"font-weight: bold\">       Param # </span>┃\n",
              "┡━━━━━━━━━━━━━━━━━━━━━━━━━━━━━━━━━╇━━━━━━━━━━━━━━━━━━━━━━━━╇━━━━━━━━━━━━━━━┩\n",
              "│ input_layer_6 (<span style=\"color: #0087ff; text-decoration-color: #0087ff\">InputLayer</span>)      │ (<span style=\"color: #00d7ff; text-decoration-color: #00d7ff\">None</span>, <span style=\"color: #00af00; text-decoration-color: #00af00\">1</span>)              │             <span style=\"color: #00af00; text-decoration-color: #00af00\">0</span> │\n",
              "├─────────────────────────────────┼────────────────────────┼───────────────┤\n",
              "│ text_vectorization_3            │ (<span style=\"color: #00d7ff; text-decoration-color: #00d7ff\">None</span>, <span style=\"color: #00af00; text-decoration-color: #00af00\">15</span>)             │             <span style=\"color: #00af00; text-decoration-color: #00af00\">0</span> │\n",
              "│ (<span style=\"color: #0087ff; text-decoration-color: #0087ff\">TextVectorization</span>)             │                        │               │\n",
              "├─────────────────────────────────┼────────────────────────┼───────────────┤\n",
              "│ embedding_1 (<span style=\"color: #0087ff; text-decoration-color: #0087ff\">Embedding</span>)         │ (<span style=\"color: #00d7ff; text-decoration-color: #00d7ff\">None</span>, <span style=\"color: #00af00; text-decoration-color: #00af00\">15</span>, <span style=\"color: #00af00; text-decoration-color: #00af00\">128</span>)        │     <span style=\"color: #00af00; text-decoration-color: #00af00\">1,280,000</span> │\n",
              "├─────────────────────────────────┼────────────────────────┼───────────────┤\n",
              "│ lstm_2 (<span style=\"color: #0087ff; text-decoration-color: #0087ff\">LSTM</span>)                   │ (<span style=\"color: #00d7ff; text-decoration-color: #00d7ff\">None</span>, <span style=\"color: #00af00; text-decoration-color: #00af00\">64</span>)             │        <span style=\"color: #00af00; text-decoration-color: #00af00\">49,408</span> │\n",
              "├─────────────────────────────────┼────────────────────────┼───────────────┤\n",
              "│ dense_6 (<span style=\"color: #0087ff; text-decoration-color: #0087ff\">Dense</span>)                 │ (<span style=\"color: #00d7ff; text-decoration-color: #00d7ff\">None</span>, <span style=\"color: #00af00; text-decoration-color: #00af00\">1</span>)              │            <span style=\"color: #00af00; text-decoration-color: #00af00\">65</span> │\n",
              "└─────────────────────────────────┴────────────────────────┴───────────────┘\n",
              "</pre>\n"
            ]
          },
          "metadata": {}
        },
        {
          "output_type": "display_data",
          "data": {
            "text/plain": [
              "\u001b[1m Total params: \u001b[0m\u001b[38;5;34m1,329,473\u001b[0m (5.07 MB)\n"
            ],
            "text/html": [
              "<pre style=\"white-space:pre;overflow-x:auto;line-height:normal;font-family:Menlo,'DejaVu Sans Mono',consolas,'Courier New',monospace\"><span style=\"font-weight: bold\"> Total params: </span><span style=\"color: #00af00; text-decoration-color: #00af00\">1,329,473</span> (5.07 MB)\n",
              "</pre>\n"
            ]
          },
          "metadata": {}
        },
        {
          "output_type": "display_data",
          "data": {
            "text/plain": [
              "\u001b[1m Trainable params: \u001b[0m\u001b[38;5;34m1,329,473\u001b[0m (5.07 MB)\n"
            ],
            "text/html": [
              "<pre style=\"white-space:pre;overflow-x:auto;line-height:normal;font-family:Menlo,'DejaVu Sans Mono',consolas,'Courier New',monospace\"><span style=\"font-weight: bold\"> Trainable params: </span><span style=\"color: #00af00; text-decoration-color: #00af00\">1,329,473</span> (5.07 MB)\n",
              "</pre>\n"
            ]
          },
          "metadata": {}
        },
        {
          "output_type": "display_data",
          "data": {
            "text/plain": [
              "\u001b[1m Non-trainable params: \u001b[0m\u001b[38;5;34m0\u001b[0m (0.00 B)\n"
            ],
            "text/html": [
              "<pre style=\"white-space:pre;overflow-x:auto;line-height:normal;font-family:Menlo,'DejaVu Sans Mono',consolas,'Courier New',monospace\"><span style=\"font-weight: bold\"> Non-trainable params: </span><span style=\"color: #00af00; text-decoration-color: #00af00\">0</span> (0.00 B)\n",
              "</pre>\n"
            ]
          },
          "metadata": {}
        }
      ]
    },
    {
      "cell_type": "code",
      "source": [
        "# Compile the model\n",
        "model_2.compile(loss=\"binary_crossentropy\",\n",
        "                optimizer=tf.keras.optimizers.Adam(),\n",
        "                metrics=[\"accuracy\"])"
      ],
      "metadata": {
        "id": "NAv_nTSWv2IF"
      },
      "execution_count": 177,
      "outputs": []
    },
    {
      "cell_type": "code",
      "source": [
        "# Fit the model\n",
        "model_2_history = model_2.fit(train_sentences,\n",
        "                              train_labels,\n",
        "                              epochs=5,\n",
        "                              validation_data=(val_sentences, val_labels),\n",
        "                              callbacks=[create_tensorboard_callback(SAVE_DIR,\n",
        "                                                                     \"model_2_LSTM\")])"
      ],
      "metadata": {
        "colab": {
          "base_uri": "https://localhost:8080/"
        },
        "id": "rCSU3KANzuU0",
        "outputId": "648479ba-6388-4c77-da1c-787cbd77c88e"
      },
      "execution_count": 178,
      "outputs": [
        {
          "output_type": "stream",
          "name": "stdout",
          "text": [
            "Saving TensorBoard log files to: model_logs/model_2_LSTM/20250822-175811\n",
            "Epoch 1/5\n",
            "\u001b[1m215/215\u001b[0m \u001b[32m━━━━━━━━━━━━━━━━━━━━\u001b[0m\u001b[37m\u001b[0m \u001b[1m10s\u001b[0m 30ms/step - accuracy: 0.8881 - loss: 0.3090 - val_accuracy: 0.7756 - val_loss: 0.5496\n",
            "Epoch 2/5\n",
            "\u001b[1m215/215\u001b[0m \u001b[32m━━━━━━━━━━━━━━━━━━━━\u001b[0m\u001b[37m\u001b[0m \u001b[1m11s\u001b[0m 32ms/step - accuracy: 0.9453 - loss: 0.1587 - val_accuracy: 0.7730 - val_loss: 0.6305\n",
            "Epoch 3/5\n",
            "\u001b[1m215/215\u001b[0m \u001b[32m━━━━━━━━━━━━━━━━━━━━\u001b[0m\u001b[37m\u001b[0m \u001b[1m6s\u001b[0m 27ms/step - accuracy: 0.9547 - loss: 0.1236 - val_accuracy: 0.7769 - val_loss: 0.6559\n",
            "Epoch 4/5\n",
            "\u001b[1m215/215\u001b[0m \u001b[32m━━━━━━━━━━━━━━━━━━━━\u001b[0m\u001b[37m\u001b[0m \u001b[1m7s\u001b[0m 31ms/step - accuracy: 0.9614 - loss: 0.1007 - val_accuracy: 0.7848 - val_loss: 0.8220\n",
            "Epoch 5/5\n",
            "\u001b[1m215/215\u001b[0m \u001b[32m━━━━━━━━━━━━━━━━━━━━\u001b[0m\u001b[37m\u001b[0m \u001b[1m10s\u001b[0m 29ms/step - accuracy: 0.9667 - loss: 0.0837 - val_accuracy: 0.7822 - val_loss: 0.9576\n"
          ]
        }
      ]
    },
    {
      "cell_type": "code",
      "source": [
        "# Make predictions with LSTM model\n",
        "model_2_pred_probs = model_2.predict(val_sentences)\n",
        "model_2_pred_probs[:10]"
      ],
      "metadata": {
        "colab": {
          "base_uri": "https://localhost:8080/"
        },
        "id": "v9sIASOW0wZP",
        "outputId": "fe5430ad-0703-4fcc-b325-5c160abf5d17"
      },
      "execution_count": 179,
      "outputs": [
        {
          "output_type": "stream",
          "name": "stdout",
          "text": [
            "\u001b[1m24/24\u001b[0m \u001b[32m━━━━━━━━━━━━━━━━━━━━\u001b[0m\u001b[37m\u001b[0m \u001b[1m1s\u001b[0m 16ms/step\n"
          ]
        },
        {
          "output_type": "execute_result",
          "data": {
            "text/plain": [
              "array([[2.2924038e-02],\n",
              "       [8.6297554e-01],\n",
              "       [9.9985892e-01],\n",
              "       [6.0446929e-02],\n",
              "       [6.2959857e-04],\n",
              "       [9.9965703e-01],\n",
              "       [8.5282415e-01],\n",
              "       [9.9989253e-01],\n",
              "       [9.9983233e-01],\n",
              "       [4.6526000e-01]], dtype=float32)"
            ]
          },
          "metadata": {},
          "execution_count": 179
        }
      ]
    },
    {
      "cell_type": "code",
      "source": [
        "# Convert model 2 pred probs to labels\n",
        "model_2_preds = tf.squeeze(tf.round(model_2_pred_probs))\n",
        "model_2_preds[:10]"
      ],
      "metadata": {
        "colab": {
          "base_uri": "https://localhost:8080/"
        },
        "id": "LnElpw-M1Cm2",
        "outputId": "210e9de7-e1e6-44cc-d145-4cb1144f636e"
      },
      "execution_count": 180,
      "outputs": [
        {
          "output_type": "execute_result",
          "data": {
            "text/plain": [
              "<tf.Tensor: shape=(10,), dtype=float32, numpy=array([0., 1., 1., 0., 0., 1., 1., 1., 1., 0.], dtype=float32)>"
            ]
          },
          "metadata": {},
          "execution_count": 180
        }
      ]
    },
    {
      "cell_type": "code",
      "source": [
        "# calculate model 2 results\n",
        "model_2_results = calculate_results(y_true=val_labels,\n",
        "                                    y_pred=model_2_preds)\n",
        "model_2_results"
      ],
      "metadata": {
        "colab": {
          "base_uri": "https://localhost:8080/"
        },
        "id": "JraDVK2i1PiM",
        "outputId": "276316c9-c21e-41fc-af39-f1fc6b4a4d79"
      },
      "execution_count": 181,
      "outputs": [
        {
          "output_type": "execute_result",
          "data": {
            "text/plain": [
              "{'accuracy': 78.21522309711287,\n",
              " 'precision': 0.7831103148931962,\n",
              " 'recall': 0.7821522309711286,\n",
              " 'f1': 0.7806413638617516}"
            ]
          },
          "metadata": {},
          "execution_count": 181
        }
      ]
    },
    {
      "cell_type": "code",
      "source": [
        "baseline_results"
      ],
      "metadata": {
        "colab": {
          "base_uri": "https://localhost:8080/"
        },
        "id": "vBxoUSy01vtR",
        "outputId": "dddc8c01-8799-4ffc-e605-28bbca6712e1"
      },
      "execution_count": 182,
      "outputs": [
        {
          "output_type": "execute_result",
          "data": {
            "text/plain": [
              "{'accuracy': 79.26509186351706,\n",
              " 'precision': 0.8111390004213173,\n",
              " 'recall': 0.7926509186351706,\n",
              " 'f1': 0.7862189758049549}"
            ]
          },
          "metadata": {},
          "execution_count": 182
        }
      ]
    },
    {
      "cell_type": "code",
      "source": [
        "np.array(list(model_2_results.values())) > np.array(list(baseline_results.values()))"
      ],
      "metadata": {
        "colab": {
          "base_uri": "https://localhost:8080/"
        },
        "id": "fwINlCHw2G7v",
        "outputId": "3dd8648d-75d9-4f68-a056-a5fa2986e7de"
      },
      "execution_count": 183,
      "outputs": [
        {
          "output_type": "execute_result",
          "data": {
            "text/plain": [
              "array([False, False, False, False])"
            ]
          },
          "metadata": {},
          "execution_count": 183
        }
      ]
    },
    {
      "cell_type": "markdown",
      "source": [
        "### Model 3: GRU\n",
        "\n",
        "Another popular and effective RNN component is the GRU or gated recurrent unit. TensorFlow Link: https://www.tensorflow.org/api_docs/python/tf/keras/layers/GRU\n",
        "\n",
        "Another great resources: https://towardsdatascience.com/gru-recurrent-neural-networks-a-smart-way-to-predict-sequences-in-python-80864e4fe9f6/\n",
        "\n",
        "The GRU cell has similar features to an LSTM cell but has less parameters."
      ],
      "metadata": {
        "id": "OoDDo29m2qPN"
      }
    },
    {
      "cell_type": "code",
      "source": [
        "# Build an RNN using the GRU cell\n",
        "from tensorflow.keras import layers\n",
        "inputs = layers.Input(shape=(1,), dtype=tf.string)\n",
        "x = text_vectorizer(inputs)\n",
        "x = embedding(x)\n",
        "# print(x.shape)\n",
        "# or we can just add a GRU layer without return_sequences=True\n",
        "x = layers.GRU(64)(x)\n",
        "# x = layers.GRU(64, return_sequences=True)(x) # if we want to stack recurrent layers on top of each other, we need return_sequences=True\n",
        "# print(x.shape)\n",
        "# x = layers.LSTM(64, return_sequences=True)(x)\n",
        "# print(x.shape)\n",
        "# x = layers.GRU(64)(x)\n",
        "# print(x.shape)\n",
        "# x = layers.Dense(64, activation=\"relu\")(x)\n",
        "# x = layers.GlobalAveragePooling1D()(x)\n",
        "outputs = layers.Dense(1, activation=\"sigmoid\")(x)\n",
        "model_3 = tf.keras.Model(inputs, outputs, name=\"model_3_GRU\")"
      ],
      "metadata": {
        "id": "Pf78UUWV4UuO"
      },
      "execution_count": 184,
      "outputs": []
    },
    {
      "cell_type": "code",
      "source": [
        "# Get a summary\n",
        "model_3.summary()"
      ],
      "metadata": {
        "colab": {
          "base_uri": "https://localhost:8080/",
          "height": 305
        },
        "id": "M1XBfSNc4Wm5",
        "outputId": "a6c6fa34-9f95-4cd3-9dc1-f42303c69bcf"
      },
      "execution_count": 185,
      "outputs": [
        {
          "output_type": "display_data",
          "data": {
            "text/plain": [
              "\u001b[1mModel: \"model_3_GRU\"\u001b[0m\n"
            ],
            "text/html": [
              "<pre style=\"white-space:pre;overflow-x:auto;line-height:normal;font-family:Menlo,'DejaVu Sans Mono',consolas,'Courier New',monospace\"><span style=\"font-weight: bold\">Model: \"model_3_GRU\"</span>\n",
              "</pre>\n"
            ]
          },
          "metadata": {}
        },
        {
          "output_type": "display_data",
          "data": {
            "text/plain": [
              "┏━━━━━━━━━━━━━━━━━━━━━━━━━━━━━━━━━┳━━━━━━━━━━━━━━━━━━━━━━━━┳━━━━━━━━━━━━━━━┓\n",
              "┃\u001b[1m \u001b[0m\u001b[1mLayer (type)                   \u001b[0m\u001b[1m \u001b[0m┃\u001b[1m \u001b[0m\u001b[1mOutput Shape          \u001b[0m\u001b[1m \u001b[0m┃\u001b[1m \u001b[0m\u001b[1m      Param #\u001b[0m\u001b[1m \u001b[0m┃\n",
              "┡━━━━━━━━━━━━━━━━━━━━━━━━━━━━━━━━━╇━━━━━━━━━━━━━━━━━━━━━━━━╇━━━━━━━━━━━━━━━┩\n",
              "│ input_layer_7 (\u001b[38;5;33mInputLayer\u001b[0m)      │ (\u001b[38;5;45mNone\u001b[0m, \u001b[38;5;34m1\u001b[0m)              │             \u001b[38;5;34m0\u001b[0m │\n",
              "├─────────────────────────────────┼────────────────────────┼───────────────┤\n",
              "│ text_vectorization_3            │ (\u001b[38;5;45mNone\u001b[0m, \u001b[38;5;34m15\u001b[0m)             │             \u001b[38;5;34m0\u001b[0m │\n",
              "│ (\u001b[38;5;33mTextVectorization\u001b[0m)             │                        │               │\n",
              "├─────────────────────────────────┼────────────────────────┼───────────────┤\n",
              "│ embedding_1 (\u001b[38;5;33mEmbedding\u001b[0m)         │ (\u001b[38;5;45mNone\u001b[0m, \u001b[38;5;34m15\u001b[0m, \u001b[38;5;34m128\u001b[0m)        │     \u001b[38;5;34m1,280,000\u001b[0m │\n",
              "├─────────────────────────────────┼────────────────────────┼───────────────┤\n",
              "│ gru_1 (\u001b[38;5;33mGRU\u001b[0m)                     │ (\u001b[38;5;45mNone\u001b[0m, \u001b[38;5;34m64\u001b[0m)             │        \u001b[38;5;34m37,248\u001b[0m │\n",
              "├─────────────────────────────────┼────────────────────────┼───────────────┤\n",
              "│ dense_7 (\u001b[38;5;33mDense\u001b[0m)                 │ (\u001b[38;5;45mNone\u001b[0m, \u001b[38;5;34m1\u001b[0m)              │            \u001b[38;5;34m65\u001b[0m │\n",
              "└─────────────────────────────────┴────────────────────────┴───────────────┘\n"
            ],
            "text/html": [
              "<pre style=\"white-space:pre;overflow-x:auto;line-height:normal;font-family:Menlo,'DejaVu Sans Mono',consolas,'Courier New',monospace\">┏━━━━━━━━━━━━━━━━━━━━━━━━━━━━━━━━━┳━━━━━━━━━━━━━━━━━━━━━━━━┳━━━━━━━━━━━━━━━┓\n",
              "┃<span style=\"font-weight: bold\"> Layer (type)                    </span>┃<span style=\"font-weight: bold\"> Output Shape           </span>┃<span style=\"font-weight: bold\">       Param # </span>┃\n",
              "┡━━━━━━━━━━━━━━━━━━━━━━━━━━━━━━━━━╇━━━━━━━━━━━━━━━━━━━━━━━━╇━━━━━━━━━━━━━━━┩\n",
              "│ input_layer_7 (<span style=\"color: #0087ff; text-decoration-color: #0087ff\">InputLayer</span>)      │ (<span style=\"color: #00d7ff; text-decoration-color: #00d7ff\">None</span>, <span style=\"color: #00af00; text-decoration-color: #00af00\">1</span>)              │             <span style=\"color: #00af00; text-decoration-color: #00af00\">0</span> │\n",
              "├─────────────────────────────────┼────────────────────────┼───────────────┤\n",
              "│ text_vectorization_3            │ (<span style=\"color: #00d7ff; text-decoration-color: #00d7ff\">None</span>, <span style=\"color: #00af00; text-decoration-color: #00af00\">15</span>)             │             <span style=\"color: #00af00; text-decoration-color: #00af00\">0</span> │\n",
              "│ (<span style=\"color: #0087ff; text-decoration-color: #0087ff\">TextVectorization</span>)             │                        │               │\n",
              "├─────────────────────────────────┼────────────────────────┼───────────────┤\n",
              "│ embedding_1 (<span style=\"color: #0087ff; text-decoration-color: #0087ff\">Embedding</span>)         │ (<span style=\"color: #00d7ff; text-decoration-color: #00d7ff\">None</span>, <span style=\"color: #00af00; text-decoration-color: #00af00\">15</span>, <span style=\"color: #00af00; text-decoration-color: #00af00\">128</span>)        │     <span style=\"color: #00af00; text-decoration-color: #00af00\">1,280,000</span> │\n",
              "├─────────────────────────────────┼────────────────────────┼───────────────┤\n",
              "│ gru_1 (<span style=\"color: #0087ff; text-decoration-color: #0087ff\">GRU</span>)                     │ (<span style=\"color: #00d7ff; text-decoration-color: #00d7ff\">None</span>, <span style=\"color: #00af00; text-decoration-color: #00af00\">64</span>)             │        <span style=\"color: #00af00; text-decoration-color: #00af00\">37,248</span> │\n",
              "├─────────────────────────────────┼────────────────────────┼───────────────┤\n",
              "│ dense_7 (<span style=\"color: #0087ff; text-decoration-color: #0087ff\">Dense</span>)                 │ (<span style=\"color: #00d7ff; text-decoration-color: #00d7ff\">None</span>, <span style=\"color: #00af00; text-decoration-color: #00af00\">1</span>)              │            <span style=\"color: #00af00; text-decoration-color: #00af00\">65</span> │\n",
              "└─────────────────────────────────┴────────────────────────┴───────────────┘\n",
              "</pre>\n"
            ]
          },
          "metadata": {}
        },
        {
          "output_type": "display_data",
          "data": {
            "text/plain": [
              "\u001b[1m Total params: \u001b[0m\u001b[38;5;34m1,317,313\u001b[0m (5.03 MB)\n"
            ],
            "text/html": [
              "<pre style=\"white-space:pre;overflow-x:auto;line-height:normal;font-family:Menlo,'DejaVu Sans Mono',consolas,'Courier New',monospace\"><span style=\"font-weight: bold\"> Total params: </span><span style=\"color: #00af00; text-decoration-color: #00af00\">1,317,313</span> (5.03 MB)\n",
              "</pre>\n"
            ]
          },
          "metadata": {}
        },
        {
          "output_type": "display_data",
          "data": {
            "text/plain": [
              "\u001b[1m Trainable params: \u001b[0m\u001b[38;5;34m1,317,313\u001b[0m (5.03 MB)\n"
            ],
            "text/html": [
              "<pre style=\"white-space:pre;overflow-x:auto;line-height:normal;font-family:Menlo,'DejaVu Sans Mono',consolas,'Courier New',monospace\"><span style=\"font-weight: bold\"> Trainable params: </span><span style=\"color: #00af00; text-decoration-color: #00af00\">1,317,313</span> (5.03 MB)\n",
              "</pre>\n"
            ]
          },
          "metadata": {}
        },
        {
          "output_type": "display_data",
          "data": {
            "text/plain": [
              "\u001b[1m Non-trainable params: \u001b[0m\u001b[38;5;34m0\u001b[0m (0.00 B)\n"
            ],
            "text/html": [
              "<pre style=\"white-space:pre;overflow-x:auto;line-height:normal;font-family:Menlo,'DejaVu Sans Mono',consolas,'Courier New',monospace\"><span style=\"font-weight: bold\"> Non-trainable params: </span><span style=\"color: #00af00; text-decoration-color: #00af00\">0</span> (0.00 B)\n",
              "</pre>\n"
            ]
          },
          "metadata": {}
        }
      ]
    },
    {
      "cell_type": "code",
      "source": [
        "# Compile the model\n",
        "model_3.compile(loss=\"binary_crossentropy\",\n",
        "                optimizer=tf.keras.optimizers.Adam(),\n",
        "                metrics=[\"accuracy\"])"
      ],
      "metadata": {
        "id": "pDzuk88_TDQ4"
      },
      "execution_count": 186,
      "outputs": []
    },
    {
      "cell_type": "code",
      "source": [
        "# Fit the model\n",
        "model_3_history = model_3.fit(train_sentences,\n",
        "                              train_labels,\n",
        "                              epochs=5,\n",
        "                              validation_data=(val_sentences, val_labels),\n",
        "                              callbacks=[create_tensorboard_callback(SAVE_DIR,\n",
        "                                                                     \"model_3_GRU\")])"
      ],
      "metadata": {
        "colab": {
          "base_uri": "https://localhost:8080/"
        },
        "id": "8Vqak9qwTUAW",
        "outputId": "cdf1af4d-db7d-4a54-918b-8da069762b04"
      },
      "execution_count": 187,
      "outputs": [
        {
          "output_type": "stream",
          "name": "stdout",
          "text": [
            "Saving TensorBoard log files to: model_logs/model_3_GRU/20250822-175858\n",
            "Epoch 1/5\n",
            "\u001b[1m215/215\u001b[0m \u001b[32m━━━━━━━━━━━━━━━━━━━━\u001b[0m\u001b[37m\u001b[0m \u001b[1m12s\u001b[0m 34ms/step - accuracy: 0.8695 - loss: 0.2738 - val_accuracy: 0.7769 - val_loss: 0.7259\n",
            "Epoch 2/5\n",
            "\u001b[1m215/215\u001b[0m \u001b[32m━━━━━━━━━━━━━━━━━━━━\u001b[0m\u001b[37m\u001b[0m \u001b[1m6s\u001b[0m 26ms/step - accuracy: 0.9714 - loss: 0.0796 - val_accuracy: 0.7808 - val_loss: 0.8846\n",
            "Epoch 3/5\n",
            "\u001b[1m215/215\u001b[0m \u001b[32m━━━━━━━━━━━━━━━━━━━━\u001b[0m\u001b[37m\u001b[0m \u001b[1m7s\u001b[0m 32ms/step - accuracy: 0.9769 - loss: 0.0613 - val_accuracy: 0.7703 - val_loss: 0.9708\n",
            "Epoch 4/5\n",
            "\u001b[1m215/215\u001b[0m \u001b[32m━━━━━━━━━━━━━━━━━━━━\u001b[0m\u001b[37m\u001b[0m \u001b[1m10s\u001b[0m 29ms/step - accuracy: 0.9765 - loss: 0.0601 - val_accuracy: 0.7730 - val_loss: 1.1520\n",
            "Epoch 5/5\n",
            "\u001b[1m215/215\u001b[0m \u001b[32m━━━━━━━━━━━━━━━━━━━━\u001b[0m\u001b[37m\u001b[0m \u001b[1m10s\u001b[0m 27ms/step - accuracy: 0.9788 - loss: 0.0453 - val_accuracy: 0.7677 - val_loss: 1.3287\n"
          ]
        }
      ]
    },
    {
      "cell_type": "code",
      "source": [
        "# Make some predictions with our GRU model\n",
        "model_3_pred_probs = model_3.predict(val_sentences)\n",
        "model_3_pred_probs[:10]"
      ],
      "metadata": {
        "colab": {
          "base_uri": "https://localhost:8080/"
        },
        "id": "QPy7HoSFTv0z",
        "outputId": "d236541a-0f0d-4c13-c238-52627e0b7a98"
      },
      "execution_count": 188,
      "outputs": [
        {
          "output_type": "stream",
          "name": "stdout",
          "text": [
            "\u001b[1m24/24\u001b[0m \u001b[32m━━━━━━━━━━━━━━━━━━━━\u001b[0m\u001b[37m\u001b[0m \u001b[1m1s\u001b[0m 16ms/step\n"
          ]
        },
        {
          "output_type": "execute_result",
          "data": {
            "text/plain": [
              "array([[5.9266733e-03],\n",
              "       [8.6927360e-01],\n",
              "       [9.9994779e-01],\n",
              "       [2.6136059e-01],\n",
              "       [6.9812762e-05],\n",
              "       [9.9992239e-01],\n",
              "       [9.4528592e-01],\n",
              "       [9.9997383e-01],\n",
              "       [9.9995208e-01],\n",
              "       [9.9903983e-01]], dtype=float32)"
            ]
          },
          "metadata": {},
          "execution_count": 188
        }
      ]
    },
    {
      "cell_type": "code",
      "source": [
        "# Convert model 3 pred probs to labels\n",
        "model_3_preds = tf.squeeze(tf.round(model_3_pred_probs))\n",
        "model_3_preds[:10]"
      ],
      "metadata": {
        "colab": {
          "base_uri": "https://localhost:8080/"
        },
        "id": "-lw_Z2NuUDHi",
        "outputId": "9a855d35-e437-4413-a686-f04087532d2a"
      },
      "execution_count": 189,
      "outputs": [
        {
          "output_type": "execute_result",
          "data": {
            "text/plain": [
              "<tf.Tensor: shape=(10,), dtype=float32, numpy=array([0., 1., 1., 0., 0., 1., 1., 1., 1., 1.], dtype=float32)>"
            ]
          },
          "metadata": {},
          "execution_count": 189
        }
      ]
    },
    {
      "cell_type": "code",
      "source": [
        "# Calculate model 3 results\n",
        "model_3_results = calculate_results(y_true=val_labels,\n",
        "                                    y_pred=model_3_preds)\n",
        "model_3_results"
      ],
      "metadata": {
        "colab": {
          "base_uri": "https://localhost:8080/"
        },
        "id": "QQr9w2JsUSHy",
        "outputId": "2b256edf-6fd9-4a10-a1d2-780597797a66"
      },
      "execution_count": 190,
      "outputs": [
        {
          "output_type": "execute_result",
          "data": {
            "text/plain": [
              "{'accuracy': 76.77165354330708,\n",
              " 'precision': 0.7673725996279359,\n",
              " 'recall': 0.7677165354330708,\n",
              " 'f1': 0.7670623230765294}"
            ]
          },
          "metadata": {},
          "execution_count": 190
        }
      ]
    },
    {
      "cell_type": "code",
      "source": [
        "np.array(list(model_3_results.values())) > np.array(list(baseline_results.values()))"
      ],
      "metadata": {
        "colab": {
          "base_uri": "https://localhost:8080/"
        },
        "id": "LiI1XDvrUjaJ",
        "outputId": "84dc27c0-5724-481c-cd6b-8da639807902"
      },
      "execution_count": 191,
      "outputs": [
        {
          "output_type": "execute_result",
          "data": {
            "text/plain": [
              "array([False, False, False, False])"
            ]
          },
          "metadata": {},
          "execution_count": 191
        }
      ]
    },
    {
      "cell_type": "markdown",
      "source": [
        "### Model 4: Bidirectional RNN\n",
        "\n",
        "Normal RNN's go from left to right (just like we read an English sentence). However, a bidirectional RNN goes from right to left as well as left to right."
      ],
      "metadata": {
        "id": "HwTr5Wk5Vzpt"
      }
    },
    {
      "cell_type": "code",
      "source": [
        "# Build a Bidirectional RNN in TensorFlow\n",
        "from tensorflow.keras import layers\n",
        "inputs = layers.Input(shape=(1,), dtype=\"string\")\n",
        "x = text_vectorizer(inputs)\n",
        "x = embedding(x)\n",
        "# x = layers.Bidirectional(layers.LSTM(64, return_sequences=True))(x)\n",
        "# print(x.shape)\n",
        "# x = layers.Bidirectional(layers.GRU(64))(x)\n",
        "# print(x.shape)\n",
        "x = layers.Bidirectional(layers.LSTM(64))(x)  # keeping it simple to understand better\n",
        "outputs = layers.Dense(1, activation=\"sigmoid\")(x)\n",
        "model_4 = tf.keras.Model(inputs, outputs, name=\"model_4_bidirectional\")"
      ],
      "metadata": {
        "id": "AbGjYYCcXJ7g"
      },
      "execution_count": 192,
      "outputs": []
    },
    {
      "cell_type": "code",
      "source": [
        "# Get a summary\n",
        "model_4.summary()"
      ],
      "metadata": {
        "colab": {
          "base_uri": "https://localhost:8080/",
          "height": 305
        },
        "id": "dLy7pt1hYDls",
        "outputId": "81ba0ab4-534c-471d-96df-a6d81615c5c9"
      },
      "execution_count": 193,
      "outputs": [
        {
          "output_type": "display_data",
          "data": {
            "text/plain": [
              "\u001b[1mModel: \"model_4_bidirectional\"\u001b[0m\n"
            ],
            "text/html": [
              "<pre style=\"white-space:pre;overflow-x:auto;line-height:normal;font-family:Menlo,'DejaVu Sans Mono',consolas,'Courier New',monospace\"><span style=\"font-weight: bold\">Model: \"model_4_bidirectional\"</span>\n",
              "</pre>\n"
            ]
          },
          "metadata": {}
        },
        {
          "output_type": "display_data",
          "data": {
            "text/plain": [
              "┏━━━━━━━━━━━━━━━━━━━━━━━━━━━━━━━━━┳━━━━━━━━━━━━━━━━━━━━━━━━┳━━━━━━━━━━━━━━━┓\n",
              "┃\u001b[1m \u001b[0m\u001b[1mLayer (type)                   \u001b[0m\u001b[1m \u001b[0m┃\u001b[1m \u001b[0m\u001b[1mOutput Shape          \u001b[0m\u001b[1m \u001b[0m┃\u001b[1m \u001b[0m\u001b[1m      Param #\u001b[0m\u001b[1m \u001b[0m┃\n",
              "┡━━━━━━━━━━━━━━━━━━━━━━━━━━━━━━━━━╇━━━━━━━━━━━━━━━━━━━━━━━━╇━━━━━━━━━━━━━━━┩\n",
              "│ input_layer_8 (\u001b[38;5;33mInputLayer\u001b[0m)      │ (\u001b[38;5;45mNone\u001b[0m, \u001b[38;5;34m1\u001b[0m)              │             \u001b[38;5;34m0\u001b[0m │\n",
              "├─────────────────────────────────┼────────────────────────┼───────────────┤\n",
              "│ text_vectorization_3            │ (\u001b[38;5;45mNone\u001b[0m, \u001b[38;5;34m15\u001b[0m)             │             \u001b[38;5;34m0\u001b[0m │\n",
              "│ (\u001b[38;5;33mTextVectorization\u001b[0m)             │                        │               │\n",
              "├─────────────────────────────────┼────────────────────────┼───────────────┤\n",
              "│ embedding_1 (\u001b[38;5;33mEmbedding\u001b[0m)         │ (\u001b[38;5;45mNone\u001b[0m, \u001b[38;5;34m15\u001b[0m, \u001b[38;5;34m128\u001b[0m)        │     \u001b[38;5;34m1,280,000\u001b[0m │\n",
              "├─────────────────────────────────┼────────────────────────┼───────────────┤\n",
              "│ bidirectional_1 (\u001b[38;5;33mBidirectional\u001b[0m) │ (\u001b[38;5;45mNone\u001b[0m, \u001b[38;5;34m128\u001b[0m)            │        \u001b[38;5;34m98,816\u001b[0m │\n",
              "├─────────────────────────────────┼────────────────────────┼───────────────┤\n",
              "│ dense_8 (\u001b[38;5;33mDense\u001b[0m)                 │ (\u001b[38;5;45mNone\u001b[0m, \u001b[38;5;34m1\u001b[0m)              │           \u001b[38;5;34m129\u001b[0m │\n",
              "└─────────────────────────────────┴────────────────────────┴───────────────┘\n"
            ],
            "text/html": [
              "<pre style=\"white-space:pre;overflow-x:auto;line-height:normal;font-family:Menlo,'DejaVu Sans Mono',consolas,'Courier New',monospace\">┏━━━━━━━━━━━━━━━━━━━━━━━━━━━━━━━━━┳━━━━━━━━━━━━━━━━━━━━━━━━┳━━━━━━━━━━━━━━━┓\n",
              "┃<span style=\"font-weight: bold\"> Layer (type)                    </span>┃<span style=\"font-weight: bold\"> Output Shape           </span>┃<span style=\"font-weight: bold\">       Param # </span>┃\n",
              "┡━━━━━━━━━━━━━━━━━━━━━━━━━━━━━━━━━╇━━━━━━━━━━━━━━━━━━━━━━━━╇━━━━━━━━━━━━━━━┩\n",
              "│ input_layer_8 (<span style=\"color: #0087ff; text-decoration-color: #0087ff\">InputLayer</span>)      │ (<span style=\"color: #00d7ff; text-decoration-color: #00d7ff\">None</span>, <span style=\"color: #00af00; text-decoration-color: #00af00\">1</span>)              │             <span style=\"color: #00af00; text-decoration-color: #00af00\">0</span> │\n",
              "├─────────────────────────────────┼────────────────────────┼───────────────┤\n",
              "│ text_vectorization_3            │ (<span style=\"color: #00d7ff; text-decoration-color: #00d7ff\">None</span>, <span style=\"color: #00af00; text-decoration-color: #00af00\">15</span>)             │             <span style=\"color: #00af00; text-decoration-color: #00af00\">0</span> │\n",
              "│ (<span style=\"color: #0087ff; text-decoration-color: #0087ff\">TextVectorization</span>)             │                        │               │\n",
              "├─────────────────────────────────┼────────────────────────┼───────────────┤\n",
              "│ embedding_1 (<span style=\"color: #0087ff; text-decoration-color: #0087ff\">Embedding</span>)         │ (<span style=\"color: #00d7ff; text-decoration-color: #00d7ff\">None</span>, <span style=\"color: #00af00; text-decoration-color: #00af00\">15</span>, <span style=\"color: #00af00; text-decoration-color: #00af00\">128</span>)        │     <span style=\"color: #00af00; text-decoration-color: #00af00\">1,280,000</span> │\n",
              "├─────────────────────────────────┼────────────────────────┼───────────────┤\n",
              "│ bidirectional_1 (<span style=\"color: #0087ff; text-decoration-color: #0087ff\">Bidirectional</span>) │ (<span style=\"color: #00d7ff; text-decoration-color: #00d7ff\">None</span>, <span style=\"color: #00af00; text-decoration-color: #00af00\">128</span>)            │        <span style=\"color: #00af00; text-decoration-color: #00af00\">98,816</span> │\n",
              "├─────────────────────────────────┼────────────────────────┼───────────────┤\n",
              "│ dense_8 (<span style=\"color: #0087ff; text-decoration-color: #0087ff\">Dense</span>)                 │ (<span style=\"color: #00d7ff; text-decoration-color: #00d7ff\">None</span>, <span style=\"color: #00af00; text-decoration-color: #00af00\">1</span>)              │           <span style=\"color: #00af00; text-decoration-color: #00af00\">129</span> │\n",
              "└─────────────────────────────────┴────────────────────────┴───────────────┘\n",
              "</pre>\n"
            ]
          },
          "metadata": {}
        },
        {
          "output_type": "display_data",
          "data": {
            "text/plain": [
              "\u001b[1m Total params: \u001b[0m\u001b[38;5;34m1,378,945\u001b[0m (5.26 MB)\n"
            ],
            "text/html": [
              "<pre style=\"white-space:pre;overflow-x:auto;line-height:normal;font-family:Menlo,'DejaVu Sans Mono',consolas,'Courier New',monospace\"><span style=\"font-weight: bold\"> Total params: </span><span style=\"color: #00af00; text-decoration-color: #00af00\">1,378,945</span> (5.26 MB)\n",
              "</pre>\n"
            ]
          },
          "metadata": {}
        },
        {
          "output_type": "display_data",
          "data": {
            "text/plain": [
              "\u001b[1m Trainable params: \u001b[0m\u001b[38;5;34m1,378,945\u001b[0m (5.26 MB)\n"
            ],
            "text/html": [
              "<pre style=\"white-space:pre;overflow-x:auto;line-height:normal;font-family:Menlo,'DejaVu Sans Mono',consolas,'Courier New',monospace\"><span style=\"font-weight: bold\"> Trainable params: </span><span style=\"color: #00af00; text-decoration-color: #00af00\">1,378,945</span> (5.26 MB)\n",
              "</pre>\n"
            ]
          },
          "metadata": {}
        },
        {
          "output_type": "display_data",
          "data": {
            "text/plain": [
              "\u001b[1m Non-trainable params: \u001b[0m\u001b[38;5;34m0\u001b[0m (0.00 B)\n"
            ],
            "text/html": [
              "<pre style=\"white-space:pre;overflow-x:auto;line-height:normal;font-family:Menlo,'DejaVu Sans Mono',consolas,'Courier New',monospace\"><span style=\"font-weight: bold\"> Non-trainable params: </span><span style=\"color: #00af00; text-decoration-color: #00af00\">0</span> (0.00 B)\n",
              "</pre>\n"
            ]
          },
          "metadata": {}
        }
      ]
    },
    {
      "cell_type": "code",
      "source": [
        "# Compile model\n",
        "model_4.compile(loss=\"binary_crossentropy\",\n",
        "                optimizer=tf.keras.optimizers.Adam(),\n",
        "                metrics=[\"accuracy\"])"
      ],
      "metadata": {
        "id": "drjs1ZfwmA5u"
      },
      "execution_count": 194,
      "outputs": []
    },
    {
      "cell_type": "code",
      "source": [
        "# Fit the model\n",
        "model_4_history = model_4.fit(train_sentences,\n",
        "                              train_labels,\n",
        "                              epochs=5,\n",
        "                              validation_data=(val_sentences, val_labels),\n",
        "                              callbacks=[create_tensorboard_callback(SAVE_DIR,\n",
        "                                                                     \"model_4_bidirectional\")])"
      ],
      "metadata": {
        "colab": {
          "base_uri": "https://localhost:8080/"
        },
        "id": "Fyr0JR88mP-u",
        "outputId": "bd3054f1-f60b-49d9-86af-5a960ef7280e"
      },
      "execution_count": 195,
      "outputs": [
        {
          "output_type": "stream",
          "name": "stdout",
          "text": [
            "Saving TensorBoard log files to: model_logs/model_4_bidirectional/20250822-175943\n",
            "Epoch 1/5\n",
            "\u001b[1m215/215\u001b[0m \u001b[32m━━━━━━━━━━━━━━━━━━━━\u001b[0m\u001b[37m\u001b[0m \u001b[1m13s\u001b[0m 39ms/step - accuracy: 0.9642 - loss: 0.1873 - val_accuracy: 0.7717 - val_loss: 0.9579\n",
            "Epoch 2/5\n",
            "\u001b[1m215/215\u001b[0m \u001b[32m━━━━━━━━━━━━━━━━━━━━\u001b[0m\u001b[37m\u001b[0m \u001b[1m9s\u001b[0m 44ms/step - accuracy: 0.9796 - loss: 0.0499 - val_accuracy: 0.7625 - val_loss: 0.9949\n",
            "Epoch 3/5\n",
            "\u001b[1m215/215\u001b[0m \u001b[32m━━━━━━━━━━━━━━━━━━━━\u001b[0m\u001b[37m\u001b[0m \u001b[1m10s\u001b[0m 42ms/step - accuracy: 0.9801 - loss: 0.0454 - val_accuracy: 0.7690 - val_loss: 1.2190\n",
            "Epoch 4/5\n",
            "\u001b[1m215/215\u001b[0m \u001b[32m━━━━━━━━━━━━━━━━━━━━\u001b[0m\u001b[37m\u001b[0m \u001b[1m8s\u001b[0m 39ms/step - accuracy: 0.9803 - loss: 0.0420 - val_accuracy: 0.7756 - val_loss: 1.5323\n",
            "Epoch 5/5\n",
            "\u001b[1m215/215\u001b[0m \u001b[32m━━━━━━━━━━━━━━━━━━━━\u001b[0m\u001b[37m\u001b[0m \u001b[1m8s\u001b[0m 36ms/step - accuracy: 0.9798 - loss: 0.0419 - val_accuracy: 0.7756 - val_loss: 1.1791\n"
          ]
        }
      ]
    },
    {
      "cell_type": "code",
      "source": [
        "# Make predictions with our bidirectional model\n",
        "model_4_pred_probs = model_4.predict(val_sentences)\n",
        "model_4_pred_probs[:10]"
      ],
      "metadata": {
        "colab": {
          "base_uri": "https://localhost:8080/"
        },
        "id": "flirTFEjmtIe",
        "outputId": "ff623b0b-2e91-4823-e83b-b4495835a521"
      },
      "execution_count": 196,
      "outputs": [
        {
          "output_type": "stream",
          "name": "stdout",
          "text": [
            "\u001b[1m24/24\u001b[0m \u001b[32m━━━━━━━━━━━━━━━━━━━━\u001b[0m\u001b[37m\u001b[0m \u001b[1m1s\u001b[0m 32ms/step\n"
          ]
        },
        {
          "output_type": "execute_result",
          "data": {
            "text/plain": [
              "array([[9.0310453e-03],\n",
              "       [6.7094457e-01],\n",
              "       [9.9984431e-01],\n",
              "       [2.7431005e-01],\n",
              "       [3.0991185e-05],\n",
              "       [9.9901682e-01],\n",
              "       [8.6872703e-01],\n",
              "       [9.9991566e-01],\n",
              "       [9.9981129e-01],\n",
              "       [8.4186405e-01]], dtype=float32)"
            ]
          },
          "metadata": {},
          "execution_count": 196
        }
      ]
    },
    {
      "cell_type": "code",
      "source": [
        "# Convert pred probs to pred labels\n",
        "model_4_preds = tf.squeeze(tf.round(model_4_pred_probs))\n",
        "model_4_preds[:10]"
      ],
      "metadata": {
        "colab": {
          "base_uri": "https://localhost:8080/"
        },
        "id": "6D376Zm4nFiU",
        "outputId": "a6fc6228-0d08-413d-c3a0-89104cdc0405"
      },
      "execution_count": 197,
      "outputs": [
        {
          "output_type": "execute_result",
          "data": {
            "text/plain": [
              "<tf.Tensor: shape=(10,), dtype=float32, numpy=array([0., 1., 1., 0., 0., 1., 1., 1., 1., 1.], dtype=float32)>"
            ]
          },
          "metadata": {},
          "execution_count": 197
        }
      ]
    },
    {
      "cell_type": "code",
      "source": [
        "# Calculate the results of our bidirectional model\n",
        "model_4_results = calculate_results(y_true=val_labels,\n",
        "                                    y_pred=model_4_preds)\n",
        "model_4_results"
      ],
      "metadata": {
        "colab": {
          "base_uri": "https://localhost:8080/"
        },
        "id": "ZqyFQKTqnS8q",
        "outputId": "c935a86a-6a36-46e7-e09f-7270f6bf256d"
      },
      "execution_count": 198,
      "outputs": [
        {
          "output_type": "execute_result",
          "data": {
            "text/plain": [
              "{'accuracy': 77.55905511811024,\n",
              " 'precision': 0.7774694686899193,\n",
              " 'recall': 0.7755905511811023,\n",
              " 'f1': 0.7734917819402004}"
            ]
          },
          "metadata": {},
          "execution_count": 198
        }
      ]
    },
    {
      "cell_type": "code",
      "source": [
        "np.array(list(model_4_results.values())) > np.array(list(baseline_results.values()))"
      ],
      "metadata": {
        "colab": {
          "base_uri": "https://localhost:8080/"
        },
        "id": "QzLhQP-vno2A",
        "outputId": "5e3d3f47-c92d-4ad8-da75-07ea3b6f4ed1"
      },
      "execution_count": 199,
      "outputs": [
        {
          "output_type": "execute_result",
          "data": {
            "text/plain": [
              "array([False, False, False, False])"
            ]
          },
          "metadata": {},
          "execution_count": 199
        }
      ]
    },
    {
      "cell_type": "code",
      "source": [
        "import pandas as pd\n",
        "\n",
        "results = [baseline_results, model_1_results, model_2_results, model_3_results]\n",
        "\n",
        "df = pd.DataFrame(results, index=[\"baseline_results\", \"model_1_results\", \"model_2_results\", \"model_3_results\"])\n",
        "\n",
        "# Highlight maximum values in each column\n",
        "styled_df = df.style.highlight_max(axis=0, color=\"lightgreen\").format(\"{:.4f}\")\n",
        "\n",
        "styled_df"
      ],
      "metadata": {
        "colab": {
          "base_uri": "https://localhost:8080/",
          "height": 175
        },
        "id": "d-Qak-1Jpp3k",
        "outputId": "1a431c73-e836-4ec7-fb0d-45a85e006c21"
      },
      "execution_count": 200,
      "outputs": [
        {
          "output_type": "execute_result",
          "data": {
            "text/plain": [
              "<pandas.io.formats.style.Styler at 0x7da127ee3ec0>"
            ],
            "text/html": [
              "<style type=\"text/css\">\n",
              "#T_b651a_row0_col0, #T_b651a_row0_col1, #T_b651a_row0_col2, #T_b651a_row0_col3 {\n",
              "  background-color: lightgreen;\n",
              "}\n",
              "</style>\n",
              "<table id=\"T_b651a\" class=\"dataframe\">\n",
              "  <thead>\n",
              "    <tr>\n",
              "      <th class=\"blank level0\" >&nbsp;</th>\n",
              "      <th id=\"T_b651a_level0_col0\" class=\"col_heading level0 col0\" >accuracy</th>\n",
              "      <th id=\"T_b651a_level0_col1\" class=\"col_heading level0 col1\" >precision</th>\n",
              "      <th id=\"T_b651a_level0_col2\" class=\"col_heading level0 col2\" >recall</th>\n",
              "      <th id=\"T_b651a_level0_col3\" class=\"col_heading level0 col3\" >f1</th>\n",
              "    </tr>\n",
              "  </thead>\n",
              "  <tbody>\n",
              "    <tr>\n",
              "      <th id=\"T_b651a_level0_row0\" class=\"row_heading level0 row0\" >baseline_results</th>\n",
              "      <td id=\"T_b651a_row0_col0\" class=\"data row0 col0\" >79.2651</td>\n",
              "      <td id=\"T_b651a_row0_col1\" class=\"data row0 col1\" >0.8111</td>\n",
              "      <td id=\"T_b651a_row0_col2\" class=\"data row0 col2\" >0.7927</td>\n",
              "      <td id=\"T_b651a_row0_col3\" class=\"data row0 col3\" >0.7862</td>\n",
              "    </tr>\n",
              "    <tr>\n",
              "      <th id=\"T_b651a_level0_row1\" class=\"row_heading level0 row1\" >model_1_results</th>\n",
              "      <td id=\"T_b651a_row1_col0\" class=\"data row1 col0\" >78.8714</td>\n",
              "      <td id=\"T_b651a_row1_col1\" class=\"data row1 col1\" >0.7975</td>\n",
              "      <td id=\"T_b651a_row1_col2\" class=\"data row1 col2\" >0.7887</td>\n",
              "      <td id=\"T_b651a_row1_col3\" class=\"data row1 col3\" >0.7846</td>\n",
              "    </tr>\n",
              "    <tr>\n",
              "      <th id=\"T_b651a_level0_row2\" class=\"row_heading level0 row2\" >model_2_results</th>\n",
              "      <td id=\"T_b651a_row2_col0\" class=\"data row2 col0\" >78.2152</td>\n",
              "      <td id=\"T_b651a_row2_col1\" class=\"data row2 col1\" >0.7831</td>\n",
              "      <td id=\"T_b651a_row2_col2\" class=\"data row2 col2\" >0.7822</td>\n",
              "      <td id=\"T_b651a_row2_col3\" class=\"data row2 col3\" >0.7806</td>\n",
              "    </tr>\n",
              "    <tr>\n",
              "      <th id=\"T_b651a_level0_row3\" class=\"row_heading level0 row3\" >model_3_results</th>\n",
              "      <td id=\"T_b651a_row3_col0\" class=\"data row3 col0\" >76.7717</td>\n",
              "      <td id=\"T_b651a_row3_col1\" class=\"data row3 col1\" >0.7674</td>\n",
              "      <td id=\"T_b651a_row3_col2\" class=\"data row3 col2\" >0.7677</td>\n",
              "      <td id=\"T_b651a_row3_col3\" class=\"data row3 col3\" >0.7671</td>\n",
              "    </tr>\n",
              "  </tbody>\n",
              "</table>\n"
            ]
          },
          "metadata": {},
          "execution_count": 200
        }
      ]
    },
    {
      "cell_type": "markdown",
      "source": [
        "## Convolution Neural Networks for Text (and other types of sequences)\n",
        "\n",
        "\n",
        "We've used CNNs for images but images are typically 2D (height x width). However, our text data is 1D.\n",
        "\n",
        "The typical structure of a Conv1D model for sequences:\n",
        "```\n",
        "Inputs (text) -> Tokenization -> Embedding -> Layer(s) (typically Conv1D + pooling) -> Outputs (class probabilities)\n",
        "```\n",
        "\n",
        "For more information: https://www.tensorflow.org/api_docs/python/tf/keras/layers/Conv1D"
      ],
      "metadata": {
        "id": "lcSG4aDVLtuE"
      }
    },
    {
      "cell_type": "markdown",
      "source": [
        "### Model 5: Conv1D\n",
        "\n",
        "For different explanations of parameters see:\n",
        "* This is for 2D but can relate to 1D data: https://poloclub.github.io/cnn-explainer/\n",
        "* Difference between \"same\" and \"valid\" padding: https://stackoverflow.com/questions/37674306/what-is-the-difference-between-same-and-valid-padding-in-tf-nn-max-pool-of-t\n",
        "\n",
        "> Extra Note: What `relu` does: https://ml-cheatsheet.readthedocs.io/en/latest/activation_functions.html"
      ],
      "metadata": {
        "id": "f-NkzLTcP5ok"
      }
    },
    {
      "cell_type": "code",
      "source": [
        "# Test out our embedding layer, Conv1D layer and max pooling\n",
        "from tensorflow.keras import layers\n",
        "embedding_test = embedding(text_vectorizer([\"this is a test sentence\"])) # turn target sequence into embedding\n",
        "conv_1d = layers.Conv1D(filters=32,\n",
        "                        kernel_size=5, # this is also referred to as an ngram of 5 (meaning it looks at 5 words at a time)\n",
        "                        strides=1, # default\n",
        "                        activation=\"relu\",\n",
        "                        padding=\"valid\") # default = \"valid\", the output is smaller than the input shape, \"same\" means output is same shape as input\n",
        "conv_1d_output = conv_1d(embedding_test) # pass text embedding through conv1d layer\n",
        "max_pool = layers.GlobalMaxPool1D() # we used conv1d layer thats why maxpool1d, if it is conv2d we'll used maxpool2d\n",
        "max_pool_output = max_pool(conv_1d_output) # equivalent to \"get the most important feature\" or \"get the feature with the highest value\"\n",
        "\n",
        "embedding_test.shape, conv_1d_output.shape, max_pool_output.shape"
      ],
      "metadata": {
        "colab": {
          "base_uri": "https://localhost:8080/"
        },
        "id": "9iNYQexKQA-z",
        "outputId": "b9f3ba24-bb2f-4d38-dc10-c83182768e08"
      },
      "execution_count": 201,
      "outputs": [
        {
          "output_type": "execute_result",
          "data": {
            "text/plain": [
              "(TensorShape([1, 15, 128]), TensorShape([1, 11, 32]), TensorShape([1, 32]))"
            ]
          },
          "metadata": {},
          "execution_count": 201
        }
      ]
    },
    {
      "cell_type": "code",
      "source": [
        "# embedding_test"
      ],
      "metadata": {
        "id": "aQ-wsaX1WRAe"
      },
      "execution_count": 202,
      "outputs": []
    },
    {
      "cell_type": "code",
      "source": [
        "# conv_1d_output"
      ],
      "metadata": {
        "id": "-QpS6k2rWasi"
      },
      "execution_count": 203,
      "outputs": []
    },
    {
      "cell_type": "code",
      "source": [
        "# max_pool_output"
      ],
      "metadata": {
        "id": "8zZw6EvuWt8W"
      },
      "execution_count": 204,
      "outputs": []
    },
    {
      "cell_type": "code",
      "source": [
        "# Create 1-dimensional convolutional layer to model sequences\n",
        "from tensorflow.keras import layers\n",
        "inputs = layers.Input(shape=(1,), dtype=\"string\")\n",
        "x = text_vectorizer(inputs)\n",
        "x = embedding(x)\n",
        "x = layers.Conv1D(filters=64, kernel_size=5, strides=1, activation=\"relu\", padding=\"valid\")(x)\n",
        "x = layers.GlobalMaxPool1D()(x)\n",
        "# x = layers.Dense(64, activation=\"relu\")(x)\n",
        "outputs = layers.Dense(1, activation=\"sigmoid\")(x)\n",
        "model_5 = tf.keras.Model(inputs, outputs, name=\"model_5_Conv1D\")\n",
        "\n",
        "# Compile Conv1D\n",
        "model_5.compile(loss=\"binary_crossentropy\",\n",
        "                optimizer=tf.keras.optimizers.Adam(),\n",
        "                metrics=[\"accuracy\"])\n",
        "\n",
        "# Get a summary of our model\n",
        "model_5.summary()"
      ],
      "metadata": {
        "colab": {
          "base_uri": "https://localhost:8080/",
          "height": 353
        },
        "id": "IZ-xYEN5tpwF",
        "outputId": "14cfa3c8-0a9b-478d-dbec-7ee093946f40"
      },
      "execution_count": 205,
      "outputs": [
        {
          "output_type": "display_data",
          "data": {
            "text/plain": [
              "\u001b[1mModel: \"model_5_Conv1D\"\u001b[0m\n"
            ],
            "text/html": [
              "<pre style=\"white-space:pre;overflow-x:auto;line-height:normal;font-family:Menlo,'DejaVu Sans Mono',consolas,'Courier New',monospace\"><span style=\"font-weight: bold\">Model: \"model_5_Conv1D\"</span>\n",
              "</pre>\n"
            ]
          },
          "metadata": {}
        },
        {
          "output_type": "display_data",
          "data": {
            "text/plain": [
              "┏━━━━━━━━━━━━━━━━━━━━━━━━━━━━━━━━━┳━━━━━━━━━━━━━━━━━━━━━━━━┳━━━━━━━━━━━━━━━┓\n",
              "┃\u001b[1m \u001b[0m\u001b[1mLayer (type)                   \u001b[0m\u001b[1m \u001b[0m┃\u001b[1m \u001b[0m\u001b[1mOutput Shape          \u001b[0m\u001b[1m \u001b[0m┃\u001b[1m \u001b[0m\u001b[1m      Param #\u001b[0m\u001b[1m \u001b[0m┃\n",
              "┡━━━━━━━━━━━━━━━━━━━━━━━━━━━━━━━━━╇━━━━━━━━━━━━━━━━━━━━━━━━╇━━━━━━━━━━━━━━━┩\n",
              "│ input_layer_9 (\u001b[38;5;33mInputLayer\u001b[0m)      │ (\u001b[38;5;45mNone\u001b[0m, \u001b[38;5;34m1\u001b[0m)              │             \u001b[38;5;34m0\u001b[0m │\n",
              "├─────────────────────────────────┼────────────────────────┼───────────────┤\n",
              "│ text_vectorization_3            │ (\u001b[38;5;45mNone\u001b[0m, \u001b[38;5;34m15\u001b[0m)             │             \u001b[38;5;34m0\u001b[0m │\n",
              "│ (\u001b[38;5;33mTextVectorization\u001b[0m)             │                        │               │\n",
              "├─────────────────────────────────┼────────────────────────┼───────────────┤\n",
              "│ embedding_1 (\u001b[38;5;33mEmbedding\u001b[0m)         │ (\u001b[38;5;45mNone\u001b[0m, \u001b[38;5;34m15\u001b[0m, \u001b[38;5;34m128\u001b[0m)        │     \u001b[38;5;34m1,280,000\u001b[0m │\n",
              "├─────────────────────────────────┼────────────────────────┼───────────────┤\n",
              "│ conv1d_3 (\u001b[38;5;33mConv1D\u001b[0m)               │ (\u001b[38;5;45mNone\u001b[0m, \u001b[38;5;34m11\u001b[0m, \u001b[38;5;34m64\u001b[0m)         │        \u001b[38;5;34m41,024\u001b[0m │\n",
              "├─────────────────────────────────┼────────────────────────┼───────────────┤\n",
              "│ global_max_pooling1d_3          │ (\u001b[38;5;45mNone\u001b[0m, \u001b[38;5;34m64\u001b[0m)             │             \u001b[38;5;34m0\u001b[0m │\n",
              "│ (\u001b[38;5;33mGlobalMaxPooling1D\u001b[0m)            │                        │               │\n",
              "├─────────────────────────────────┼────────────────────────┼───────────────┤\n",
              "│ dense_9 (\u001b[38;5;33mDense\u001b[0m)                 │ (\u001b[38;5;45mNone\u001b[0m, \u001b[38;5;34m1\u001b[0m)              │            \u001b[38;5;34m65\u001b[0m │\n",
              "└─────────────────────────────────┴────────────────────────┴───────────────┘\n"
            ],
            "text/html": [
              "<pre style=\"white-space:pre;overflow-x:auto;line-height:normal;font-family:Menlo,'DejaVu Sans Mono',consolas,'Courier New',monospace\">┏━━━━━━━━━━━━━━━━━━━━━━━━━━━━━━━━━┳━━━━━━━━━━━━━━━━━━━━━━━━┳━━━━━━━━━━━━━━━┓\n",
              "┃<span style=\"font-weight: bold\"> Layer (type)                    </span>┃<span style=\"font-weight: bold\"> Output Shape           </span>┃<span style=\"font-weight: bold\">       Param # </span>┃\n",
              "┡━━━━━━━━━━━━━━━━━━━━━━━━━━━━━━━━━╇━━━━━━━━━━━━━━━━━━━━━━━━╇━━━━━━━━━━━━━━━┩\n",
              "│ input_layer_9 (<span style=\"color: #0087ff; text-decoration-color: #0087ff\">InputLayer</span>)      │ (<span style=\"color: #00d7ff; text-decoration-color: #00d7ff\">None</span>, <span style=\"color: #00af00; text-decoration-color: #00af00\">1</span>)              │             <span style=\"color: #00af00; text-decoration-color: #00af00\">0</span> │\n",
              "├─────────────────────────────────┼────────────────────────┼───────────────┤\n",
              "│ text_vectorization_3            │ (<span style=\"color: #00d7ff; text-decoration-color: #00d7ff\">None</span>, <span style=\"color: #00af00; text-decoration-color: #00af00\">15</span>)             │             <span style=\"color: #00af00; text-decoration-color: #00af00\">0</span> │\n",
              "│ (<span style=\"color: #0087ff; text-decoration-color: #0087ff\">TextVectorization</span>)             │                        │               │\n",
              "├─────────────────────────────────┼────────────────────────┼───────────────┤\n",
              "│ embedding_1 (<span style=\"color: #0087ff; text-decoration-color: #0087ff\">Embedding</span>)         │ (<span style=\"color: #00d7ff; text-decoration-color: #00d7ff\">None</span>, <span style=\"color: #00af00; text-decoration-color: #00af00\">15</span>, <span style=\"color: #00af00; text-decoration-color: #00af00\">128</span>)        │     <span style=\"color: #00af00; text-decoration-color: #00af00\">1,280,000</span> │\n",
              "├─────────────────────────────────┼────────────────────────┼───────────────┤\n",
              "│ conv1d_3 (<span style=\"color: #0087ff; text-decoration-color: #0087ff\">Conv1D</span>)               │ (<span style=\"color: #00d7ff; text-decoration-color: #00d7ff\">None</span>, <span style=\"color: #00af00; text-decoration-color: #00af00\">11</span>, <span style=\"color: #00af00; text-decoration-color: #00af00\">64</span>)         │        <span style=\"color: #00af00; text-decoration-color: #00af00\">41,024</span> │\n",
              "├─────────────────────────────────┼────────────────────────┼───────────────┤\n",
              "│ global_max_pooling1d_3          │ (<span style=\"color: #00d7ff; text-decoration-color: #00d7ff\">None</span>, <span style=\"color: #00af00; text-decoration-color: #00af00\">64</span>)             │             <span style=\"color: #00af00; text-decoration-color: #00af00\">0</span> │\n",
              "│ (<span style=\"color: #0087ff; text-decoration-color: #0087ff\">GlobalMaxPooling1D</span>)            │                        │               │\n",
              "├─────────────────────────────────┼────────────────────────┼───────────────┤\n",
              "│ dense_9 (<span style=\"color: #0087ff; text-decoration-color: #0087ff\">Dense</span>)                 │ (<span style=\"color: #00d7ff; text-decoration-color: #00d7ff\">None</span>, <span style=\"color: #00af00; text-decoration-color: #00af00\">1</span>)              │            <span style=\"color: #00af00; text-decoration-color: #00af00\">65</span> │\n",
              "└─────────────────────────────────┴────────────────────────┴───────────────┘\n",
              "</pre>\n"
            ]
          },
          "metadata": {}
        },
        {
          "output_type": "display_data",
          "data": {
            "text/plain": [
              "\u001b[1m Total params: \u001b[0m\u001b[38;5;34m1,321,089\u001b[0m (5.04 MB)\n"
            ],
            "text/html": [
              "<pre style=\"white-space:pre;overflow-x:auto;line-height:normal;font-family:Menlo,'DejaVu Sans Mono',consolas,'Courier New',monospace\"><span style=\"font-weight: bold\"> Total params: </span><span style=\"color: #00af00; text-decoration-color: #00af00\">1,321,089</span> (5.04 MB)\n",
              "</pre>\n"
            ]
          },
          "metadata": {}
        },
        {
          "output_type": "display_data",
          "data": {
            "text/plain": [
              "\u001b[1m Trainable params: \u001b[0m\u001b[38;5;34m1,321,089\u001b[0m (5.04 MB)\n"
            ],
            "text/html": [
              "<pre style=\"white-space:pre;overflow-x:auto;line-height:normal;font-family:Menlo,'DejaVu Sans Mono',consolas,'Courier New',monospace\"><span style=\"font-weight: bold\"> Trainable params: </span><span style=\"color: #00af00; text-decoration-color: #00af00\">1,321,089</span> (5.04 MB)\n",
              "</pre>\n"
            ]
          },
          "metadata": {}
        },
        {
          "output_type": "display_data",
          "data": {
            "text/plain": [
              "\u001b[1m Non-trainable params: \u001b[0m\u001b[38;5;34m0\u001b[0m (0.00 B)\n"
            ],
            "text/html": [
              "<pre style=\"white-space:pre;overflow-x:auto;line-height:normal;font-family:Menlo,'DejaVu Sans Mono',consolas,'Courier New',monospace\"><span style=\"font-weight: bold\"> Non-trainable params: </span><span style=\"color: #00af00; text-decoration-color: #00af00\">0</span> (0.00 B)\n",
              "</pre>\n"
            ]
          },
          "metadata": {}
        }
      ]
    },
    {
      "cell_type": "code",
      "source": [
        "# Fit the model\n",
        "model_5_history = model_5.fit(train_sentences,\n",
        "                              train_labels,\n",
        "                              epochs=5,\n",
        "                              validation_data=(val_sentences, val_labels),\n",
        "                              callbacks=[create_tensorboard_callback(SAVE_DIR,\n",
        "                                                                     \"Conv1D\")])"
      ],
      "metadata": {
        "colab": {
          "base_uri": "https://localhost:8080/"
        },
        "id": "nPI_0g4ovqYW",
        "outputId": "a3069db2-166e-45af-98eb-045672141b61"
      },
      "execution_count": 206,
      "outputs": [
        {
          "output_type": "stream",
          "name": "stdout",
          "text": [
            "Saving TensorBoard log files to: model_logs/Conv1D/20250822-180035\n",
            "Epoch 1/5\n",
            "\u001b[1m215/215\u001b[0m \u001b[32m━━━━━━━━━━━━━━━━━━━━\u001b[0m\u001b[37m\u001b[0m \u001b[1m6s\u001b[0m 20ms/step - accuracy: 0.9493 - loss: 0.1821 - val_accuracy: 0.7769 - val_loss: 0.8707\n",
            "Epoch 2/5\n",
            "\u001b[1m215/215\u001b[0m \u001b[32m━━━━━━━━━━━━━━━━━━━━\u001b[0m\u001b[37m\u001b[0m \u001b[1m4s\u001b[0m 20ms/step - accuracy: 0.9723 - loss: 0.0776 - val_accuracy: 0.7651 - val_loss: 1.0427\n",
            "Epoch 3/5\n",
            "\u001b[1m215/215\u001b[0m \u001b[32m━━━━━━━━━━━━━━━━━━━━\u001b[0m\u001b[37m\u001b[0m \u001b[1m6s\u001b[0m 24ms/step - accuracy: 0.9769 - loss: 0.0596 - val_accuracy: 0.7598 - val_loss: 1.1376\n",
            "Epoch 4/5\n",
            "\u001b[1m215/215\u001b[0m \u001b[32m━━━━━━━━━━━━━━━━━━━━\u001b[0m\u001b[37m\u001b[0m \u001b[1m4s\u001b[0m 20ms/step - accuracy: 0.9802 - loss: 0.0498 - val_accuracy: 0.7533 - val_loss: 1.1617\n",
            "Epoch 5/5\n",
            "\u001b[1m215/215\u001b[0m \u001b[32m━━━━━━━━━━━━━━━━━━━━\u001b[0m\u001b[37m\u001b[0m \u001b[1m6s\u001b[0m 23ms/step - accuracy: 0.9819 - loss: 0.0439 - val_accuracy: 0.7638 - val_loss: 1.1899\n"
          ]
        }
      ]
    },
    {
      "cell_type": "code",
      "source": [
        "# Make some predictions with our Conv1D model\n",
        "model_5_pred_probs = model_5.predict(val_sentences)\n",
        "model_5_pred_probs[:10]"
      ],
      "metadata": {
        "colab": {
          "base_uri": "https://localhost:8080/"
        },
        "id": "lW1ONl19wJNw",
        "outputId": "dedb58e8-af56-4c34-ee71-b718becfd098"
      },
      "execution_count": 207,
      "outputs": [
        {
          "output_type": "stream",
          "name": "stdout",
          "text": [
            "\u001b[1m24/24\u001b[0m \u001b[32m━━━━━━━━━━━━━━━━━━━━\u001b[0m\u001b[37m\u001b[0m \u001b[1m1s\u001b[0m 17ms/step\n"
          ]
        },
        {
          "output_type": "execute_result",
          "data": {
            "text/plain": [
              "array([[8.79110768e-02],\n",
              "       [5.78127980e-01],\n",
              "       [9.99845326e-01],\n",
              "       [7.08012357e-02],\n",
              "       [1.10469955e-07],\n",
              "       [9.94009852e-01],\n",
              "       [9.77565169e-01],\n",
              "       [9.99989629e-01],\n",
              "       [9.99997914e-01],\n",
              "       [9.40277159e-01]], dtype=float32)"
            ]
          },
          "metadata": {},
          "execution_count": 207
        }
      ]
    },
    {
      "cell_type": "code",
      "source": [
        "# Convert model_5 pred probs to labels\n",
        "model_5_preds = tf.squeeze(tf.round(model_5_pred_probs))\n",
        "model_5_preds[:10]"
      ],
      "metadata": {
        "colab": {
          "base_uri": "https://localhost:8080/"
        },
        "id": "_c_677TqwZXI",
        "outputId": "cae33e3d-6c36-4f9e-cb26-f5f60c0a546e"
      },
      "execution_count": 208,
      "outputs": [
        {
          "output_type": "execute_result",
          "data": {
            "text/plain": [
              "<tf.Tensor: shape=(10,), dtype=float32, numpy=array([0., 1., 1., 0., 0., 1., 1., 1., 1., 1.], dtype=float32)>"
            ]
          },
          "metadata": {},
          "execution_count": 208
        }
      ]
    },
    {
      "cell_type": "code",
      "source": [
        "# Evaluate model_5 predictions\n",
        "model_5_results = calculate_results(y_true=val_labels,\n",
        "                                    y_pred=model_5_preds)\n",
        "model_5_results"
      ],
      "metadata": {
        "colab": {
          "base_uri": "https://localhost:8080/"
        },
        "id": "8x4n20hZwoiz",
        "outputId": "214e1017-f7ea-404d-f259-8e9e6b2b72a3"
      },
      "execution_count": 209,
      "outputs": [
        {
          "output_type": "execute_result",
          "data": {
            "text/plain": [
              "{'accuracy': 76.37795275590551,\n",
              " 'precision': 0.7639261289761722,\n",
              " 'recall': 0.7637795275590551,\n",
              " 'f1': 0.7624822674694383}"
            ]
          },
          "metadata": {},
          "execution_count": 209
        }
      ]
    },
    {
      "cell_type": "code",
      "source": [
        "# Compare the results with the baseline_model\n",
        "np.array(list(model_5_results.values())) > np.array(list(baseline_results.values()))"
      ],
      "metadata": {
        "colab": {
          "base_uri": "https://localhost:8080/"
        },
        "id": "SMiLNUdlw6jK",
        "outputId": "af39e188-5432-467e-e47a-c98cf4f52a0f"
      },
      "execution_count": 210,
      "outputs": [
        {
          "output_type": "execute_result",
          "data": {
            "text/plain": [
              "array([False, False, False, False])"
            ]
          },
          "metadata": {},
          "execution_count": 210
        }
      ]
    },
    {
      "cell_type": "markdown",
      "source": [
        "## Model 6: TensorFlow Hub Pretrained Sentence Encoder\n",
        "\n",
        "Now we've built a few of our own models, let's try and use transfer learning for NLP, specifically using TensorFlow Hub's Universal Sentence Encoder: https://www.kaggle.com/models/google/universal-sentence-encoder/TensorFlow2/universal-sentence-encoder/2\n",
        "\n",
        "A good resource: https://www.kaggle.com/code/anantjain1223/universal-sentence-encoder"
      ],
      "metadata": {
        "id": "CasTEh0z1Ggj"
      }
    },
    {
      "cell_type": "code",
      "source": [
        "import tensorflow_hub as hub\n",
        "embed = hub.KerasLayer(\"https://www.kaggle.com/models/google/universal-sentence-encoder/TensorFlow2/universal-sentence-encoder/2\")\n",
        "embed_samples = embed([sample_sentence,\n",
        "                       \"When you implement the universal sentence encoder on a sentence, it turns it into numbers.\"])\n",
        "print(embed_samples[0][:50])"
      ],
      "metadata": {
        "colab": {
          "base_uri": "https://localhost:8080/"
        },
        "id": "T8TRHBoMkQ1O",
        "outputId": "3f7345d6-9249-4ca8-f137-050ed569df04"
      },
      "execution_count": 211,
      "outputs": [
        {
          "output_type": "stream",
          "name": "stdout",
          "text": [
            "tf.Tensor(\n",
            "[-0.01157025  0.02485911  0.02878051 -0.012715    0.03971541  0.08827761\n",
            "  0.02680988  0.05589838 -0.01068731 -0.00597293  0.00639321 -0.01819516\n",
            "  0.00030816  0.09105889  0.05874645 -0.03180629  0.01512474 -0.05162925\n",
            "  0.00991366 -0.06865345 -0.04209306  0.0267898   0.03011009  0.00321065\n",
            " -0.00337968 -0.04787356  0.0226672  -0.00985927 -0.04063615 -0.01292093\n",
            " -0.04666382  0.05630299 -0.03949255  0.00517682  0.02495827 -0.07014439\n",
            "  0.0287151   0.0494768  -0.00633978 -0.08960193  0.02807119 -0.00808364\n",
            " -0.01360601  0.05998649 -0.10361788 -0.05195372  0.00232958 -0.02332531\n",
            " -0.03758106  0.03327729], shape=(50,), dtype=float32)\n"
          ]
        }
      ]
    },
    {
      "cell_type": "code",
      "source": [
        "embed_samples[0].shape"
      ],
      "metadata": {
        "colab": {
          "base_uri": "https://localhost:8080/"
        },
        "id": "IPkomfLdkwW7",
        "outputId": "0f7397fc-49ce-4868-bd2c-1aed44791120"
      },
      "execution_count": 212,
      "outputs": [
        {
          "output_type": "execute_result",
          "data": {
            "text/plain": [
              "TensorShape([512])"
            ]
          },
          "metadata": {},
          "execution_count": 212
        }
      ]
    },
    {
      "cell_type": "code",
      "source": [
        "# Create a Keras layer using the USE pretrained layer from tensorflow hub\n",
        "sentence_encoder_layer = hub.KerasLayer(\"https://www.kaggle.com/models/google/universal-sentence-encoder/TensorFlow2/universal-sentence-encoder/2\",\n",
        "                                        input_shape=[],\n",
        "                                        dtype=tf.string,\n",
        "                                        trainable=False,\n",
        "                                        name=\"USE\")"
      ],
      "metadata": {
        "id": "flufy8EtrXHb"
      },
      "execution_count": 213,
      "outputs": []
    },
    {
      "cell_type": "markdown",
      "source": [
        "**Custom wrapper layer so Sequential accepts it:** Use the code from [stackoverflow](https://stackoverflow.com/questions/78530756/error-only-instances-of-keras-layer-can-be-added-to-a-sequential-model) to solve the problem of Sequential accepting the layers from `hub.KerasLayer`"
      ],
      "metadata": {
        "id": "jE2FWlLoxwmH"
      }
    },
    {
      "cell_type": "code",
      "source": [
        "# Create model using the Sequential API\n",
        "import tf_keras\n",
        "\n",
        "model_6 = tf_keras.Sequential([\n",
        "  sentence_encoder_layer,\n",
        "  tf_keras.layers.Dense(64, activation=\"relu\"),\n",
        "  tf_keras.layers.Dense(1, activation=\"sigmoid\")\n",
        "], name=\"model_6_USE\")\n",
        "\n",
        "# Compile\n",
        "model_6.compile(loss=\"binary_crossentropy\",\n",
        "                optimizer=tf_keras.optimizers.Adam(),\n",
        "                metrics=[\"accuracy\"])\n",
        "\n",
        "model_6.summary()"
      ],
      "metadata": {
        "colab": {
          "base_uri": "https://localhost:8080/"
        },
        "id": "JVFpNNtKC5-i",
        "outputId": "884fc6e6-81e2-4dc1-e5d7-23803c1c955b"
      },
      "execution_count": 214,
      "outputs": [
        {
          "output_type": "stream",
          "name": "stdout",
          "text": [
            "Model: \"model_6_USE\"\n",
            "_________________________________________________________________\n",
            " Layer (type)                Output Shape              Param #   \n",
            "=================================================================\n",
            " USE (KerasLayer)            (None, 512)               256797824 \n",
            "                                                                 \n",
            " dense_3 (Dense)             (None, 64)                32832     \n",
            "                                                                 \n",
            " dense_4 (Dense)             (None, 1)                 65        \n",
            "                                                                 \n",
            "=================================================================\n",
            "Total params: 256830721 (979.73 MB)\n",
            "Trainable params: 32897 (128.50 KB)\n",
            "Non-trainable params: 256797824 (979.61 MB)\n",
            "_________________________________________________________________\n"
          ]
        }
      ]
    },
    {
      "cell_type": "markdown",
      "source": [
        "Because we are using `tf_keras` so we cannot use `create_tensorboard_callback` in callbacks. So we create a `tensorboard_callback` which is approprite for the `tf_keras`."
      ],
      "metadata": {
        "id": "546F949SLY-3"
      }
    },
    {
      "cell_type": "code",
      "source": [
        "from tf_keras.callbacks import TensorBoard   # import from tf_keras, not tensorflow.keras\n",
        "import datetime\n",
        "\n",
        "# Log directory\n",
        "log_dir = \"model_logs/tf_hub_sentence_encoder/\" + datetime.datetime.now().strftime(\"%Y%m%d-%H%M%S\")\n",
        "\n",
        "# TensorBoard callback\n",
        "tensorboard_callback = TensorBoard(\n",
        "    log_dir=log_dir,\n",
        "    histogram_freq=1\n",
        ")"
      ],
      "metadata": {
        "id": "KdUiVTFXLFWW"
      },
      "execution_count": 215,
      "outputs": []
    },
    {
      "cell_type": "code",
      "source": [
        "# Train a classifier on top of USE pretrained embeddings\n",
        "model_6_history = model_6.fit(train_sentences,\n",
        "                              train_labels,\n",
        "                              epochs=5,\n",
        "                              validation_data=(val_sentences, val_labels),\n",
        "                              callbacks=[tensorboard_callback])"
      ],
      "metadata": {
        "colab": {
          "base_uri": "https://localhost:8080/"
        },
        "id": "lAVl_f96Iunz",
        "outputId": "fc1e1cb6-e15d-42f5-c3ef-edf9d00f3ef3"
      },
      "execution_count": 216,
      "outputs": [
        {
          "output_type": "stream",
          "name": "stdout",
          "text": [
            "Epoch 1/5\n",
            "215/215 [==============================] - 91s 404ms/step - loss: 0.5012 - accuracy: 0.7825 - val_loss: 0.4483 - val_accuracy: 0.8005\n",
            "Epoch 2/5\n",
            "215/215 [==============================] - 73s 340ms/step - loss: 0.4150 - accuracy: 0.8155 - val_loss: 0.4389 - val_accuracy: 0.8058\n",
            "Epoch 3/5\n",
            "215/215 [==============================] - 73s 342ms/step - loss: 0.3997 - accuracy: 0.8216 - val_loss: 0.4317 - val_accuracy: 0.8136\n",
            "Epoch 4/5\n",
            "215/215 [==============================] - 78s 362ms/step - loss: 0.3933 - accuracy: 0.8253 - val_loss: 0.4298 - val_accuracy: 0.8150\n",
            "Epoch 5/5\n",
            "215/215 [==============================] - 73s 342ms/step - loss: 0.3855 - accuracy: 0.8288 - val_loss: 0.4262 - val_accuracy: 0.8123\n"
          ]
        }
      ]
    },
    {
      "cell_type": "code",
      "source": [
        "# Make predictions with USE TF Hub Model\n",
        "model_6_pred_probs = model_6.predict(val_sentences)\n",
        "model_6_pred_probs[:10]"
      ],
      "metadata": {
        "colab": {
          "base_uri": "https://localhost:8080/"
        },
        "id": "XPXFybcROOPc",
        "outputId": "79b5cd5f-68d5-4443-f0f1-bfd2dac37b36"
      },
      "execution_count": 217,
      "outputs": [
        {
          "output_type": "stream",
          "name": "stdout",
          "text": [
            "24/24 [==============================] - 1s 18ms/step\n"
          ]
        },
        {
          "output_type": "execute_result",
          "data": {
            "text/plain": [
              "array([[0.19693169],\n",
              "       [0.79471177],\n",
              "       [0.9890117 ],\n",
              "       [0.22777885],\n",
              "       [0.72344935],\n",
              "       [0.7585028 ],\n",
              "       [0.9844371 ],\n",
              "       [0.9809041 ],\n",
              "       [0.94290596],\n",
              "       [0.09583063]], dtype=float32)"
            ]
          },
          "metadata": {},
          "execution_count": 217
        }
      ]
    },
    {
      "cell_type": "code",
      "source": [
        "# Convert prediction probabilities to labels\n",
        "model_6_preds = tf.squeeze(tf.round(model_6_pred_probs))\n",
        "model_6_preds[:10]"
      ],
      "metadata": {
        "colab": {
          "base_uri": "https://localhost:8080/"
        },
        "id": "MFy4n0csOdRo",
        "outputId": "98b45f6d-5056-4901-c867-1e8dad3026d1"
      },
      "execution_count": 218,
      "outputs": [
        {
          "output_type": "execute_result",
          "data": {
            "text/plain": [
              "<tf.Tensor: shape=(10,), dtype=float32, numpy=array([0., 1., 1., 0., 1., 1., 1., 1., 1., 0.], dtype=float32)>"
            ]
          },
          "metadata": {},
          "execution_count": 218
        }
      ]
    },
    {
      "cell_type": "code",
      "source": [
        "val_labels[:50]"
      ],
      "metadata": {
        "colab": {
          "base_uri": "https://localhost:8080/"
        },
        "id": "W-BNH1mMPCaC",
        "outputId": "9c107967-f191-4b17-d83c-aed7eb6c112a"
      },
      "execution_count": 219,
      "outputs": [
        {
          "output_type": "execute_result",
          "data": {
            "text/plain": [
              "array([0, 0, 1, 1, 1, 1, 1, 1, 1, 0, 0, 0, 0, 0, 0, 0, 0, 0, 1, 0, 1, 1,\n",
              "       1, 1, 1, 1, 0, 0, 0, 0, 1, 0, 0, 0, 1, 0, 1, 0, 1, 1, 1, 0, 1, 0,\n",
              "       0, 1, 0, 1, 0, 0])"
            ]
          },
          "metadata": {},
          "execution_count": 219
        }
      ]
    },
    {
      "cell_type": "code",
      "source": [
        "# Calculate model_6 performance metrics\n",
        "model_6_results = calculate_results(y_true=val_labels,\n",
        "                                    y_pred=model_6_preds)\n",
        "model_6_results"
      ],
      "metadata": {
        "colab": {
          "base_uri": "https://localhost:8080/"
        },
        "id": "2o7DbD9uPFnA",
        "outputId": "cf513cb2-ad73-43e6-a897-0c657052c5c7"
      },
      "execution_count": 220,
      "outputs": [
        {
          "output_type": "execute_result",
          "data": {
            "text/plain": [
              "{'accuracy': 81.23359580052494,\n",
              " 'precision': 0.8140043704592863,\n",
              " 'recall': 0.8123359580052494,\n",
              " 'f1': 0.8109868382392855}"
            ]
          },
          "metadata": {},
          "execution_count": 220
        }
      ]
    },
    {
      "cell_type": "code",
      "source": [
        "np.array(list(model_6_results.values())) > np.array(list(baseline_results.values()))"
      ],
      "metadata": {
        "colab": {
          "base_uri": "https://localhost:8080/"
        },
        "id": "1ZJz8ucEPWuL",
        "outputId": "8c5ed2e9-1089-4588-912b-56f29a767563"
      },
      "execution_count": 221,
      "outputs": [
        {
          "output_type": "execute_result",
          "data": {
            "text/plain": [
              "array([ True,  True,  True,  True])"
            ]
          },
          "metadata": {},
          "execution_count": 221
        }
      ]
    },
    {
      "cell_type": "markdown",
      "source": [
        "## Model 7: TF Hub Pretrained USE but with 10% of training data\n",
        "\n",
        "Transfer learning really helps when we don't have a large dataset.\n",
        "\n",
        "To see how our model performs on a smaller dataset, let's replicate `model_6` except we'll train it on 10% of the data."
      ],
      "metadata": {
        "id": "RtzYtPOIf1gP"
      }
    },
    {
      "cell_type": "code",
      "source": [
        "# ## NOTE: Making data splits like below leads to data leakage (model_7 trained on 10% data outperforms model_6 trained on full data)\n",
        "# ## DO NOT MAKE DATA SPLITS WHICH LEAK DATA FROM VALIDATION/TEST SETS INTO TRAINING SETS\n",
        "\n",
        "# # Create subset of 10% of the training data\n",
        "# train_10_percent = train_df_shuffled[[\"text\", \"target\"]].sample(frac=0.1, random_state=42)\n",
        "# # print(train_10_percent.head(), len(train_10_percent))\n",
        "# # print(len(train_df_shuffled))\n",
        "# train_sentences_10_percent_1 = train_10_percent[\"text\"].to_list()\n",
        "# train_labels_10_percent_1 = train_10_percent[\"target\"].to_list()\n",
        "# len(train_sentences_10_percent_1), len(train_labels_10_percent_1)"
      ],
      "metadata": {
        "id": "s0ZvYUUrPr0d"
      },
      "execution_count": 287,
      "outputs": []
    },
    {
      "cell_type": "code",
      "source": [
        "# # Check the number of targets in our subset of data\n",
        "# train_10_percent[\"target\"].value_counts()"
      ],
      "metadata": {
        "id": "xPukf8oFf9rq"
      },
      "execution_count": 288,
      "outputs": []
    },
    {
      "cell_type": "code",
      "source": [
        "# # Check the number of targets in our main set of data to see if the target have similar ratio\n",
        "# train_df_shuffled[\"target\"].value_counts()"
      ],
      "metadata": {
        "id": "O7VcGqCXjpaV"
      },
      "execution_count": 289,
      "outputs": []
    },
    {
      "cell_type": "markdown",
      "source": [
        "To recreate a model the same as a previous model we're created we can use the `tf.keras.models.clone_model()` method, more information: https://www.tensorflow.org/api_docs/python/tf/keras/models/clone_model\n",
        "\n",
        "\n",
        "\n",
        "> 🔑**Note:** Model cloning is similar to calling a model on new inputs, except that it creates new layers (and thus new weights) instead of sharing the weights of the existing layers."
      ],
      "metadata": {
        "id": "FkqgGiOKBfEX"
      }
    },
    {
      "cell_type": "markdown",
      "source": [
        "> ❎ As we used `tf_keras` for custom wrapper layer so Sequential accepts it in **`model_6`**. Here also we will use `tf_keras` insted of `tf.keras`."
      ],
      "metadata": {
        "id": "QN1EoW_zDf39"
      }
    },
    {
      "cell_type": "code",
      "source": [
        "# # Let's build a model the same as model_6\n",
        "# model_7_clone_of_6 = tf_keras.models.clone_model(model_6)\n",
        "\n",
        "# # Compile model\n",
        "# model_7_clone_of_6.compile(loss=\"binary_crossentropy\",\n",
        "#                 optimizer=tf_keras.optimizers.Adam(),\n",
        "#                 metrics=[\"accuracy\"])\n",
        "\n",
        "# # Get a summary (will be same as model_6)\n",
        "# model_7_clone_of_6.summary()"
      ],
      "metadata": {
        "id": "2iOkYaWS7WlG"
      },
      "execution_count": 290,
      "outputs": []
    },
    {
      "cell_type": "code",
      "source": [
        "# But let's build model_7\n",
        "import tf_keras\n",
        "\n",
        "model_7 = tf_keras.Sequential([\n",
        "  sentence_encoder_layer,\n",
        "  tf_keras.layers.Dense(64, activation=\"relu\"),\n",
        "  tf_keras.layers.Dense(1, activation=\"sigmoid\")\n",
        "], name=\"model_7_USE\")\n",
        "\n",
        "# Compile\n",
        "model_7.compile(loss=\"binary_crossentropy\",\n",
        "                optimizer=tf_keras.optimizers.Adam(),\n",
        "                metrics=[\"accuracy\"])\n",
        "\n",
        "model_7.summary()"
      ],
      "metadata": {
        "colab": {
          "base_uri": "https://localhost:8080/"
        },
        "id": "4j1iT2oUEZog",
        "outputId": "86141023-a6ea-4600-8f2a-b77ba0aa0155"
      },
      "execution_count": 291,
      "outputs": [
        {
          "output_type": "stream",
          "name": "stdout",
          "text": [
            "Model: \"model_7_USE\"\n",
            "_________________________________________________________________\n",
            " Layer (type)                Output Shape              Param #   \n",
            "=================================================================\n",
            " USE (KerasLayer)            (None, 512)               256797824 \n",
            "                                                                 \n",
            " dense_9 (Dense)             (None, 64)                32832     \n",
            "                                                                 \n",
            " dense_10 (Dense)            (None, 1)                 65        \n",
            "                                                                 \n",
            "=================================================================\n",
            "Total params: 256830721 (979.73 MB)\n",
            "Trainable params: 32897 (128.50 KB)\n",
            "Non-trainable params: 256797824 (979.61 MB)\n",
            "_________________________________________________________________\n"
          ]
        }
      ]
    },
    {
      "cell_type": "code",
      "source": [
        "# # Fit the model to the 10% training data subsets\n",
        "# model_7_history_1 = model_7.fit(train_sentences_10_percent_1,\n",
        "#                               train_labels_10_percent_1,\n",
        "#                               epochs=5,\n",
        "#                               validation_data=(val_sentences, val_labels),\n",
        "#                               callbacks=[tensorboard_callback])"
      ],
      "metadata": {
        "id": "2Dw7LjamEsoQ"
      },
      "execution_count": 292,
      "outputs": []
    },
    {
      "cell_type": "code",
      "source": [
        "# # Make predictions with the model trained on 10% of the data\n",
        "# model_7_pred_probs_1 = model_7.predict(val_sentences)\n",
        "# model_7_pred_probs_1[:10]"
      ],
      "metadata": {
        "id": "9l8s3au_F0Gp"
      },
      "execution_count": 293,
      "outputs": []
    },
    {
      "cell_type": "code",
      "source": [
        "# # Turn pred probs into labels\n",
        "# model_7_preds_1 = tf.squeeze(tf.round(model_7_pred_probs_1))\n",
        "# model_7_preds_1[:10]"
      ],
      "metadata": {
        "id": "Ga3YluxLGD0U"
      },
      "execution_count": 294,
      "outputs": []
    },
    {
      "cell_type": "code",
      "source": [
        "# # Evaluate model 7 predictions\n",
        "# model_7_results_1 = calculate_results(y_true=val_labels,\n",
        "#                                     y_pred=model_7_preds_1)\n",
        "# model_7_results_1"
      ],
      "metadata": {
        "id": "MTqHdNMfGRkT"
      },
      "execution_count": 295,
      "outputs": []
    },
    {
      "cell_type": "code",
      "source": [
        "# np.array(list(model_7_results_1.values())) > np.array(list(model_6_results.values()))"
      ],
      "metadata": {
        "id": "fjvgRaNWHnFT"
      },
      "execution_count": 296,
      "outputs": []
    },
    {
      "cell_type": "markdown",
      "source": [
        "> Here we see that the `model_7` performs better than `model_6` with smaller dataset. But it should not be happened. It's because of how we created the later version of dataset, `train_10_percent`. It's called **data leakage** problem. More information: https://www.kaggle.com/code/alexisbcook/data-leakage"
      ],
      "metadata": {
        "id": "QUdhEEvGIfiI"
      }
    },
    {
      "cell_type": "code",
      "source": [
        "# Making a better dataset split (no data leakage)\n",
        "train_10_percent_split = int(0.1 * len(train_sentences))\n",
        "train_sentences_10_percent = train_sentences[:train_10_percent_split]\n",
        "train_labels_10_percent = train_labels[:train_10_percent_split]\n",
        "print(f\"len(train_sentences_10_percent): {len(train_sentences_10_percent)}, \"\n",
        "      f\"\\nlen(train_sentences): {len(train_sentences)}, \"\n",
        "      f\"\\nlen(train_labels_10_percent): {len(train_labels_10_percent)}, \"\n",
        "      f\"\\nlen(train_labels): {len(train_labels)}\")"
      ],
      "metadata": {
        "colab": {
          "base_uri": "https://localhost:8080/"
        },
        "id": "XXz0dH5dJxgT",
        "outputId": "61a2badf-6d8e-4e12-c016-734d7c86dc3e"
      },
      "execution_count": 297,
      "outputs": [
        {
          "output_type": "stream",
          "name": "stdout",
          "text": [
            "len(train_sentences_10_percent): 685, \n",
            "len(train_sentences): 6851, \n",
            "len(train_labels_10_percent): 685, \n",
            "len(train_labels): 6851\n"
          ]
        }
      ]
    },
    {
      "cell_type": "code",
      "source": [
        "# Check the number of each label in the updated training data subset\n",
        "pd.Series(np.array(train_labels_10_percent)).value_counts()"
      ],
      "metadata": {
        "colab": {
          "base_uri": "https://localhost:8080/",
          "height": 147
        },
        "id": "tM8eCA1_MAGo",
        "outputId": "467362ff-baf5-4f9a-e9b9-e439c46dc3b4"
      },
      "execution_count": 298,
      "outputs": [
        {
          "output_type": "execute_result",
          "data": {
            "text/plain": [
              "0    406\n",
              "1    279\n",
              "Name: count, dtype: int64"
            ],
            "text/html": [
              "<div>\n",
              "<style scoped>\n",
              "    .dataframe tbody tr th:only-of-type {\n",
              "        vertical-align: middle;\n",
              "    }\n",
              "\n",
              "    .dataframe tbody tr th {\n",
              "        vertical-align: top;\n",
              "    }\n",
              "\n",
              "    .dataframe thead th {\n",
              "        text-align: right;\n",
              "    }\n",
              "</style>\n",
              "<table border=\"1\" class=\"dataframe\">\n",
              "  <thead>\n",
              "    <tr style=\"text-align: right;\">\n",
              "      <th></th>\n",
              "      <th>count</th>\n",
              "    </tr>\n",
              "  </thead>\n",
              "  <tbody>\n",
              "    <tr>\n",
              "      <th>0</th>\n",
              "      <td>406</td>\n",
              "    </tr>\n",
              "    <tr>\n",
              "      <th>1</th>\n",
              "      <td>279</td>\n",
              "    </tr>\n",
              "  </tbody>\n",
              "</table>\n",
              "</div><br><label><b>dtype:</b> int64</label>"
            ]
          },
          "metadata": {},
          "execution_count": 298
        }
      ]
    },
    {
      "cell_type": "code",
      "source": [
        "train_df_shuffled[\"target\"].value_counts()"
      ],
      "metadata": {
        "colab": {
          "base_uri": "https://localhost:8080/",
          "height": 178
        },
        "id": "DRCDzFaON-0d",
        "outputId": "de2a2d26-e43a-4de6-91a3-cce7b9845b70"
      },
      "execution_count": 299,
      "outputs": [
        {
          "output_type": "execute_result",
          "data": {
            "text/plain": [
              "target\n",
              "0    4342\n",
              "1    3271\n",
              "Name: count, dtype: int64"
            ],
            "text/html": [
              "<div>\n",
              "<style scoped>\n",
              "    .dataframe tbody tr th:only-of-type {\n",
              "        vertical-align: middle;\n",
              "    }\n",
              "\n",
              "    .dataframe tbody tr th {\n",
              "        vertical-align: top;\n",
              "    }\n",
              "\n",
              "    .dataframe thead th {\n",
              "        text-align: right;\n",
              "    }\n",
              "</style>\n",
              "<table border=\"1\" class=\"dataframe\">\n",
              "  <thead>\n",
              "    <tr style=\"text-align: right;\">\n",
              "      <th></th>\n",
              "      <th>count</th>\n",
              "    </tr>\n",
              "    <tr>\n",
              "      <th>target</th>\n",
              "      <th></th>\n",
              "    </tr>\n",
              "  </thead>\n",
              "  <tbody>\n",
              "    <tr>\n",
              "      <th>0</th>\n",
              "      <td>4342</td>\n",
              "    </tr>\n",
              "    <tr>\n",
              "      <th>1</th>\n",
              "      <td>3271</td>\n",
              "    </tr>\n",
              "  </tbody>\n",
              "</table>\n",
              "</div><br><label><b>dtype:</b> int64</label>"
            ]
          },
          "metadata": {},
          "execution_count": 299
        }
      ]
    },
    {
      "cell_type": "code",
      "source": [
        "# Fit the model_7 to the new 10% training data subsets\n",
        "model_7_history = model_7.fit(train_sentences_10_percent,\n",
        "                              train_labels_10_percent,\n",
        "                              epochs=5,\n",
        "                              validation_data=(val_sentences, val_labels),\n",
        "                              callbacks=[tensorboard_callback])"
      ],
      "metadata": {
        "colab": {
          "base_uri": "https://localhost:8080/"
        },
        "id": "Y-FvAdlwOwMT",
        "outputId": "18752ae5-44e4-4478-9c29-5036cf4cb80a"
      },
      "execution_count": 300,
      "outputs": [
        {
          "output_type": "stream",
          "name": "stdout",
          "text": [
            "Epoch 1/5\n",
            "22/22 [==============================] - 79s 4s/step - loss: 0.6768 - accuracy: 0.6394 - val_loss: 0.6557 - val_accuracy: 0.7349\n",
            "Epoch 2/5\n",
            "22/22 [==============================] - 76s 4s/step - loss: 0.6111 - accuracy: 0.8029 - val_loss: 0.5979 - val_accuracy: 0.7612\n",
            "Epoch 3/5\n",
            "22/22 [==============================] - 75s 4s/step - loss: 0.5382 - accuracy: 0.8102 - val_loss: 0.5421 - val_accuracy: 0.7664\n",
            "Epoch 4/5\n",
            "22/22 [==============================] - 76s 4s/step - loss: 0.4742 - accuracy: 0.8219 - val_loss: 0.5099 - val_accuracy: 0.7769\n",
            "Epoch 5/5\n",
            "22/22 [==============================] - 74s 4s/step - loss: 0.4318 - accuracy: 0.8248 - val_loss: 0.4887 - val_accuracy: 0.7717\n"
          ]
        }
      ]
    },
    {
      "cell_type": "code",
      "source": [
        "# Make predictions with the model trained on 10% of the data\n",
        "model_7_pred_probs = model_7.predict(val_sentences)\n",
        "model_7_pred_probs[:10]"
      ],
      "metadata": {
        "colab": {
          "base_uri": "https://localhost:8080/"
        },
        "id": "y7YUHkgSWvf9",
        "outputId": "897ae1c5-799d-4b57-8a65-8b393c93c693"
      },
      "execution_count": 301,
      "outputs": [
        {
          "output_type": "stream",
          "name": "stdout",
          "text": [
            "24/24 [==============================] - 1s 10ms/step\n"
          ]
        },
        {
          "output_type": "execute_result",
          "data": {
            "text/plain": [
              "array([[0.24173746],\n",
              "       [0.6369371 ],\n",
              "       [0.92658144],\n",
              "       [0.3627192 ],\n",
              "       [0.52510524],\n",
              "       [0.7691874 ],\n",
              "       [0.8967409 ],\n",
              "       [0.8236164 ],\n",
              "       [0.84387547],\n",
              "       [0.17301883]], dtype=float32)"
            ]
          },
          "metadata": {},
          "execution_count": 301
        }
      ]
    },
    {
      "cell_type": "code",
      "source": [
        "# Turn pred probs into labels\n",
        "model_7_preds = tf.squeeze(tf.round(model_7_pred_probs))\n",
        "model_7_preds[:10]"
      ],
      "metadata": {
        "colab": {
          "base_uri": "https://localhost:8080/"
        },
        "id": "mXgrWdORW71W",
        "outputId": "a638d6cf-c793-4f96-aefb-1fb2d904d813"
      },
      "execution_count": 302,
      "outputs": [
        {
          "output_type": "execute_result",
          "data": {
            "text/plain": [
              "<tf.Tensor: shape=(10,), dtype=float32, numpy=array([0., 1., 1., 0., 1., 1., 1., 1., 1., 0.], dtype=float32)>"
            ]
          },
          "metadata": {},
          "execution_count": 302
        }
      ]
    },
    {
      "cell_type": "code",
      "source": [
        "# Evaluate model 7 predictions\n",
        "model_7_results = calculate_results(y_true=val_labels,\n",
        "                                    y_pred=model_7_preds)\n",
        "model_7_results"
      ],
      "metadata": {
        "colab": {
          "base_uri": "https://localhost:8080/"
        },
        "id": "jtxbFnTKUzhb",
        "outputId": "cd34db70-e1e4-41e9-abef-0a6c0aa936d9"
      },
      "execution_count": 303,
      "outputs": [
        {
          "output_type": "execute_result",
          "data": {
            "text/plain": [
              "{'accuracy': 77.16535433070865,\n",
              " 'precision': 0.7716675722378594,\n",
              " 'recall': 0.7716535433070866,\n",
              " 'f1': 0.7706024774352979}"
            ]
          },
          "metadata": {},
          "execution_count": 303
        }
      ]
    },
    {
      "cell_type": "code",
      "source": [
        "np.array(list(model_7_results.values())) > np.array(list(model_6_results.values()))"
      ],
      "metadata": {
        "colab": {
          "base_uri": "https://localhost:8080/"
        },
        "id": "7ZcxdE7wWtrG",
        "outputId": "d8368d9d-daf5-4dbc-c2d4-a6b089ccdb06"
      },
      "execution_count": 304,
      "outputs": [
        {
          "output_type": "execute_result",
          "data": {
            "text/plain": [
              "array([False, False, False, False])"
            ]
          },
          "metadata": {},
          "execution_count": 304
        }
      ]
    },
    {
      "cell_type": "code",
      "source": [
        "import pandas as pd\n",
        "\n",
        "results = [baseline_results, model_6_results, model_7_results]\n",
        "\n",
        "df = pd.DataFrame(results, index=[\"baseline_results\", \"model_6_results\", \"model_7_results\"])\n",
        "\n",
        "# Highlight maximum values in each column\n",
        "model_6_vs_model_7 = df.style.highlight_max(axis=0, color=\"lightgreen\").format(\"{:.4f}\")\n",
        "\n",
        "model_6_vs_model_7"
      ],
      "metadata": {
        "colab": {
          "base_uri": "https://localhost:8080/",
          "height": 143
        },
        "id": "avaaL9N6VVZj",
        "outputId": "118c66be-2769-463b-f50c-4e2dac9b041b"
      },
      "execution_count": 305,
      "outputs": [
        {
          "output_type": "execute_result",
          "data": {
            "text/plain": [
              "<pandas.io.formats.style.Styler at 0x7da11517bbf0>"
            ],
            "text/html": [
              "<style type=\"text/css\">\n",
              "#T_c217a_row1_col0, #T_c217a_row1_col1, #T_c217a_row1_col2, #T_c217a_row1_col3 {\n",
              "  background-color: lightgreen;\n",
              "}\n",
              "</style>\n",
              "<table id=\"T_c217a\" class=\"dataframe\">\n",
              "  <thead>\n",
              "    <tr>\n",
              "      <th class=\"blank level0\" >&nbsp;</th>\n",
              "      <th id=\"T_c217a_level0_col0\" class=\"col_heading level0 col0\" >accuracy</th>\n",
              "      <th id=\"T_c217a_level0_col1\" class=\"col_heading level0 col1\" >precision</th>\n",
              "      <th id=\"T_c217a_level0_col2\" class=\"col_heading level0 col2\" >recall</th>\n",
              "      <th id=\"T_c217a_level0_col3\" class=\"col_heading level0 col3\" >f1</th>\n",
              "    </tr>\n",
              "  </thead>\n",
              "  <tbody>\n",
              "    <tr>\n",
              "      <th id=\"T_c217a_level0_row0\" class=\"row_heading level0 row0\" >baseline_results</th>\n",
              "      <td id=\"T_c217a_row0_col0\" class=\"data row0 col0\" >79.2651</td>\n",
              "      <td id=\"T_c217a_row0_col1\" class=\"data row0 col1\" >0.8111</td>\n",
              "      <td id=\"T_c217a_row0_col2\" class=\"data row0 col2\" >0.7927</td>\n",
              "      <td id=\"T_c217a_row0_col3\" class=\"data row0 col3\" >0.7862</td>\n",
              "    </tr>\n",
              "    <tr>\n",
              "      <th id=\"T_c217a_level0_row1\" class=\"row_heading level0 row1\" >model_6_results</th>\n",
              "      <td id=\"T_c217a_row1_col0\" class=\"data row1 col0\" >81.2336</td>\n",
              "      <td id=\"T_c217a_row1_col1\" class=\"data row1 col1\" >0.8140</td>\n",
              "      <td id=\"T_c217a_row1_col2\" class=\"data row1 col2\" >0.8123</td>\n",
              "      <td id=\"T_c217a_row1_col3\" class=\"data row1 col3\" >0.8110</td>\n",
              "    </tr>\n",
              "    <tr>\n",
              "      <th id=\"T_c217a_level0_row2\" class=\"row_heading level0 row2\" >model_7_results</th>\n",
              "      <td id=\"T_c217a_row2_col0\" class=\"data row2 col0\" >77.1654</td>\n",
              "      <td id=\"T_c217a_row2_col1\" class=\"data row2 col1\" >0.7717</td>\n",
              "      <td id=\"T_c217a_row2_col2\" class=\"data row2 col2\" >0.7717</td>\n",
              "      <td id=\"T_c217a_row2_col3\" class=\"data row2 col3\" >0.7706</td>\n",
              "    </tr>\n",
              "  </tbody>\n",
              "</table>\n"
            ]
          },
          "metadata": {},
          "execution_count": 305
        }
      ]
    },
    {
      "cell_type": "markdown",
      "source": [
        "> 🔑 **Note:** Be *very* careful when creating training/val/test splits that we don't leak data across the datasets, otherwise our model evaluation metrics will be wrong. If something looks too good to be true (a model trained on 10% of data outperforming the same model trained on 100% of data) trust own gut and go back through to find where the error may lie."
      ],
      "metadata": {
        "id": "aGkgIKYVjSiz"
      }
    },
    {
      "cell_type": "markdown",
      "source": [
        "End of 27"
      ],
      "metadata": {
        "id": "846stgSJj2Vz"
      }
    }
  ]
}