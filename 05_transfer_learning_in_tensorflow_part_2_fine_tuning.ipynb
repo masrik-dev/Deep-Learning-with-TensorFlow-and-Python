{
  "nbformat": 4,
  "nbformat_minor": 0,
  "metadata": {
    "colab": {
      "provenance": [],
      "authorship_tag": "ABX9TyMeFI67r9ZAdYDFr1/FuGRA",
      "include_colab_link": true
    },
    "kernelspec": {
      "name": "python3",
      "display_name": "Python 3"
    },
    "language_info": {
      "name": "python"
    }
  },
  "cells": [
    {
      "cell_type": "markdown",
      "metadata": {
        "id": "view-in-github",
        "colab_type": "text"
      },
      "source": [
        "<a href=\"https://colab.research.google.com/github/masrik-dev/Deep-Learning-with-TensorFlow-and-Python/blob/main/05_transfer_learning_in_tensorflow_part_2_fine_tuning.ipynb\" target=\"_parent\"><img src=\"https://colab.research.google.com/assets/colab-badge.svg\" alt=\"Open In Colab\"/></a>"
      ]
    },
    {
      "cell_type": "markdown",
      "source": [
        "# Transfer Learning with TensorFlow Part 2: Fine-tuning"
      ],
      "metadata": {
        "id": "kRkjrbNVw_vT"
      }
    },
    {
      "cell_type": "code",
      "source": [
        "!nvidia-smi"
      ],
      "metadata": {
        "colab": {
          "base_uri": "https://localhost:8080/"
        },
        "id": "ri_ClAFpyKtM",
        "outputId": "e2921992-0318-40a8-a90a-12d16464f201"
      },
      "execution_count": 1,
      "outputs": [
        {
          "output_type": "stream",
          "name": "stdout",
          "text": [
            "/bin/bash: line 1: nvidia-smi: command not found\n"
          ]
        }
      ]
    },
    {
      "cell_type": "markdown",
      "source": [
        "## Creating helper functions"
      ],
      "metadata": {
        "id": "PUCXfO4JyinA"
      }
    },
    {
      "cell_type": "code",
      "source": [
        "!wget https://raw.githubusercontent.com/mrdbourke/tensorflow-deep-learning/refs/heads/main/extras/helper_functions.py"
      ],
      "metadata": {
        "colab": {
          "base_uri": "https://localhost:8080/"
        },
        "id": "8iQrarISzQvv",
        "outputId": "10eba4fa-992e-4b51-f783-4c4e9ab096e4"
      },
      "execution_count": 2,
      "outputs": [
        {
          "output_type": "stream",
          "name": "stdout",
          "text": [
            "--2025-05-18 19:42:48--  https://raw.githubusercontent.com/mrdbourke/tensorflow-deep-learning/refs/heads/main/extras/helper_functions.py\n",
            "Resolving raw.githubusercontent.com (raw.githubusercontent.com)... 185.199.109.133, 185.199.110.133, 185.199.111.133, ...\n",
            "Connecting to raw.githubusercontent.com (raw.githubusercontent.com)|185.199.109.133|:443... connected.\n",
            "HTTP request sent, awaiting response... 200 OK\n",
            "Length: 10246 (10K) [text/plain]\n",
            "Saving to: ‘helper_functions.py’\n",
            "\n",
            "helper_functions.py 100%[===================>]  10.01K  --.-KB/s    in 0s      \n",
            "\n",
            "2025-05-18 19:42:48 (47.4 MB/s) - ‘helper_functions.py’ saved [10246/10246]\n",
            "\n"
          ]
        }
      ]
    },
    {
      "cell_type": "code",
      "source": [
        "# Import helper functions we're going to use in this notebook\n",
        "from helper_functions import create_tensorboard_callback, plot_loss_curves, unzip_data, walk_through_dir"
      ],
      "metadata": {
        "id": "_H6O36Fhzpx0"
      },
      "execution_count": 3,
      "outputs": []
    },
    {
      "cell_type": "markdown",
      "source": [
        "## Let's get some data\n",
        "\n",
        "This time we're going to see how we can use the pretrained models within `tf.keras.applications` and apply them to our own problem (recognizing images of food).\n",
        "\n",
        "Link: https://www.tensorflow.org/api_docs/python/tf/keras/applications"
      ],
      "metadata": {
        "id": "9qabXd1B8fMk"
      }
    },
    {
      "cell_type": "code",
      "source": [
        "# Get 10 percent of training data of 10 classes of Food101\n",
        "!wget https://storage.googleapis.com/ztm_tf_course/food_vision/10_food_classes_10_percent.zip\n",
        "\n",
        "unzip_data(\"10_food_classes_10_percent.zip\")"
      ],
      "metadata": {
        "colab": {
          "base_uri": "https://localhost:8080/"
        },
        "id": "5tpamvGn82r8",
        "outputId": "519958b7-2beb-4b0f-aa14-4049202f017e"
      },
      "execution_count": 4,
      "outputs": [
        {
          "output_type": "stream",
          "name": "stdout",
          "text": [
            "--2025-05-18 19:43:00--  https://storage.googleapis.com/ztm_tf_course/food_vision/10_food_classes_10_percent.zip\n",
            "Resolving storage.googleapis.com (storage.googleapis.com)... 142.251.179.207, 64.233.180.207, 172.253.62.207, ...\n",
            "Connecting to storage.googleapis.com (storage.googleapis.com)|142.251.179.207|:443... connected.\n",
            "HTTP request sent, awaiting response... 200 OK\n",
            "Length: 168546183 (161M) [application/zip]\n",
            "Saving to: ‘10_food_classes_10_percent.zip’\n",
            "\n",
            "10_food_classes_10_ 100%[===================>] 160.74M   156MB/s    in 1.0s    \n",
            "\n",
            "2025-05-18 19:43:01 (156 MB/s) - ‘10_food_classes_10_percent.zip’ saved [168546183/168546183]\n",
            "\n"
          ]
        }
      ]
    },
    {
      "cell_type": "code",
      "source": [
        "# Check out how many images and subdirectories are in our dataset\n",
        "walk_through_dir(\"10_food_classes_10_percent\")"
      ],
      "metadata": {
        "colab": {
          "base_uri": "https://localhost:8080/"
        },
        "id": "msKWytTd-TzW",
        "outputId": "9f49f446-17bd-4bb2-8444-beb41e9f537d"
      },
      "execution_count": 5,
      "outputs": [
        {
          "output_type": "stream",
          "name": "stdout",
          "text": [
            "There are 2 directories and 0 images in '10_food_classes_10_percent'.\n",
            "There are 10 directories and 0 images in '10_food_classes_10_percent/test'.\n",
            "There are 0 directories and 250 images in '10_food_classes_10_percent/test/pizza'.\n",
            "There are 0 directories and 250 images in '10_food_classes_10_percent/test/ice_cream'.\n",
            "There are 0 directories and 250 images in '10_food_classes_10_percent/test/chicken_wings'.\n",
            "There are 0 directories and 250 images in '10_food_classes_10_percent/test/ramen'.\n",
            "There are 0 directories and 250 images in '10_food_classes_10_percent/test/hamburger'.\n",
            "There are 0 directories and 250 images in '10_food_classes_10_percent/test/chicken_curry'.\n",
            "There are 0 directories and 250 images in '10_food_classes_10_percent/test/steak'.\n",
            "There are 0 directories and 250 images in '10_food_classes_10_percent/test/grilled_salmon'.\n",
            "There are 0 directories and 250 images in '10_food_classes_10_percent/test/fried_rice'.\n",
            "There are 0 directories and 250 images in '10_food_classes_10_percent/test/sushi'.\n",
            "There are 10 directories and 0 images in '10_food_classes_10_percent/train'.\n",
            "There are 0 directories and 75 images in '10_food_classes_10_percent/train/pizza'.\n",
            "There are 0 directories and 75 images in '10_food_classes_10_percent/train/ice_cream'.\n",
            "There are 0 directories and 75 images in '10_food_classes_10_percent/train/chicken_wings'.\n",
            "There are 0 directories and 75 images in '10_food_classes_10_percent/train/ramen'.\n",
            "There are 0 directories and 75 images in '10_food_classes_10_percent/train/hamburger'.\n",
            "There are 0 directories and 75 images in '10_food_classes_10_percent/train/chicken_curry'.\n",
            "There are 0 directories and 75 images in '10_food_classes_10_percent/train/steak'.\n",
            "There are 0 directories and 75 images in '10_food_classes_10_percent/train/grilled_salmon'.\n",
            "There are 0 directories and 75 images in '10_food_classes_10_percent/train/fried_rice'.\n",
            "There are 0 directories and 75 images in '10_food_classes_10_percent/train/sushi'.\n"
          ]
        }
      ]
    },
    {
      "cell_type": "code",
      "source": [
        "# Create training and test directory paths\n",
        "train_dir = \"10_food_classes_10_percent/train\"\n",
        "test_dir = \"10_food_classes_10_percent/test\""
      ],
      "metadata": {
        "id": "_Y8svbur-ioW"
      },
      "execution_count": 7,
      "outputs": []
    },
    {
      "cell_type": "markdown",
      "source": [
        "Now we will use `image_dataset_from_directory` instead of `ImageDataGenerator`. Because it is faster.\n",
        "Link: https://www.tensorflow.org/api_docs/python/tf/keras/preprocessing/image_dataset_from_directory"
      ],
      "metadata": {
        "id": "9RjebWlc7-M6"
      }
    },
    {
      "cell_type": "code",
      "source": [
        "import tensorflow as tf\n",
        "IMG_SIZE = (224, 224)\n",
        "BATCH_SIZE = 32\n",
        "train_data_10_percent = tf.keras.preprocessing.image_dataset_from_directory(directory=train_dir,\n",
        "                                                                            image_size=IMG_SIZE,\n",
        "                                                                            label_mode=\"categorical\",\n",
        "                                                                            batch_size=BATCH_SIZE)\n",
        "test_data = tf.keras.preprocessing.image_dataset_from_directory(directory=test_dir,\n",
        "                                                                image_size=IMG_SIZE,\n",
        "                                                                label_mode=\"categorical\",\n",
        "                                                                batch_size=BATCH_SIZE)"
      ],
      "metadata": {
        "colab": {
          "base_uri": "https://localhost:8080/"
        },
        "id": "ibHLzSv28nY4",
        "outputId": "b99113ab-3a28-43c7-b4f8-bb5b17f88345"
      },
      "execution_count": 8,
      "outputs": [
        {
          "output_type": "stream",
          "name": "stdout",
          "text": [
            "Found 750 files belonging to 10 classes.\n",
            "Found 2500 files belonging to 10 classes.\n"
          ]
        }
      ]
    },
    {
      "cell_type": "code",
      "source": [
        "train_data_10_percent"
      ],
      "metadata": {
        "colab": {
          "base_uri": "https://localhost:8080/"
        },
        "id": "EB9OppG59zf5",
        "outputId": "e5197320-81e7-4a1a-8f21-08be3dd54130"
      },
      "execution_count": 9,
      "outputs": [
        {
          "output_type": "execute_result",
          "data": {
            "text/plain": [
              "<_PrefetchDataset element_spec=(TensorSpec(shape=(None, 224, 224, 3), dtype=tf.float32, name=None), TensorSpec(shape=(None, 10), dtype=tf.float32, name=None))>"
            ]
          },
          "metadata": {},
          "execution_count": 9
        }
      ]
    },
    {
      "cell_type": "code",
      "source": [
        "#Check out the class names of our dataset\n",
        "train_data_10_percent.class_names"
      ],
      "metadata": {
        "colab": {
          "base_uri": "https://localhost:8080/"
        },
        "id": "n1QfAiLZ-dJV",
        "outputId": "f7450079-ecf3-499e-82a2-cee74d403efd"
      },
      "execution_count": 10,
      "outputs": [
        {
          "output_type": "execute_result",
          "data": {
            "text/plain": [
              "['chicken_curry',\n",
              " 'chicken_wings',\n",
              " 'fried_rice',\n",
              " 'grilled_salmon',\n",
              " 'hamburger',\n",
              " 'ice_cream',\n",
              " 'pizza',\n",
              " 'ramen',\n",
              " 'steak',\n",
              " 'sushi']"
            ]
          },
          "metadata": {},
          "execution_count": 10
        }
      ]
    },
    {
      "cell_type": "code",
      "source": [
        "# See an example of a batch of data\n",
        "for images, labels in train_data_10_percent.take(1):\n",
        "  print(images, labels)"
      ],
      "metadata": {
        "colab": {
          "base_uri": "https://localhost:8080/"
        },
        "id": "MWbv91Xe-l8r",
        "outputId": "b6ee78ee-67a2-41f6-e755-1aa439b1aa58"
      },
      "execution_count": 11,
      "outputs": [
        {
          "output_type": "stream",
          "name": "stdout",
          "text": [
            "tf.Tensor(\n",
            "[[[[1.58724489e+01 1.08724489e+01 7.87244892e+00]\n",
            "   [1.56683674e+01 1.06683674e+01 7.66836739e+00]\n",
            "   [1.64285717e+01 1.12142859e+01 8.85714340e+00]\n",
            "   ...\n",
            "   [5.06990051e+01 3.76990051e+01 2.96990032e+01]\n",
            "   [5.13316422e+01 3.83316422e+01 2.93316422e+01]\n",
            "   [4.82447701e+01 3.52447701e+01 2.62447681e+01]]\n",
            "\n",
            "  [[1.79285717e+01 1.29285717e+01 9.92857170e+00]\n",
            "   [1.70000000e+01 1.20000000e+01 9.00000000e+00]\n",
            "   [1.54285717e+01 1.02142859e+01 7.85714340e+00]\n",
            "   ...\n",
            "   [5.24285278e+01 3.94285278e+01 3.04285278e+01]\n",
            "   [4.92143097e+01 3.62143097e+01 2.72143116e+01]\n",
            "   [4.99998932e+01 3.69998932e+01 2.79998951e+01]]\n",
            "\n",
            "  [[1.79234695e+01 1.29234695e+01 9.92346954e+00]\n",
            "   [1.82704086e+01 1.32704077e+01 1.02704077e+01]\n",
            "   [1.63826542e+01 1.11683674e+01 8.81122494e+00]\n",
            "   ...\n",
            "   [5.67397995e+01 4.47397995e+01 3.27397995e+01]\n",
            "   [5.68010216e+01 4.48010216e+01 3.23724518e+01]\n",
            "   [5.31529007e+01 4.11529007e+01 2.87243309e+01]]\n",
            "\n",
            "  ...\n",
            "\n",
            "  [[9.39187088e+01 3.70666161e+01 1.22705841e+01]\n",
            "   [9.53982468e+01 3.66685257e+01 9.68374062e+00]\n",
            "   [9.27145233e+01 3.34797554e+01 6.50516033e+00]\n",
            "   ...\n",
            "   [2.31403122e+02 1.87168350e+02 1.06933594e+02]\n",
            "   [2.33714294e+02 1.89158127e+02 1.08428467e+02]\n",
            "   [2.30142731e+02 1.85142731e+02 1.02571259e+02]]\n",
            "\n",
            "  [[1.17755226e+02 5.36837883e+01 1.77296467e+01]\n",
            "   [1.16336998e+02 5.22655525e+01 1.59797850e+01]\n",
            "   [1.23995079e+02 5.99236374e+01 2.39797325e+01]\n",
            "   ...\n",
            "   [2.30698929e+02 1.85499969e+02 1.05096840e+02]\n",
            "   [2.30147980e+02 1.85153091e+02 1.01867325e+02]\n",
            "   [2.34525574e+02 1.89928680e+02 1.04122475e+02]]\n",
            "\n",
            "  [[1.37642929e+02 7.06429291e+01 2.69285717e+01]\n",
            "   [1.43795731e+02 7.67957230e+01 3.30813675e+01]\n",
            "   [1.33219040e+02 6.76577682e+01 2.58056984e+01]\n",
            "   ...\n",
            "   [2.33637833e+02 1.88637833e+02 1.07637825e+02]\n",
            "   [2.33688843e+02 1.88760284e+02 1.03617393e+02]\n",
            "   [2.35872421e+02 1.89872421e+02 1.02698868e+02]]]\n",
            "\n",
            "\n",
            " [[[6.54132690e+01 5.02397957e+01 4.98265305e+01]\n",
            "   [1.06285721e+02 9.50714340e+01 9.31428604e+01]\n",
            "   [1.54622452e+02 1.45622452e+02 1.40193878e+02]\n",
            "   ...\n",
            "   [1.57510239e+02 1.06081703e+02 1.24867439e+02]\n",
            "   [1.64357254e+02 1.13357246e+02 1.32357254e+02]\n",
            "   [1.75142899e+02 1.26142891e+02 1.45142899e+02]]\n",
            "\n",
            "  [[6.20510216e+01 5.15714264e+01 4.95969391e+01]\n",
            "   [9.96938858e+01 9.24081650e+01 8.65510254e+01]\n",
            "   [1.51336731e+02 1.46525513e+02 1.37510208e+02]\n",
            "   ...\n",
            "   [1.49040817e+02 9.60408173e+01 1.16040817e+02]\n",
            "   [1.47591858e+02 9.55918655e+01 1.17591866e+02]\n",
            "   [1.49193817e+02 9.71938095e+01 1.19193810e+02]]\n",
            "\n",
            "  [[5.69795914e+01 5.14183655e+01 4.54183655e+01]\n",
            "   [9.10969467e+01 8.79540863e+01 8.10255127e+01]\n",
            "   [1.53591843e+02 1.51403061e+02 1.41591827e+02]\n",
            "   ...\n",
            "   [1.52642853e+02 9.88571396e+01 1.23285713e+02]\n",
            "   [1.50729599e+02 9.69438934e+01 1.21372467e+02]\n",
            "   [1.50152969e+02 9.63672562e+01 1.20795830e+02]]\n",
            "\n",
            "  ...\n",
            "\n",
            "  [[1.64785736e+02 1.66785736e+02 1.55785736e+02]\n",
            "   [1.60413239e+02 1.62413239e+02 1.51413239e+02]\n",
            "   [1.52214249e+02 1.53785675e+02 1.42999954e+02]\n",
            "   ...\n",
            "   [1.36168350e+02 1.26168358e+02 1.16168358e+02]\n",
            "   [1.32000000e+02 1.22000000e+02 1.12000000e+02]\n",
            "   [1.30071381e+02 1.20071381e+02 1.10071381e+02]]\n",
            "\n",
            "  [[1.55668365e+02 1.57668365e+02 1.46668365e+02]\n",
            "   [1.54076523e+02 1.56076523e+02 1.45076523e+02]\n",
            "   [1.50214279e+02 1.51785721e+02 1.41000000e+02]\n",
            "   ...\n",
            "   [1.36357086e+02 1.26357086e+02 1.16357086e+02]\n",
            "   [1.31071442e+02 1.21071442e+02 1.11071442e+02]\n",
            "   [1.31642822e+02 1.21642822e+02 1.11642822e+02]]\n",
            "\n",
            "  [[1.55928467e+02 1.57928467e+02 1.46928467e+02]\n",
            "   [1.53760162e+02 1.55760162e+02 1.44760162e+02]\n",
            "   [1.50785751e+02 1.52357178e+02 1.41571457e+02]\n",
            "   ...\n",
            "   [1.34137741e+02 1.24137733e+02 1.14137733e+02]\n",
            "   [1.31142883e+02 1.21142883e+02 1.11142883e+02]\n",
            "   [1.32056046e+02 1.22056046e+02 1.12056046e+02]]]\n",
            "\n",
            "\n",
            " [[[1.59928574e+02 1.17928574e+02 7.79285736e+01]\n",
            "   [1.58642853e+02 1.16642860e+02 7.46428604e+01]\n",
            "   [1.59428574e+02 1.18214287e+02 7.46428604e+01]\n",
            "   ...\n",
            "   [3.39897995e+01 2.65612106e+01 1.03469152e+01]\n",
            "   [3.51428757e+01 2.61428757e+01 9.14287472e+00]\n",
            "   [3.39285812e+01 2.49285812e+01 7.92858028e+00]]\n",
            "\n",
            "  [[1.64500000e+02 1.22500000e+02 8.25000000e+01]\n",
            "   [1.61857147e+02 1.19857147e+02 7.78571472e+01]\n",
            "   [1.60928574e+02 1.19714287e+02 7.61428604e+01]\n",
            "   ...\n",
            "   [4.35459137e+01 3.17142773e+01 1.56581554e+01]\n",
            "   [4.47194214e+01 3.35816841e+01 1.58571606e+01]\n",
            "   [4.48112259e+01 3.38112259e+01 1.58112259e+01]]\n",
            "\n",
            "  [[1.68290817e+02 1.26290817e+02 8.62908173e+01]\n",
            "   [1.68658157e+02 1.26658165e+02 8.46581650e+01]\n",
            "   [1.69025513e+02 1.27811226e+02 8.42397995e+01]\n",
            "   ...\n",
            "   [4.38571434e+01 3.04285717e+01 1.30000000e+01]\n",
            "   [4.71735306e+01 3.37449608e+01 1.63163891e+01]\n",
            "   [5.05816307e+01 3.71530571e+01 1.81530590e+01]]\n",
            "\n",
            "  ...\n",
            "\n",
            "  [[2.08470860e+01 1.78521576e+01 8.20925713e+00]\n",
            "   [1.74133987e+01 1.37858238e+01 5.03067493e+00]\n",
            "   [1.32194891e+01 9.90823841e+00 7.85736084e-01]\n",
            "   ...\n",
            "   [1.11658562e+02 6.90666428e+01 3.10412064e+01]\n",
            "   [1.03235298e+02 6.22760162e+01 2.34342613e+01]\n",
            "   [8.01939392e+01 4.07805939e+01 1.55616474e+00]]\n",
            "\n",
            "  [[3.25969315e+01 2.52601871e+01 1.31224194e+01]\n",
            "   [3.07857285e+01 2.29183788e+01 1.15765190e+01]\n",
            "   [2.46581650e+01 1.70561218e+01 5.31630611e+00]\n",
            "   ...\n",
            "   [1.27408211e+02 7.37500229e+01 4.59643745e+01]\n",
            "   [1.17698761e+02 6.64742279e+01 3.78365402e+01]\n",
            "   [1.02306419e+02 5.30410652e+01 2.34697170e+01]]\n",
            "\n",
            "  [[3.38418846e+01 2.48418846e+01 9.84188366e+00]\n",
            "   [3.45255814e+01 2.55255833e+01 1.05255823e+01]\n",
            "   [2.89286766e+01 1.99286766e+01 4.92867661e+00]\n",
            "   ...\n",
            "   [1.35806229e+02 7.30817337e+01 5.50205193e+01]\n",
            "   [1.37622055e+02 7.90251389e+01 5.98109055e+01]\n",
            "   [1.43127014e+02 8.66983643e+01 6.67698669e+01]]]\n",
            "\n",
            "\n",
            " ...\n",
            "\n",
            "\n",
            " [[[4.03979607e+01 3.83979607e+01 2.63979588e+01]\n",
            "   [3.82091827e+01 3.52091827e+01 2.63520412e+01]\n",
            "   [1.34438801e+01 1.20153084e+01 6.58673620e+00]\n",
            "   ...\n",
            "   [4.07655144e+00 9.29084587e+00 1.16479626e+01]\n",
            "   [5.33162165e+00 1.13316212e+01 1.13316212e+01]\n",
            "   [9.43889081e-01 4.48470879e+00 5.48470879e+00]]\n",
            "\n",
            "  [[3.23316345e+01 2.99999981e+01 1.89948978e+01]\n",
            "   [3.34132652e+01 3.04132652e+01 2.34132652e+01]\n",
            "   [1.73418388e+01 1.59132671e+01 1.16122475e+01]\n",
            "   ...\n",
            "   [2.99999046e+00 7.21428490e+00 1.02142849e+01]\n",
            "   [2.14795732e+00 7.14795732e+00 1.01479568e+01]\n",
            "   [2.55104303e-02 3.73980474e+00 6.73980474e+00]]\n",
            "\n",
            "  [[2.23520412e+01 1.93520412e+01 1.27806129e+01]\n",
            "   [3.54744911e+01 3.24030609e+01 2.75459175e+01]\n",
            "   [2.35510235e+01 2.19081650e+01 1.96938801e+01]\n",
            "   ...\n",
            "   [4.50507975e+00 5.93366861e+00 1.01479626e+01]\n",
            "   [2.03060484e+00 6.48981571e+00 1.11581774e+01]\n",
            "   [2.42856693e+00 7.21428108e+00 1.38571386e+01]]\n",
            "\n",
            "  ...\n",
            "\n",
            "  [[3.63571854e+01 2.31429234e+01 1.49286585e+01]\n",
            "   [4.67960548e+01 3.33675270e+01 2.71532631e+01]\n",
            "   [4.16276855e+01 2.79184933e+01 2.37246704e+01]\n",
            "   ...\n",
            "   [0.00000000e+00 4.00000000e+00 5.00000000e+00]\n",
            "   [0.00000000e+00 4.00000000e+00 5.00000000e+00]\n",
            "   [0.00000000e+00 3.78573608e+00 4.78573608e+00]]\n",
            "\n",
            "  [[3.39235458e+01 2.29235477e+01 1.89235477e+01]\n",
            "   [4.26275215e+01 3.16275234e+01 2.76377296e+01]\n",
            "   [3.58826218e+01 2.48264866e+01 2.25407963e+01]\n",
            "   ...\n",
            "   [0.00000000e+00 3.19898486e+00 4.19898510e+00]\n",
            "   [0.00000000e+00 3.99489832e+00 4.99489832e+00]\n",
            "   [1.00000000e+00 5.00000000e+00 6.00000000e+00]]\n",
            "\n",
            "  [[4.15204048e+01 3.25204048e+01 2.75204029e+01]\n",
            "   [3.45559959e+01 2.45559959e+01 2.25559959e+01]\n",
            "   [3.27857513e+01 2.27857494e+01 2.15714645e+01]\n",
            "   ...\n",
            "   [0.00000000e+00 2.92345881e+00 3.92345881e+00]\n",
            "   [0.00000000e+00 2.97449350e+00 3.97449350e+00]\n",
            "   [0.00000000e+00 4.00000000e+00 5.00000000e+00]]]\n",
            "\n",
            "\n",
            " [[[1.21571426e+02 1.40571426e+02 1.83571426e+02]\n",
            "   [1.19285713e+02 1.36285706e+02 1.80285706e+02]\n",
            "   [1.15780609e+02 1.29413269e+02 1.74413269e+02]\n",
            "   ...\n",
            "   [1.88642853e+02 6.06428566e+01 0.00000000e+00]\n",
            "   [1.89311234e+02 6.13112297e+01 0.00000000e+00]\n",
            "   [1.89770416e+02 6.17704201e+01 0.00000000e+00]]\n",
            "\n",
            "  [[1.33668365e+02 1.54668365e+02 2.01525513e+02]\n",
            "   [1.31852036e+02 1.49852036e+02 1.97709183e+02]\n",
            "   [1.31183670e+02 1.47341843e+02 1.94025513e+02]\n",
            "   ...\n",
            "   [1.90785736e+02 6.27857361e+01 0.00000000e+00]\n",
            "   [1.91928558e+02 6.39285583e+01 9.28558350e-01]\n",
            "   [1.89714249e+02 6.17142487e+01 0.00000000e+00]]\n",
            "\n",
            "  [[1.22775513e+02 1.44709183e+02 1.96132660e+02]\n",
            "   [1.26841835e+02 1.47142853e+02 1.98698975e+02]\n",
            "   [1.28739792e+02 1.46142853e+02 1.96739792e+02]\n",
            "   ...\n",
            "   [1.89403076e+02 6.20459366e+01 0.00000000e+00]\n",
            "   [1.89301010e+02 6.19438667e+01 0.00000000e+00]\n",
            "   [1.87571426e+02 6.02142868e+01 0.00000000e+00]]\n",
            "\n",
            "  ...\n",
            "\n",
            "  [[9.65302372e+00 1.36530237e+01 2.48672886e+01]\n",
            "   [9.85716438e+00 1.38571644e+01 2.50714283e+01]\n",
            "   [8.42854977e+00 1.24285498e+01 2.35969009e+01]\n",
            "   ...\n",
            "   [5.87857361e+01 7.02142639e+01 1.02642792e+02]\n",
            "   [6.09132500e+01 7.14847260e+01 1.03698990e+02]\n",
            "   [5.59284668e+01 6.42856750e+01 9.70714111e+01]]\n",
            "\n",
            "  [[8.02552795e+00 1.20255280e+01 2.10255280e+01]\n",
            "   [1.00050898e+01 1.40050898e+01 2.30050888e+01]\n",
            "   [6.21428585e+00 1.02142859e+01 1.92142868e+01]\n",
            "   ...\n",
            "   [5.48724861e+01 6.83010101e+01 1.02086746e+02]\n",
            "   [5.70000000e+01 7.00000000e+01 1.02000000e+02]\n",
            "   [5.43315697e+01 6.53315659e+01 9.73315659e+01]]\n",
            "\n",
            "  [[1.18418837e+01 1.58418837e+01 2.48418846e+01]\n",
            "   [8.11734390e+00 1.31173439e+01 1.91173439e+01]\n",
            "   [7.00000000e+00 1.20000000e+01 1.80000000e+01]\n",
            "   ...\n",
            "   [5.72907944e+01 7.22907944e+01 1.05290794e+02]\n",
            "   [5.74999390e+01 7.24999390e+01 1.03499939e+02]\n",
            "   [5.14437141e+01 6.44437103e+01 9.64437103e+01]]]\n",
            "\n",
            "\n",
            " [[[2.35183670e+02 2.42882660e+02 2.27413269e+02]\n",
            "   [2.39642853e+02 2.50765305e+02 2.34525513e+02]\n",
            "   [2.35204071e+02 2.47198975e+02 2.33642868e+02]\n",
            "   ...\n",
            "   [2.34061218e+02 2.26642792e+02 1.02566269e+02]\n",
            "   [2.33714294e+02 2.23622452e+02 1.00668373e+02]\n",
            "   [2.37357147e+02 2.23357147e+02 1.00357140e+02]]\n",
            "\n",
            "  [[2.31020416e+02 2.47668365e+02 2.26193878e+02]\n",
            "   [2.34352036e+02 2.54923477e+02 2.33137756e+02]\n",
            "   [2.33168365e+02 2.54683685e+02 2.36326523e+02]\n",
            "   ...\n",
            "   [2.31612198e+02 2.22183594e+02 9.89132004e+01]\n",
            "   [2.29224472e+02 2.15423447e+02 9.23571320e+01]\n",
            "   [2.26765244e+02 2.10857071e+02 8.88111572e+01]]\n",
            "\n",
            "  [[2.29571426e+02 2.40500000e+02 2.19142853e+02]\n",
            "   [2.35198975e+02 2.51025513e+02 2.30040817e+02]\n",
            "   [2.28112244e+02 2.48040817e+02 2.30586731e+02]\n",
            "   ...\n",
            "   [2.21806061e+02 2.08142761e+02 8.61427689e+01]\n",
            "   [2.18102036e+02 2.01459183e+02 7.96734619e+01]\n",
            "   [2.18367325e+02 2.00153046e+02 7.67958984e+01]]\n",
            "\n",
            "  ...\n",
            "\n",
            "  [[2.11362274e+02 2.44290787e+02 1.62709320e+02]\n",
            "   [2.07301102e+02 2.43785736e+02 1.54984818e+02]\n",
            "   [2.05331711e+02 2.44265366e+02 1.44852020e+02]\n",
            "   ...\n",
            "   [2.19617386e+02 2.47525558e+02 1.36739822e+02]\n",
            "   [2.18729599e+02 2.46943863e+02 1.36158127e+02]\n",
            "   [2.19142914e+02 2.47357178e+02 1.37352005e+02]]\n",
            "\n",
            "  [[2.04306061e+02 2.33642807e+02 1.47260025e+02]\n",
            "   [2.06918350e+02 2.39637741e+02 1.48413162e+02]\n",
            "   [2.08214279e+02 2.46086700e+02 1.47301025e+02]\n",
            "   ...\n",
            "   [2.22571472e+02 2.49801041e+02 1.36642853e+02]\n",
            "   [2.21347000e+02 2.47928558e+02 1.34780579e+02]\n",
            "   [2.23096954e+02 2.47025513e+02 1.34168274e+02]]\n",
            "\n",
            "  [[1.94673370e+02 2.25397842e+02 1.13999687e+02]\n",
            "   [2.00760101e+02 2.33688675e+02 1.29040665e+02]\n",
            "   [2.03290680e+02 2.38351898e+02 1.45438660e+02]\n",
            "   ...\n",
            "   [2.23132767e+02 2.50000000e+02 1.34224442e+02]\n",
            "   [2.24734756e+02 2.46928558e+02 1.30525452e+02]\n",
            "   [2.26000000e+02 2.45872421e+02 1.30056046e+02]]]], shape=(32, 224, 224, 3), dtype=float32) tf.Tensor(\n",
            "[[0. 1. 0. 0. 0. 0. 0. 0. 0. 0.]\n",
            " [0. 0. 0. 0. 1. 0. 0. 0. 0. 0.]\n",
            " [0. 0. 0. 0. 0. 0. 1. 0. 0. 0.]\n",
            " [0. 1. 0. 0. 0. 0. 0. 0. 0. 0.]\n",
            " [0. 0. 0. 0. 0. 0. 0. 1. 0. 0.]\n",
            " [0. 0. 1. 0. 0. 0. 0. 0. 0. 0.]\n",
            " [0. 0. 0. 0. 0. 0. 1. 0. 0. 0.]\n",
            " [0. 0. 0. 1. 0. 0. 0. 0. 0. 0.]\n",
            " [0. 0. 0. 0. 0. 0. 0. 0. 0. 1.]\n",
            " [0. 0. 0. 0. 0. 0. 0. 1. 0. 0.]\n",
            " [0. 0. 0. 0. 0. 0. 0. 0. 0. 1.]\n",
            " [0. 0. 0. 1. 0. 0. 0. 0. 0. 0.]\n",
            " [0. 0. 0. 0. 0. 0. 0. 0. 1. 0.]\n",
            " [1. 0. 0. 0. 0. 0. 0. 0. 0. 0.]\n",
            " [0. 0. 0. 1. 0. 0. 0. 0. 0. 0.]\n",
            " [0. 0. 0. 0. 0. 0. 0. 1. 0. 0.]\n",
            " [0. 0. 1. 0. 0. 0. 0. 0. 0. 0.]\n",
            " [1. 0. 0. 0. 0. 0. 0. 0. 0. 0.]\n",
            " [0. 0. 0. 0. 0. 0. 0. 1. 0. 0.]\n",
            " [0. 1. 0. 0. 0. 0. 0. 0. 0. 0.]\n",
            " [0. 1. 0. 0. 0. 0. 0. 0. 0. 0.]\n",
            " [0. 1. 0. 0. 0. 0. 0. 0. 0. 0.]\n",
            " [0. 0. 1. 0. 0. 0. 0. 0. 0. 0.]\n",
            " [0. 0. 0. 0. 0. 0. 0. 0. 1. 0.]\n",
            " [0. 0. 0. 0. 1. 0. 0. 0. 0. 0.]\n",
            " [1. 0. 0. 0. 0. 0. 0. 0. 0. 0.]\n",
            " [0. 1. 0. 0. 0. 0. 0. 0. 0. 0.]\n",
            " [0. 0. 0. 1. 0. 0. 0. 0. 0. 0.]\n",
            " [0. 1. 0. 0. 0. 0. 0. 0. 0. 0.]\n",
            " [0. 0. 0. 0. 0. 0. 0. 1. 0. 0.]\n",
            " [0. 0. 0. 0. 0. 0. 1. 0. 0. 0.]\n",
            " [1. 0. 0. 0. 0. 0. 0. 0. 0. 0.]], shape=(32, 10), dtype=float32)\n"
          ]
        }
      ]
    }
  ]
}